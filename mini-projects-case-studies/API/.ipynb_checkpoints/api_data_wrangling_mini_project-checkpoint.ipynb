{
 "cells": [
  {
   "cell_type": "markdown",
   "metadata": {},
   "source": [
    "This exercise will require you to pull some data from the Qunadl API. Qaundl is currently the most widely used aggregator of financial market data."
   ]
  },
  {
   "cell_type": "markdown",
   "metadata": {},
   "source": [
    "As a first step, you will need to register a free account on the http://www.quandl.com website."
   ]
  },
  {
   "cell_type": "markdown",
   "metadata": {},
   "source": [
    "After you register, you will be provided with a unique API key, that you should store:"
   ]
  },
  {
   "cell_type": "code",
   "execution_count": 1,
   "metadata": {},
   "outputs": [],
   "source": [
    "# Store the API key as a string - according to PEP8, constants are always named in all upper case\n",
    "API_KEY = ''"
   ]
  },
  {
   "cell_type": "markdown",
   "metadata": {},
   "source": [
    "Qaundl has a large number of data sources, but, unfortunately, most of them require a Premium subscription. Still, there are also a good number of free datasets."
   ]
  },
  {
   "cell_type": "markdown",
   "metadata": {},
   "source": [
    "For this mini project, we will focus on equities data from the Frankfurt Stock Exhange (FSE), which is available for free. We'll try and analyze the stock prices of a company called Carl Zeiss Meditec, which manufactures tools for eye examinations, as well as medical lasers for laser eye surgery: https://www.zeiss.com/meditec/int/home.html. The company is listed under the stock ticker AFX_X."
   ]
  },
  {
   "cell_type": "markdown",
   "metadata": {},
   "source": [
    "You can find the detailed Quandl API instructions here: https://docs.quandl.com/docs/time-series"
   ]
  },
  {
   "cell_type": "markdown",
   "metadata": {},
   "source": [
    "While there is a dedicated Python package for connecting to the Quandl API, we would prefer that you use the *requests* package, which can be easily downloaded using *pip* or *conda*. You can find the documentation for the package here: http://docs.python-requests.org/en/master/ "
   ]
  },
  {
   "cell_type": "markdown",
   "metadata": {},
   "source": [
    "Finally, apart from the *requests* package, you are encouraged to not use any third party Python packages, such as *pandas*, and instead focus on what's available in the Python Standard Library (the *collections* module might come in handy: https://pymotw.com/3/collections/ ).\n",
    "Also, since you won't have access to DataFrames, you are encouraged to us Python's native data structures - preferably dictionaries, though some questions can also be answered using lists.\n",
    "You can read more on these data structures here: https://docs.python.org/3/tutorial/datastructures.html"
   ]
  },
  {
   "cell_type": "markdown",
   "metadata": {},
   "source": [
    "Keep in mind that the JSON responses you will be getting from the API map almost one-to-one to Python's dictionaries. Unfortunately, they can be very nested, so make sure you read up on indexing dictionaries in the documentation provided above."
   ]
  },
  {
   "cell_type": "code",
   "execution_count": 2,
   "metadata": {},
   "outputs": [],
   "source": [
    "# First, import the relevant modules\n",
    "import requests, json"
   ]
  },
  {
   "cell_type": "code",
   "execution_count": 12,
   "metadata": {},
   "outputs": [
    {
     "name": "stdout",
     "output_type": "stream",
     "text": [
      "{\n",
      "    \"dataset\": {\n",
      "        \"id\": 10095370,\n",
      "        \"dataset_code\": \"AFX_X\",\n",
      "        \"database_code\": \"FSE\",\n",
      "        \"name\": \"Carl Zeiss Meditec (AFX_X)\",\n",
      "        \"description\": \"Stock Prices for Carl Zeiss Meditec (2020-09-11) from the Frankfurt Stock Exchange.<br><br>Trading System: Xetra<br><br>ISIN: DE0005313704\",\n",
      "        \"refreshed_at\": \"2020-09-25T22:16:18.554Z\",\n",
      "        \"newest_available_date\": \"2020-09-25\",\n",
      "        \"oldest_available_date\": \"2000-06-07\",\n",
      "        \"column_names\": [\n",
      "            \"Date\",\n",
      "            \"Open\",\n",
      "            \"High\",\n",
      "            \"Low\",\n",
      "            \"Close\",\n",
      "            \"Change\",\n",
      "            \"Traded Volume\",\n",
      "            \"Turnover\",\n",
      "            \"Last Price of the Day\",\n",
      "            \"Daily Traded Units\",\n",
      "            \"Daily Turnover\"\n",
      "        ],\n",
      "        \"frequency\": \"daily\",\n",
      "        \"type\": \"Time Series\",\n",
      "        \"premium\": false,\n",
      "        \"limit\": 1,\n",
      "        \"transform\": null,\n",
      "        \"column_index\": null,\n",
      "        \"start_date\": \"2000-06-07\",\n",
      "        \"end_date\": \"2020-09-25\",\n",
      "        \"data\": [\n",
      "            [\n",
      "                \"2020-09-25\",\n",
      "                103.6,\n",
      "                104.3,\n",
      "                102.0,\n",
      "                104.3,\n",
      "                null,\n",
      "                161192.0,\n",
      "                16673259.4,\n",
      "                null,\n",
      "                null,\n",
      "                null\n",
      "            ]\n",
      "        ],\n",
      "        \"collapse\": null,\n",
      "        \"order\": null,\n",
      "        \"database_id\": 6129\n",
      "    }\n",
      "}\n"
     ]
    }
   ],
   "source": [
    "# Now, call the Quandl API and pull out a small sample of the data (only one day) to get a glimpse\n",
    "# into the JSON structure that will be returned\n",
    "url = 'https://www.quandl.com/api/v3/datasets/FSE/AFX_X.json?rows=1&api_key='+API_KEY\n",
    "r = requests.get(url)\n",
    "json_data = r.json()\n",
    "print(json.dumps(json_data, indent=4))"
   ]
  },
  {
   "cell_type": "code",
   "execution_count": 4,
   "metadata": {},
   "outputs": [
    {
     "name": "stdout",
     "output_type": "stream",
     "text": [
      "<class 'dict'>\n"
     ]
    }
   ],
   "source": [
    "# Inspect the JSON structure of the object you created, and take note of how nested it is,\n",
    "# as well as the overall structure\n",
    "\n",
    "# NOTES: Getting a dictionary nested within a dictionary ('dataset')\n",
    "# information about dataset:\n",
    "'''\"name\": \"Carl Zeiss Meditec (AFX_X)\"\n",
    "\"newest_available_date\": \"2020-09-25\",\n",
    "\"oldest_available_date\": \"2000-06-07\"\n",
    "\"type\": \"Time Series\"''' \n",
    "# important information stored in key:value pair 'data', value for data is nested lists\n",
    "# data columns: [Open, High, Low, Close, Change, Traded Volume, Turnover, Last Price of the Day, Daily Traded Units, Daily Turnover]\n",
    "\n",
    "print(type(json_data['dataset']))"
   ]
  },
  {
   "cell_type": "markdown",
   "metadata": {},
   "source": [
    "These are your tasks for this mini project:\n",
    "\n",
    "1. Collect data from the Franfurt Stock Exchange, for the ticker AFX_X, for the whole year 2017 (keep in mind that the date format is YYYY-MM-DD).\n",
    "2. Convert the returned JSON object into a Python dictionary.\n",
    "3. Calculate what the highest and lowest opening prices were for the stock in this period.\n",
    "4. What was the largest change in any one day (based on High and Low price)?\n",
    "5. What was the largest change between any two days (based on Closing Price)?\n",
    "6. What was the average daily trading volume during this year?\n",
    "7. (Optional) What was the median trading volume during this year. (Note: you may need to implement your own function for calculating the median.)"
   ]
  },
  {
   "cell_type": "code",
   "execution_count": 5,
   "metadata": {},
   "outputs": [],
   "source": [
    "# (1. & 2.) Extracted data for 2017, ordered ascending, converted to Python dictionary   \n",
    "\n",
    "url = 'https://www.quandl.com/api/v3/datasets/FSE/AFX_X.json?start_date=2017-01-01&end_date=2017-12-31&order=asc&api_key=YkQch65rSFbhVNRMVZWr'\n",
    "r = requests.get(url)\n",
    "json_data = r.json()"
   ]
  },
  {
   "cell_type": "code",
   "execution_count": 6,
   "metadata": {},
   "outputs": [],
   "source": [
    "# Extracting 'data' key from json_data\n",
    "# Extracting column names from json_data\n",
    "\n",
    "data = json_data['dataset']['data']\n",
    "columns = json_data['dataset']['column_names']\n",
    "\n",
    "# Created a dictionary of lists: data_dict, where keys are column names, values are the values\n",
    "\n",
    "data_dict = {}\n",
    "for column_index, column in enumerate(columns):\n",
    "    data_dict[column] = []\n",
    "    for row in data:\n",
    "        data_dict[column].append(row[column_index])"
   ]
  },
  {
   "cell_type": "code",
   "execution_count": 7,
   "metadata": {},
   "outputs": [
    {
     "name": "stdout",
     "output_type": "stream",
     "text": [
      "Highest opening price: 53.11. Lowest opening price: 34.0.\n"
     ]
    }
   ],
   "source": [
    "# Calculate what the highest and lowest opening prices were for the stock in this period.\n",
    "# Extracted opening prices without None values, found max and min price \n",
    "\n",
    "opening_prices = data_dict['Open']\n",
    "valid_opening_prices = [i for i in opening_prices if i is not None]\n",
    "highest_opening = max(valid_opening_prices)\n",
    "lowest_opening = min(valid_opening_prices)\n",
    "print('Highest opening price: ' + str(highest_opening) + '.', 'Lowest opening price: ' + str(lowest_opening) + '.')"
   ]
  },
  {
   "cell_type": "code",
   "execution_count": 8,
   "metadata": {},
   "outputs": [
    {
     "name": "stdout",
     "output_type": "stream",
     "text": [
      "The largest change in any one day in 2017 was: 2.8100000000000023\n"
     ]
    }
   ],
   "source": [
    "# 4. What was the largest change in any one day (based on High and Low price)?\n",
    "# Extracted highest and lowest prices as lists from data, appended change value to new list: change_in_price\n",
    "\n",
    "highest_prices = data_dict['High']\n",
    "lowest_prices = data_dict['Low']\n",
    "\n",
    "change_in_price = []\n",
    "for high_price_index, high_price in enumerate(highest_prices):\n",
    "    low_price = lowest_prices[high_price_index]\n",
    "    change_in_price.append(high_price - low_price)\n",
    "\n",
    "largest_change = max(change_in_price)\n",
    "print('The largest change in any one day in 2017 was: ' + str(largest_change))"
   ]
  },
  {
   "cell_type": "code",
   "execution_count": 9,
   "metadata": {},
   "outputs": [
    {
     "name": "stdout",
     "output_type": "stream",
     "text": [
      "The largest change between any two days in 2017 was: 1.7199999999999989\n"
     ]
    }
   ],
   "source": [
    "# 5. What was the largest change between any two days (based on Closing Price)?\n",
    "# Note: interpreted as largest change between two subsequent days \n",
    "# Extracted closing prices from data, appended change of value to new list: change_between_days\n",
    "\n",
    "closing_prices = data_dict['Close']\n",
    "\n",
    "change_between_days = []\n",
    "previous_closing_price = None\n",
    "for closing_price in closing_prices:\n",
    "    if previous_closing_price != None:\n",
    "        change_between_days.append(closing_price - previous_closing_price)\n",
    "    previous_closing_price = closing_price\n",
    "\n",
    "largest_two_day_change = max(change_between_days)\n",
    "print('The largest change between any two days in 2017 was: ' + str(largest_two_day_change))"
   ]
  },
  {
   "cell_type": "code",
   "execution_count": 10,
   "metadata": {},
   "outputs": [
    {
     "name": "stdout",
     "output_type": "stream",
     "text": [
      "The average daily trading volume for 2017 was: 89124.33725490196\n"
     ]
    }
   ],
   "source": [
    "# 6. What was the average daily trading volume during this year?\n",
    "# Extracted daily trading volume from data, calculated the average from that\n",
    "\n",
    "trading_volume = data_dict['Traded Volume']\n",
    "average_trading_volume = sum(trading_volume)/len(trading_volume)\n",
    "print('The average daily trading volume for 2017 was: ' + str(average_trading_volume))"
   ]
  },
  {
   "cell_type": "code",
   "execution_count": 11,
   "metadata": {},
   "outputs": [
    {
     "name": "stdout",
     "output_type": "stream",
     "text": [
      "The median trading volume during 2017 was: 76286.0\n"
     ]
    }
   ],
   "source": [
    "# 7. (Optional) What was the median trading volume during this year. (Note: you may need to implement your own function for calculating the median.)\n",
    "# Function to find median, accepts one list as argument\n",
    "\n",
    "def find_median(x):\n",
    "    x_sorted = sorted(x)\n",
    "    x_len = len(x)\n",
    "    if x_len % 2 == 0: \n",
    "        median1 = x_sorted[x_len//2] \n",
    "        median2 = x_sorted[x_len//2 - 1] \n",
    "        median = (median1 + median2)/2\n",
    "    else: \n",
    "        median = x_sorted[x_len//2] \n",
    "    return median\n",
    "\n",
    "median_trading_volume = find_median(trading_volume)\n",
    "print('The median trading volume during 2017 was: ' + str(median_trading_volume)) "
   ]
  }
 ],
 "metadata": {
  "kernelspec": {
   "display_name": "Python 3",
   "language": "python",
   "name": "python3"
  },
  "language_info": {
   "codemirror_mode": {
    "name": "ipython",
    "version": 3
   },
   "file_extension": ".py",
   "mimetype": "text/x-python",
   "name": "python",
   "nbconvert_exporter": "python",
   "pygments_lexer": "ipython3",
   "version": "3.7.6"
  }
 },
 "nbformat": 4,
 "nbformat_minor": 2
}
