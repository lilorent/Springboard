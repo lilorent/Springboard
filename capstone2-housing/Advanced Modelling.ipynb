{
 "cells": [
  {
   "cell_type": "markdown",
   "id": "nasty-measurement",
   "metadata": {},
   "source": [
    "# Advanced Modelling"
   ]
  },
  {
   "cell_type": "markdown",
   "id": "imperial-bathroom",
   "metadata": {},
   "source": [
    "Now that I have found a base model to work with, let's see how I can improve upon or build a better competing model. In this part of the project, I will be attempting to optimize the Ridge Regression base model. In addition, I will build RandomForest, Light Gradient Boosting Machine (LGBM), and Extreme Gradient Boosting (XGBoost) models and compare their performance against the optimized Ridge Regression. "
   ]
  },
  {
   "cell_type": "code",
   "execution_count": 1,
   "id": "generic-surfing",
   "metadata": {},
   "outputs": [],
   "source": [
    "import pandas as pd\n",
    "import numpy as np\n",
    "import matplotlib.pyplot as plt\n",
    "import seaborn as sns\n",
    "from sklearn.linear_model import Ridge\n",
    "from sklearn.ensemble import RandomForestRegressor\n",
    "from sklearn.metrics import mean_absolute_error\n",
    "import pickle"
   ]
  },
  {
   "cell_type": "code",
   "execution_count": 2,
   "id": "intellectual-recruitment",
   "metadata": {},
   "outputs": [],
   "source": [
    "df = pd.read_csv('../capstone2-housing/documents/final_housing_df.csv', index_col=0)\n",
    "f_pairs = pd.read_csv('../capstone2-housing/documents/feature_pairs_df.csv', index_col=0)\n",
    "ft_pairs = pd.read_csv('../capstone2-housing/documents/feature_target_df.csv', index_col=0)"
   ]
  },
  {
   "cell_type": "code",
   "execution_count": 3,
   "id": "cathedral-activation",
   "metadata": {},
   "outputs": [],
   "source": [
    "X_train = pickle.load(open('X_train', 'rb'))\n",
    "X_test = pickle.load(open('X_test', 'rb'))\n",
    "y_train = pickle.load(open('y_train', 'rb'))\n",
    "y_test = pickle.load(open('y_test', 'rb'))\n",
    "\n",
    "model1 = pickle.load(open('RR_base', 'rb'))"
   ]
  },
  {
   "cell_type": "markdown",
   "id": "pleasant-pursuit",
   "metadata": {},
   "source": [
    "  "
   ]
  },
  {
   "cell_type": "markdown",
   "id": "dense-bhutan",
   "metadata": {},
   "source": [
    "Okay, now that everything has been imported, the fun can begin. First, I want to try to improve on my Ridge Regression base model. In the EDA part of this project, I created two data sets: ***Feature - Target*** and ***Feature - Feature*** pairs. Let's take a look at them below."
   ]
  },
  {
   "cell_type": "markdown",
   "id": "diverse-baseline",
   "metadata": {},
   "source": [
    "  "
   ]
  },
  {
   "cell_type": "code",
   "execution_count": 4,
   "id": "labeled-reproduction",
   "metadata": {
    "scrolled": true
   },
   "outputs": [
    {
     "name": "stdout",
     "output_type": "stream",
     "text": [
      "<class 'pandas.core.frame.DataFrame'>\n",
      "Int64Index: 25 entries, 0 to 24\n",
      "Data columns (total 2 columns):\n",
      " #   Column     Non-Null Count  Dtype  \n",
      "---  ------     --------------  -----  \n",
      " 0   Feature    25 non-null     object \n",
      " 1   Corr Coef  25 non-null     float64\n",
      "dtypes: float64(1), object(1)\n",
      "memory usage: 600.0+ bytes\n",
      "None\n",
      "                 Feature  Corr Coef\n",
      "0              GrLivArea   0.708624\n",
      "1             GarageCars   0.640409\n",
      "2             GarageArea   0.623431\n",
      "3            TotalBsmtSF   0.613581\n",
      "4               1stFlrSF   0.605852\n",
      "5           ExterQual_TA   0.589044\n",
      "6               FullBath   0.560664\n",
      "7            BsmtQual_Ex   0.553105\n",
      "8           TotRmsAbvGrd   0.533723\n",
      "9         KitchenQual_TA   0.519298\n",
      "10        KitchenQual_Ex   0.504094\n",
      "11      Foundation_PConc   0.497734\n",
      "12            MasVnrArea   0.472614\n",
      "13        FireplaceQu_Na   0.471908\n",
      "14            Fireplaces   0.466929\n",
      "15          ExterQual_Gd   0.452466\n",
      "16           BsmtQual_TA   0.452394\n",
      "17          ExterQual_Ex   0.451164\n",
      "18      BsmtFinType1_GLQ   0.434597\n",
      "19          HeatingQC_Ex   0.434543\n",
      "20         OverallQual_8   0.425979\n",
      "21      GarageFinish_Fin   0.419678\n",
      "22      GarageFinish_Unf   0.410608\n",
      "23         OverallQual_9   0.409296\n",
      "24  Neighborhood_NridgHt   0.402149\n"
     ]
    }
   ],
   "source": [
    "print(ft_pairs.info())\n",
    "print(ft_pairs)"
   ]
  },
  {
   "cell_type": "code",
   "execution_count": 5,
   "id": "collective-family",
   "metadata": {
    "scrolled": true
   },
   "outputs": [
    {
     "name": "stdout",
     "output_type": "stream",
     "text": [
      "<class 'pandas.core.frame.DataFrame'>\n",
      "Int64Index: 138 entries, 0 to 137\n",
      "Data columns (total 3 columns):\n",
      " #   Column     Non-Null Count  Dtype  \n",
      "---  ------     --------------  -----  \n",
      " 0   Feature1   138 non-null    object \n",
      " 1   Feature2   138 non-null    object \n",
      " 2   Corr Coef  138 non-null    float64\n",
      "dtypes: float64(1), object(2)\n",
      "memory usage: 4.3+ KB\n",
      "None\n",
      "                 Feature1          Feature2  Corr Coef\n",
      "0            ExterQual_Gd      ExterQual_TA   0.906121\n",
      "1              Fireplaces    FireplaceQu_Na   0.900457\n",
      "2              GarageCars        GarageArea   0.882475\n",
      "3               GrLivArea      TotRmsAbvGrd   0.825489\n",
      "4          KitchenQual_Gd    KitchenQual_TA   0.824457\n",
      "..                    ...               ...        ...\n",
      "133  Neighborhood_NridgHt    KitchenQual_Ex   0.409159\n",
      "134           BsmtQual_TA  GarageFinish_Unf   0.408701\n",
      "135          ExterQual_TA      HeatingQC_TA   0.407461\n",
      "136              FullBath        GarageArea   0.405656\n",
      "137           TotalBsmtSF       BsmtQual_Ex   0.403166\n",
      "\n",
      "[138 rows x 3 columns]\n"
     ]
    }
   ],
   "source": [
    "print(f_pairs.info())\n",
    "print(f_pairs)"
   ]
  },
  {
   "cell_type": "markdown",
   "id": "impressed-rings",
   "metadata": {},
   "source": [
    "  "
   ]
  },
  {
   "cell_type": "markdown",
   "id": "eleven-finish",
   "metadata": {},
   "source": [
    "I have 25 features that have a relatively high correlation with the target, and 138 feature-feature combinations with high correlation between the features in each combination. To begin with, I will create a filter with the 25 features from the feature-target set. I will create a new X_train with this filter and refit my model  to see how it performs."
   ]
  },
  {
   "cell_type": "markdown",
   "id": "aboriginal-barrier",
   "metadata": {},
   "source": [
    "  "
   ]
  },
  {
   "cell_type": "code",
   "execution_count": 6,
   "id": "residential-birthday",
   "metadata": {},
   "outputs": [
    {
     "name": "stdout",
     "output_type": "stream",
     "text": [
      "['GrLivArea', 'GarageCars', 'GarageArea', 'TotalBsmtSF', '1stFlrSF', 'ExterQual_TA', 'FullBath', 'BsmtQual_Ex', 'TotRmsAbvGrd', 'KitchenQual_TA', 'KitchenQual_Ex', 'Foundation_PConc', 'MasVnrArea', 'FireplaceQu_Na', 'Fireplaces', 'ExterQual_Gd', 'BsmtQual_TA', 'ExterQual_Ex', 'BsmtFinType1_GLQ', 'HeatingQC_Ex', 'OverallQual_8', 'GarageFinish_Fin', 'GarageFinish_Unf', 'OverallQual_9', 'Neighborhood_NridgHt']\n"
     ]
    }
   ],
   "source": [
    "ft_pair_list = list(ft_pairs['Feature'])\n",
    "print(ft_pair_list)"
   ]
  },
  {
   "cell_type": "code",
   "execution_count": 7,
   "id": "aging-might",
   "metadata": {
    "scrolled": false
   },
   "outputs": [
    {
     "data": {
      "text/html": [
       "<div>\n",
       "<style scoped>\n",
       "    .dataframe tbody tr th:only-of-type {\n",
       "        vertical-align: middle;\n",
       "    }\n",
       "\n",
       "    .dataframe tbody tr th {\n",
       "        vertical-align: top;\n",
       "    }\n",
       "\n",
       "    .dataframe thead th {\n",
       "        text-align: right;\n",
       "    }\n",
       "</style>\n",
       "<table border=\"1\" class=\"dataframe\">\n",
       "  <thead>\n",
       "    <tr style=\"text-align: right;\">\n",
       "      <th></th>\n",
       "      <th>GrLivArea</th>\n",
       "      <th>GarageCars</th>\n",
       "      <th>GarageArea</th>\n",
       "      <th>TotalBsmtSF</th>\n",
       "      <th>1stFlrSF</th>\n",
       "      <th>ExterQual_TA</th>\n",
       "      <th>FullBath</th>\n",
       "      <th>BsmtQual_Ex</th>\n",
       "      <th>TotRmsAbvGrd</th>\n",
       "      <th>KitchenQual_TA</th>\n",
       "      <th>...</th>\n",
       "      <th>ExterQual_Gd</th>\n",
       "      <th>BsmtQual_TA</th>\n",
       "      <th>ExterQual_Ex</th>\n",
       "      <th>BsmtFinType1_GLQ</th>\n",
       "      <th>HeatingQC_Ex</th>\n",
       "      <th>OverallQual_8</th>\n",
       "      <th>GarageFinish_Fin</th>\n",
       "      <th>GarageFinish_Unf</th>\n",
       "      <th>OverallQual_9</th>\n",
       "      <th>Neighborhood_NridgHt</th>\n",
       "    </tr>\n",
       "  </thead>\n",
       "  <tbody>\n",
       "    <tr>\n",
       "      <th>0</th>\n",
       "      <td>-0.613684</td>\n",
       "      <td>-0.729569</td>\n",
       "      <td>1.276231</td>\n",
       "      <td>0.297379</td>\n",
       "      <td>0.063291</td>\n",
       "      <td>0.0</td>\n",
       "      <td>-1.027466</td>\n",
       "      <td>0.0</td>\n",
       "      <td>-0.952983</td>\n",
       "      <td>0.0</td>\n",
       "      <td>...</td>\n",
       "      <td>0.0</td>\n",
       "      <td>0.0</td>\n",
       "      <td>0.0</td>\n",
       "      <td>0.0</td>\n",
       "      <td>0.0</td>\n",
       "      <td>0.0</td>\n",
       "      <td>0.0</td>\n",
       "      <td>0.0</td>\n",
       "      <td>0.0</td>\n",
       "      <td>0.0</td>\n",
       "    </tr>\n",
       "    <tr>\n",
       "      <th>1</th>\n",
       "      <td>-1.520937</td>\n",
       "      <td>-2.201913</td>\n",
       "      <td>-0.753917</td>\n",
       "      <td>-0.791134</td>\n",
       "      <td>-1.172651</td>\n",
       "      <td>0.0</td>\n",
       "      <td>-1.027466</td>\n",
       "      <td>0.0</td>\n",
       "      <td>-0.952983</td>\n",
       "      <td>0.0</td>\n",
       "      <td>...</td>\n",
       "      <td>0.0</td>\n",
       "      <td>0.0</td>\n",
       "      <td>0.0</td>\n",
       "      <td>0.0</td>\n",
       "      <td>0.0</td>\n",
       "      <td>0.0</td>\n",
       "      <td>1.0</td>\n",
       "      <td>0.0</td>\n",
       "      <td>0.0</td>\n",
       "      <td>0.0</td>\n",
       "    </tr>\n",
       "    <tr>\n",
       "      <th>2</th>\n",
       "      <td>-0.559989</td>\n",
       "      <td>0.143455</td>\n",
       "      <td>0.552845</td>\n",
       "      <td>0.297379</td>\n",
       "      <td>0.136438</td>\n",
       "      <td>0.0</td>\n",
       "      <td>0.781337</td>\n",
       "      <td>0.0</td>\n",
       "      <td>-0.952983</td>\n",
       "      <td>1.0</td>\n",
       "      <td>...</td>\n",
       "      <td>0.0</td>\n",
       "      <td>0.0</td>\n",
       "      <td>0.0</td>\n",
       "      <td>0.0</td>\n",
       "      <td>0.0</td>\n",
       "      <td>1.0</td>\n",
       "      <td>0.0</td>\n",
       "      <td>0.0</td>\n",
       "      <td>0.0</td>\n",
       "      <td>0.0</td>\n",
       "    </tr>\n",
       "    <tr>\n",
       "      <th>3</th>\n",
       "      <td>-0.717370</td>\n",
       "      <td>-0.073621</td>\n",
       "      <td>1.206226</td>\n",
       "      <td>0.172977</td>\n",
       "      <td>-0.077960</td>\n",
       "      <td>0.0</td>\n",
       "      <td>-1.027466</td>\n",
       "      <td>0.0</td>\n",
       "      <td>-0.952983</td>\n",
       "      <td>1.0</td>\n",
       "      <td>...</td>\n",
       "      <td>0.0</td>\n",
       "      <td>0.0</td>\n",
       "      <td>0.0</td>\n",
       "      <td>0.0</td>\n",
       "      <td>0.0</td>\n",
       "      <td>0.0</td>\n",
       "      <td>0.0</td>\n",
       "      <td>0.0</td>\n",
       "      <td>0.0</td>\n",
       "      <td>0.0</td>\n",
       "    </tr>\n",
       "    <tr>\n",
       "      <th>4</th>\n",
       "      <td>-0.074887</td>\n",
       "      <td>0.431317</td>\n",
       "      <td>0.366165</td>\n",
       "      <td>0.886064</td>\n",
       "      <td>0.797289</td>\n",
       "      <td>1.0</td>\n",
       "      <td>0.781337</td>\n",
       "      <td>0.0</td>\n",
       "      <td>-0.952983</td>\n",
       "      <td>1.0</td>\n",
       "      <td>...</td>\n",
       "      <td>0.0</td>\n",
       "      <td>0.0</td>\n",
       "      <td>0.0</td>\n",
       "      <td>0.0</td>\n",
       "      <td>0.0</td>\n",
       "      <td>1.0</td>\n",
       "      <td>0.0</td>\n",
       "      <td>1.0</td>\n",
       "      <td>0.0</td>\n",
       "      <td>0.0</td>\n",
       "    </tr>\n",
       "  </tbody>\n",
       "</table>\n",
       "<p>5 rows × 25 columns</p>\n",
       "</div>"
      ],
      "text/plain": [
       "   GrLivArea  GarageCars  GarageArea  TotalBsmtSF  1stFlrSF  ExterQual_TA  \\\n",
       "0  -0.613684   -0.729569    1.276231     0.297379  0.063291           0.0   \n",
       "1  -1.520937   -2.201913   -0.753917    -0.791134 -1.172651           0.0   \n",
       "2  -0.559989    0.143455    0.552845     0.297379  0.136438           0.0   \n",
       "3  -0.717370   -0.073621    1.206226     0.172977 -0.077960           0.0   \n",
       "4  -0.074887    0.431317    0.366165     0.886064  0.797289           1.0   \n",
       "\n",
       "   FullBath  BsmtQual_Ex  TotRmsAbvGrd  KitchenQual_TA  ...  ExterQual_Gd  \\\n",
       "0 -1.027466          0.0     -0.952983             0.0  ...           0.0   \n",
       "1 -1.027466          0.0     -0.952983             0.0  ...           0.0   \n",
       "2  0.781337          0.0     -0.952983             1.0  ...           0.0   \n",
       "3 -1.027466          0.0     -0.952983             1.0  ...           0.0   \n",
       "4  0.781337          0.0     -0.952983             1.0  ...           0.0   \n",
       "\n",
       "   BsmtQual_TA  ExterQual_Ex  BsmtFinType1_GLQ  HeatingQC_Ex  OverallQual_8  \\\n",
       "0          0.0           0.0               0.0           0.0            0.0   \n",
       "1          0.0           0.0               0.0           0.0            0.0   \n",
       "2          0.0           0.0               0.0           0.0            1.0   \n",
       "3          0.0           0.0               0.0           0.0            0.0   \n",
       "4          0.0           0.0               0.0           0.0            1.0   \n",
       "\n",
       "   GarageFinish_Fin  GarageFinish_Unf  OverallQual_9  Neighborhood_NridgHt  \n",
       "0               0.0               0.0            0.0                   0.0  \n",
       "1               1.0               0.0            0.0                   0.0  \n",
       "2               0.0               0.0            0.0                   0.0  \n",
       "3               0.0               0.0            0.0                   0.0  \n",
       "4               0.0               1.0            0.0                   0.0  \n",
       "\n",
       "[5 rows x 25 columns]"
      ]
     },
     "execution_count": 7,
     "metadata": {},
     "output_type": "execute_result"
    }
   ],
   "source": [
    "X_train_new = X_train[ft_pair_list]\n",
    "X_train_new.head()"
   ]
  },
  {
   "cell_type": "markdown",
   "id": "civic-somerset",
   "metadata": {},
   "source": [
    "  "
   ]
  },
  {
   "cell_type": "markdown",
   "id": "timely-boost",
   "metadata": {},
   "source": [
    "Now that I have a new training data-set, let's refit my model."
   ]
  },
  {
   "cell_type": "markdown",
   "id": "trying-caution",
   "metadata": {},
   "source": [
    "  "
   ]
  },
  {
   "cell_type": "code",
   "execution_count": 8,
   "id": "minus-trance",
   "metadata": {},
   "outputs": [
    {
     "name": "stdout",
     "output_type": "stream",
     "text": [
      "Ridge Regression R2 score: 0.7446356405249538 , Ridge Regression MAE: 25526.80880596362\n"
     ]
    }
   ],
   "source": [
    "model1.fit(X_train_new, y_train)\n",
    "mod1_y_train_pred = model1.predict(X_train_new)\n",
    "mod1_r2_train = model1.score(X_train_new, y_train)\n",
    "mod1_mae_train = mean_absolute_error(y_train, mod1_y_train_pred)\n",
    "print('Ridge Regression R2 score:', mod1_r2_train, ', Ridge Regression MAE:', mod1_mae_train)"
   ]
  },
  {
   "cell_type": "markdown",
   "id": "controlling-interference",
   "metadata": {},
   "source": [
    "  "
   ]
  },
  {
   "cell_type": "markdown",
   "id": "sized-participant",
   "metadata": {},
   "source": [
    "Reminder: the base model training score was:  \n",
    "*Ridge R2 score: 0.9541983341629067 , Ridge MAE: 11022.373245216*  \n",
    "Does that mean that this model, through feature selection has become less overfitted?  \n",
    "  \n",
    "I will apply the same feature selection filter on my test set and see how the model performs."
   ]
  },
  {
   "cell_type": "markdown",
   "id": "offensive-finnish",
   "metadata": {},
   "source": [
    "  "
   ]
  },
  {
   "cell_type": "code",
   "execution_count": 9,
   "id": "expensive-ordinary",
   "metadata": {},
   "outputs": [],
   "source": [
    "X_test_new = X_test[ft_pair_list]"
   ]
  },
  {
   "cell_type": "code",
   "execution_count": 10,
   "id": "charged-amino",
   "metadata": {},
   "outputs": [
    {
     "name": "stdout",
     "output_type": "stream",
     "text": [
      "Ridge Regression R2 score: 0.7387245223232938 , Ridge Regression MAE: 26260.3975642835\n"
     ]
    }
   ],
   "source": [
    "mod1_y_test_pred = model1.predict(X_test_new)\n",
    "mod1_r2_test = model1.score(X_test_new, y_test)\n",
    "mod1_mae_test = mean_absolute_error(y_test, mod1_y_test_pred)\n",
    "print('Ridge Regression R2 score:', mod1_r2_test, ', Ridge Regression MAE:', mod1_mae_test)"
   ]
  },
  {
   "cell_type": "markdown",
   "id": "polish-january",
   "metadata": {},
   "source": [
    " "
   ]
  },
  {
   "cell_type": "markdown",
   "id": "operating-peninsula",
   "metadata": {},
   "source": [
    "Indeed, compared to the base model test scores:  \n",
    "*Ridge R2 score: 0.8353466836793504 , Ridge MAE: 20668.859316633*  \n",
    "this model performs worse after feature selection, however, the difference between train and test score is now very small."
   ]
  },
  {
   "cell_type": "markdown",
   "id": "modified-norway",
   "metadata": {},
   "source": [
    " "
   ]
  },
  {
   "cell_type": "markdown",
   "id": "hundred-aruba",
   "metadata": {},
   "source": [
    "# TESTS BELOW"
   ]
  },
  {
   "cell_type": "code",
   "execution_count": 11,
   "id": "running-century",
   "metadata": {},
   "outputs": [
    {
     "name": "stdout",
     "output_type": "stream",
     "text": [
      "LinReg Train R2 score: 0.7446359555925534 , LinReg Train MAE: 25529.09335324988\n"
     ]
    }
   ],
   "source": [
    "# LINEARREGRESSION TEST BELOW - DISREGARD\n",
    "from sklearn.linear_model import LinearRegression\n",
    "LinReg = LinearRegression()\n",
    "LinReg.fit(X_train_new, y_train)\n",
    "y_train_pred = LinReg.predict(X_train_new)\n",
    "r2_train = LinReg.score(X_train_new, y_train)\n",
    "mae_train = mean_absolute_error(y_train, y_train_pred)\n",
    "print('LinReg Train R2 score:', r2_train, ', LinReg Train MAE:', mae_train)"
   ]
  },
  {
   "cell_type": "code",
   "execution_count": 12,
   "id": "mighty-vatican",
   "metadata": {},
   "outputs": [
    {
     "name": "stdout",
     "output_type": "stream",
     "text": [
      "LinReg Test R2 score: 0.738668996375156 , Linreg Test MAE: 26264.13492918781\n"
     ]
    }
   ],
   "source": [
    "y_test_pred = LinReg.predict(X_test_new)\n",
    "r2_test = LinReg.score(X_test_new, y_test)\n",
    "mae_test = mean_absolute_error(y_test, y_test_pred)\n",
    "print('LinReg Test R2 score:', r2_test, ', Linreg Test MAE:', mae_test)"
   ]
  },
  {
   "cell_type": "code",
   "execution_count": 13,
   "id": "abroad-respondent",
   "metadata": {},
   "outputs": [
    {
     "name": "stdout",
     "output_type": "stream",
     "text": [
      "Lasso Train R2 score: 0.7446359189820538 , Lasso Train MAE: 25528.797812527744\n"
     ]
    }
   ],
   "source": [
    "# LASSO TEST BELOW - DISREGARD\n",
    "from sklearn.linear_model import Lasso\n",
    "model3 = Lasso(alpha=0.4)\n",
    "model3.fit(X_train_new, y_train)\n",
    "mod3_y_train_pred = model3.predict(X_train_new)\n",
    "mod3_r2_train = model3.score(X_train_new, y_train)\n",
    "mod3_mae_train = mean_absolute_error(y_train, mod3_y_train_pred)\n",
    "print('Lasso Train R2 score:', mod3_r2_train, ', Lasso Train MAE:', mod3_mae_train)"
   ]
  },
  {
   "cell_type": "code",
   "execution_count": 14,
   "id": "pointed-liability",
   "metadata": {},
   "outputs": [
    {
     "name": "stdout",
     "output_type": "stream",
     "text": [
      "Lasso Test R2 score: 0.7386783119095597 , Lasso Test MAE: 26263.96939710893\n"
     ]
    }
   ],
   "source": [
    "mod3_y_test_pred = model3.predict(X_test_new)\n",
    "mod3_r2_test = model3.score(X_test_new, y_test)\n",
    "mod3_mae_test = mean_absolute_error(y_test, mod3_y_test_pred)\n",
    "print('Lasso Test R2 score:', mod3_r2_test, ', Lasso Test MAE:', mod3_mae_test)"
   ]
  },
  {
   "cell_type": "markdown",
   "id": "universal-dream",
   "metadata": {},
   "source": [
    "# TESTS ABOVE"
   ]
  }
 ],
 "metadata": {
  "kernelspec": {
   "display_name": "Python 3",
   "language": "python",
   "name": "python3"
  },
  "language_info": {
   "codemirror_mode": {
    "name": "ipython",
    "version": 3
   },
   "file_extension": ".py",
   "mimetype": "text/x-python",
   "name": "python",
   "nbconvert_exporter": "python",
   "pygments_lexer": "ipython3",
   "version": "3.7.6"
  }
 },
 "nbformat": 4,
 "nbformat_minor": 5
}
