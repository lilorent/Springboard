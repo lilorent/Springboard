{
 "cells": [
  {
   "cell_type": "markdown",
   "metadata": {},
   "source": [
    "# Exploratory Data Analysis (EDA)"
   ]
  },
  {
   "cell_type": "markdown",
   "metadata": {},
   "source": [
    "Now that I've have completed an initial cleaning of the data, it's time to explore what data I am looking at.\n",
    "During my EDA, I will explore the missing values and decide on how to deal with that data. I will decide on my dependent variable, and explore its correlation to the features as well as correlations between the different features."
   ]
  },
  {
   "cell_type": "code",
   "execution_count": 1,
   "metadata": {},
   "outputs": [],
   "source": [
    "# importing packages\n",
    "import pandas as pd\n",
    "import numpy as np\n",
    "import seaborn as sns\n",
    "import matplotlib.pyplot as plt"
   ]
  },
  {
   "cell_type": "code",
   "execution_count": 2,
   "metadata": {},
   "outputs": [],
   "source": [
    "# Downloading cvs files\n",
    "housing = pd.read_csv('../capstone2-housing/rawdata/cleaned_data.csv', index_col=0, parse_dates=['YrMoSold'])\n",
    "data_dict = pd.read_csv('../capstone2-housing/documents/data_dictionary.csv', index_col=0)"
   ]
  },
  {
   "cell_type": "markdown",
   "metadata": {},
   "source": [
    "All the rows in the data dictionary that have a value in column \"Note\" indicate categorical data in this data set. I will use the data dictionary to parse over my data set and change the dtype of those columns to objects (including columns Id and GarageYrBlt)."
   ]
  },
  {
   "cell_type": "code",
   "execution_count": 3,
   "metadata": {},
   "outputs": [
    {
     "name": "stdout",
     "output_type": "stream",
     "text": [
      "<class 'pandas.core.frame.DataFrame'>\n",
      "RangeIndex: 1460 entries, 0 to 1459\n",
      "Data columns (total 80 columns):\n",
      " #   Column         Non-Null Count  Dtype         \n",
      "---  ------         --------------  -----         \n",
      " 0   Id             1460 non-null   object        \n",
      " 1   MSSubClass     1460 non-null   object        \n",
      " 2   MSZoning       1460 non-null   object        \n",
      " 3   LotFrontage    1201 non-null   float64       \n",
      " 4   LotArea        1460 non-null   int64         \n",
      " 5   Street         1460 non-null   object        \n",
      " 6   Alley          91 non-null     object        \n",
      " 7   LotShape       1460 non-null   object        \n",
      " 8   LandContour    1460 non-null   object        \n",
      " 9   Utilities      1460 non-null   object        \n",
      " 10  LotConfig      1460 non-null   object        \n",
      " 11  LandSlope      1460 non-null   object        \n",
      " 12  Neighborhood   1460 non-null   object        \n",
      " 13  Condition1     1460 non-null   object        \n",
      " 14  Condition2     1460 non-null   object        \n",
      " 15  BldgType       1460 non-null   object        \n",
      " 16  HouseStyle     1460 non-null   object        \n",
      " 17  OverallQual    1460 non-null   object        \n",
      " 18  OverallCond    1460 non-null   object        \n",
      " 19  YearBuilt      1460 non-null   int64         \n",
      " 20  YearRemodAdd   1460 non-null   int64         \n",
      " 21  RoofStyle      1460 non-null   object        \n",
      " 22  RoofMatl       1460 non-null   object        \n",
      " 23  Exterior1st    1460 non-null   object        \n",
      " 24  Exterior2nd    1460 non-null   object        \n",
      " 25  MasVnrType     1452 non-null   object        \n",
      " 26  MasVnrArea     1452 non-null   float64       \n",
      " 27  ExterQual      1460 non-null   object        \n",
      " 28  ExterCond      1460 non-null   object        \n",
      " 29  Foundation     1460 non-null   object        \n",
      " 30  BsmtQual       1423 non-null   object        \n",
      " 31  BsmtCond       1423 non-null   object        \n",
      " 32  BsmtExposure   1422 non-null   object        \n",
      " 33  BsmtFinType1   1423 non-null   object        \n",
      " 34  BsmtFinSF1     1460 non-null   int64         \n",
      " 35  BsmtFinType2   1422 non-null   object        \n",
      " 36  BsmtFinSF2     1460 non-null   int64         \n",
      " 37  BsmtUnfSF      1460 non-null   int64         \n",
      " 38  TotalBsmtSF    1460 non-null   int64         \n",
      " 39  Heating        1460 non-null   object        \n",
      " 40  HeatingQC      1460 non-null   object        \n",
      " 41  CentralAir     1460 non-null   object        \n",
      " 42  Electrical     1459 non-null   object        \n",
      " 43  1stFlrSF       1460 non-null   int64         \n",
      " 44  2ndFlrSF       1460 non-null   int64         \n",
      " 45  LowQualFinSF   1460 non-null   int64         \n",
      " 46  GrLivArea      1460 non-null   int64         \n",
      " 47  BsmtFullBath   1460 non-null   int64         \n",
      " 48  BsmtHalfBath   1460 non-null   int64         \n",
      " 49  FullBath       1460 non-null   int64         \n",
      " 50  HalfBath       1460 non-null   int64         \n",
      " 51  BedroomAbvGr   1460 non-null   int64         \n",
      " 52  KitchenAbvGr   1460 non-null   int64         \n",
      " 53  KitchenQual    1460 non-null   object        \n",
      " 54  TotRmsAbvGrd   1460 non-null   int64         \n",
      " 55  Functional     1460 non-null   object        \n",
      " 56  Fireplaces     1460 non-null   int64         \n",
      " 57  FireplaceQu    770 non-null    object        \n",
      " 58  GarageType     1379 non-null   object        \n",
      " 59  GarageYrBlt    1379 non-null   object        \n",
      " 60  GarageFinish   1379 non-null   object        \n",
      " 61  GarageCars     1460 non-null   int64         \n",
      " 62  GarageArea     1460 non-null   int64         \n",
      " 63  GarageQual     1379 non-null   object        \n",
      " 64  GarageCond     1379 non-null   object        \n",
      " 65  PavedDrive     1460 non-null   object        \n",
      " 66  WoodDeckSF     1460 non-null   int64         \n",
      " 67  OpenPorchSF    1460 non-null   int64         \n",
      " 68  EnclosedPorch  1460 non-null   int64         \n",
      " 69  3SsnPorch      1460 non-null   int64         \n",
      " 70  ScreenPorch    1460 non-null   int64         \n",
      " 71  PoolArea       1460 non-null   int64         \n",
      " 72  PoolQC         7 non-null      object        \n",
      " 73  Fence          281 non-null    object        \n",
      " 74  MiscFeature    54 non-null     object        \n",
      " 75  MiscVal        1460 non-null   int64         \n",
      " 76  SaleType       1460 non-null   object        \n",
      " 77  SaleCondition  1460 non-null   object        \n",
      " 78  SalePrice      1460 non-null   int64         \n",
      " 79  YrMoSold       1460 non-null   datetime64[ns]\n",
      "dtypes: datetime64[ns](1), float64(2), int64(29), object(48)\n",
      "memory usage: 912.6+ KB\n"
     ]
    }
   ],
   "source": [
    "# Creating list of columns that should have categorical dtype\n",
    "dtype_object = ['Id', 'GarageYrBlt']\n",
    "for index, row in data_dict.iterrows():\n",
    "    if pd.notnull(row[2]):\n",
    "        dtype_object.append(row[0])\n",
    "\n",
    "# Casting correct dtypes for categorical data columns and creating new df for cleaned housing data\n",
    "housing_dtypes = housing[dtype_object].astype('object')\n",
    "housing = housing.merge(housing_dtypes).drop_duplicates(keep='first').reset_index(drop=True)\n",
    "housing.info()"
   ]
  },
  {
   "cell_type": "markdown",
   "metadata": {},
   "source": [
    "Now, let's start with deciding on a dependent variable. Since all final closing prices are available, and my goal with this project is to build a model to predict final closing prices, I will start with considering using the column SalePrice as the dependent variable. Let's take a closer look at the column."
   ]
  },
  {
   "cell_type": "code",
   "execution_count": 4,
   "metadata": {},
   "outputs": [
    {
     "data": {
      "text/plain": [
       "count      1460.000000\n",
       "mean     180921.195890\n",
       "std       79442.502883\n",
       "min       34900.000000\n",
       "25%      129975.000000\n",
       "50%      163000.000000\n",
       "75%      214000.000000\n",
       "max      755000.000000\n",
       "Name: SalePrice, dtype: float64"
      ]
     },
     "execution_count": 4,
     "metadata": {},
     "output_type": "execute_result"
    }
   ],
   "source": [
    "housing['SalePrice'].describe()"
   ]
  },
  {
   "cell_type": "code",
   "execution_count": 5,
   "metadata": {},
   "outputs": [
    {
     "data": {
      "image/png": "[encoded data removed]",
      "text/plain": [
       "<Figure size 432x288 with 1 Axes>"
      ]
     },
     "metadata": {
      "needs_background": "light"
     },
     "output_type": "display_data"
    }
   ],
   "source": [
    "bins = int(np.sqrt(housing['SalePrice'].count()))\n",
    "_ = sns.histplot(x='SalePrice', data=housing, bins=bins)"
   ]
  },
  {
   "cell_type": "markdown",
   "metadata": {},
   "source": [
    "Looks like the final SalePrice in Iowa is a continuous value that ranges between 34900 and 755000. Has a mean of 180921.2 and a standard deviation of 79442.5. So I will be moving forward with SalePrice as my dependent variable.  \n",
    "Have the final sale prices varied a lot over the years?"
   ]
  },
  {
   "cell_type": "code",
   "execution_count": 6,
   "metadata": {},
   "outputs": [
    {
     "data": {
      "image/png": "[encoded data removed]",
      "text/plain": [
       "<Figure size 576x576 with 1 Axes>"
      ]
     },
     "metadata": {
      "needs_background": "light"
     },
     "output_type": "display_data"
    }
   ],
   "source": [
    "year_sold = housing['YrMoSold'].dt.year\n",
    "_ = plt.figure(figsize=(8,8))\n",
    "_ = sns.boxplot(x=year_sold, y='SalePrice', data=housing)"
   ]
  },
  {
   "cell_type": "markdown",
   "metadata": {},
   "source": [
    "Seems like they have approximately same average value throughout the past year. \n",
    "  \n",
    "So I will be working with sale prices but before we move on let's take a look at the missing values I identified during Data Wrangling and decide what to do with them."
   ]
  },
  {
   "cell_type": "code",
   "execution_count": 7,
   "metadata": {},
   "outputs": [
    {
     "data": {
      "text/html": [
       "<div>\n",
       "<style scoped>\n",
       "    .dataframe tbody tr th:only-of-type {\n",
       "        vertical-align: middle;\n",
       "    }\n",
       "\n",
       "    .dataframe tbody tr th {\n",
       "        vertical-align: top;\n",
       "    }\n",
       "\n",
       "    .dataframe thead th {\n",
       "        text-align: right;\n",
       "    }\n",
       "</style>\n",
       "<table border=\"1\" class=\"dataframe\">\n",
       "  <thead>\n",
       "    <tr style=\"text-align: right;\">\n",
       "      <th></th>\n",
       "      <th>count_missing</th>\n",
       "      <th>%_missing</th>\n",
       "    </tr>\n",
       "  </thead>\n",
       "  <tbody>\n",
       "    <tr>\n",
       "      <th>PoolQC</th>\n",
       "      <td>1453</td>\n",
       "      <td>99.52</td>\n",
       "    </tr>\n",
       "    <tr>\n",
       "      <th>MiscFeature</th>\n",
       "      <td>1406</td>\n",
       "      <td>96.30</td>\n",
       "    </tr>\n",
       "    <tr>\n",
       "      <th>Alley</th>\n",
       "      <td>1369</td>\n",
       "      <td>93.77</td>\n",
       "    </tr>\n",
       "    <tr>\n",
       "      <th>Fence</th>\n",
       "      <td>1179</td>\n",
       "      <td>80.75</td>\n",
       "    </tr>\n",
       "    <tr>\n",
       "      <th>FireplaceQu</th>\n",
       "      <td>690</td>\n",
       "      <td>47.26</td>\n",
       "    </tr>\n",
       "    <tr>\n",
       "      <th>LotFrontage</th>\n",
       "      <td>259</td>\n",
       "      <td>17.74</td>\n",
       "    </tr>\n",
       "    <tr>\n",
       "      <th>GarageType</th>\n",
       "      <td>81</td>\n",
       "      <td>5.55</td>\n",
       "    </tr>\n",
       "    <tr>\n",
       "      <th>GarageYrBlt</th>\n",
       "      <td>81</td>\n",
       "      <td>5.55</td>\n",
       "    </tr>\n",
       "    <tr>\n",
       "      <th>GarageFinish</th>\n",
       "      <td>81</td>\n",
       "      <td>5.55</td>\n",
       "    </tr>\n",
       "    <tr>\n",
       "      <th>GarageQual</th>\n",
       "      <td>81</td>\n",
       "      <td>5.55</td>\n",
       "    </tr>\n",
       "    <tr>\n",
       "      <th>GarageCond</th>\n",
       "      <td>81</td>\n",
       "      <td>5.55</td>\n",
       "    </tr>\n",
       "    <tr>\n",
       "      <th>BsmtExposure</th>\n",
       "      <td>38</td>\n",
       "      <td>2.60</td>\n",
       "    </tr>\n",
       "    <tr>\n",
       "      <th>BsmtFinType2</th>\n",
       "      <td>38</td>\n",
       "      <td>2.60</td>\n",
       "    </tr>\n",
       "    <tr>\n",
       "      <th>BsmtQual</th>\n",
       "      <td>37</td>\n",
       "      <td>2.53</td>\n",
       "    </tr>\n",
       "    <tr>\n",
       "      <th>BsmtCond</th>\n",
       "      <td>37</td>\n",
       "      <td>2.53</td>\n",
       "    </tr>\n",
       "    <tr>\n",
       "      <th>BsmtFinType1</th>\n",
       "      <td>37</td>\n",
       "      <td>2.53</td>\n",
       "    </tr>\n",
       "    <tr>\n",
       "      <th>MasVnrType</th>\n",
       "      <td>8</td>\n",
       "      <td>0.55</td>\n",
       "    </tr>\n",
       "    <tr>\n",
       "      <th>MasVnrArea</th>\n",
       "      <td>8</td>\n",
       "      <td>0.55</td>\n",
       "    </tr>\n",
       "    <tr>\n",
       "      <th>Electrical</th>\n",
       "      <td>1</td>\n",
       "      <td>0.07</td>\n",
       "    </tr>\n",
       "  </tbody>\n",
       "</table>\n",
       "</div>"
      ],
      "text/plain": [
       "              count_missing  %_missing\n",
       "PoolQC                 1453      99.52\n",
       "MiscFeature            1406      96.30\n",
       "Alley                  1369      93.77\n",
       "Fence                  1179      80.75\n",
       "FireplaceQu             690      47.26\n",
       "LotFrontage             259      17.74\n",
       "GarageType               81       5.55\n",
       "GarageYrBlt              81       5.55\n",
       "GarageFinish             81       5.55\n",
       "GarageQual               81       5.55\n",
       "GarageCond               81       5.55\n",
       "BsmtExposure             38       2.60\n",
       "BsmtFinType2             38       2.60\n",
       "BsmtQual                 37       2.53\n",
       "BsmtCond                 37       2.53\n",
       "BsmtFinType1             37       2.53\n",
       "MasVnrType                8       0.55\n",
       "MasVnrArea                8       0.55\n",
       "Electrical                1       0.07"
      ]
     },
     "execution_count": 7,
     "metadata": {},
     "output_type": "execute_result"
    }
   ],
   "source": [
    "# Count and percentage of missing data in columns\n",
    "missing = pd.concat([housing.isnull().sum(), 100 * housing.isnull().mean().round(4)], axis=1)\n",
    "missing.columns=['count_missing', '%_missing']\n",
    "missing_values = missing.sort_values(by=['count_missing', '%_missing'], ascending=False)\n",
    "cols_missing = missing_values.loc[missing_values['count_missing'] != 0.00]\n",
    "cols_missing"
   ]
  },
  {
   "cell_type": "markdown",
   "metadata": {},
   "source": [
    "First, I want to know: what are missing values in this data set? Does NaN mean missing as in incomplete or missing as in property not having the feature. Let's take a look at my data dictionary to see what NaN means for given object dtype columns."
   ]
  },
  {
   "cell_type": "code",
   "execution_count": 8,
   "metadata": {},
   "outputs": [
    {
     "name": "stdout",
     "output_type": "stream",
     "text": [
      "PoolQC :        Ex:Excellent       Gd:Good       TA:Average/Typical       Fa:Fair       NA:No Pool \n",
      "\n",
      "MiscFeature :        Elev:Elevator       Gar2:2nd Garage (if not described in garage section)       Othr:Other       Shed:Shed (over 100 SF)       TenC:Tennis Court       NA:None \n",
      "\n",
      "Alley :        Grvl:Gravel       Pave:Paved       NA :No alley access \n",
      "\n",
      "Fence :        GdPrv:Good Privacy       MnPrv:Minimum Privacy       GdWo:Good Wood       MnWw:Minimum Wood/Wire       NA:No Fence \n",
      "\n",
      "FireplaceQu :        Ex:Excellent - Exceptional Masonry Fireplace       Gd:Good - Masonry Fireplace in main level       TA:Average - Prefabricated Fireplace in main living area or Masonry Fireplace in basement       Fa:Fair - Prefabricated Fireplace in basement       Po:Poor - Ben Franklin Stove       NA:No Fireplace \n",
      "\n",
      "LotFrontage : nan \n",
      "\n",
      "GarageType :        2Types:More than one type of garage       Attchd:Attached to home       Basment:Basement Garage       BuiltIn:Built-In (Garage part of house - typically has room above garage)       CarPort:Car Port       Detchd:Detached from home       NA:No Garage \n",
      "\n",
      "GarageYrBlt : nan \n",
      "\n",
      "GarageFinish :        Fin:Finished       RFn:Rough Finished:       Unf:Unfinished       NA:No Garage \n",
      "\n",
      "GarageQual :        Ex:Excellent       Gd:Good       TA:Typical/Average       Fa:Fair       Po:Poor       NA:No Garage \n",
      "\n",
      "GarageCond :        Ex:Excellent       Gd:Good       TA:Typical/Average       Fa:Fair       Po:Poor       NA:No Garage \n",
      "\n",
      "BsmtExposure :        Gd:Good Exposure       Av:Average Exposure (split levels or foyers typically score average or above):       Mn:Mimimum Exposure       No:No Exposure       NA:No Basement \n",
      "\n",
      "BsmtFinType2 :        GLQ:Good Living Quarters       ALQ:Average Living Quarters       BLQ:Below Average Living Quarters:       Rec:Average Rec Room       LwQ:Low Quality       Unf:Unfinshed       NA:No Basement \n",
      "\n",
      "BsmtQual :        Ex:Excellent (100+ inches):       Gd:Good (90-99 inches)       TA:Typical (80-89 inches)       Fa:Fair (70-79 inches)       Po:Poor (<70 inches       NA:No Basement \n",
      "\n",
      "BsmtCond :        Ex:Excellent       Gd:Good       TA:Typical - slight dampness allowed       Fa:Fair - dampness or some cracking or settling       Po:Poor - Severe cracking, settling, or wetness       NA:No Basement \n",
      "\n",
      "BsmtFinType1 :        GLQ:Good Living Quarters       ALQ:Average Living Quarters       BLQ:Below Average Living Quarters:       Rec:Average Rec Room       LwQ:Low Quality       Unf:Unfinshed       NA:No Basement \n",
      "\n",
      "MasVnrType :        BrkCmn:Brick Common       BrkFace:Brick Face       CBlock:Cinder Block       None:None       Stone:Stone \n",
      "\n",
      "MasVnrArea : nan \n",
      "\n",
      "Electrical :        SBrkr:Standard Circuit Breakers & Romex       FuseA:Fuse Box over 60 AMP and all Romex wiring (Average):       FuseF:60 AMP Fuse Box and mostly Romex wiring (Fair)       FuseP:60 AMP Fuse Box and mostly knob & tube wiring (poor)       Mix:Mixed \n",
      "\n"
     ]
    }
   ],
   "source": [
    "for name in cols_missing.index:\n",
    "    data_name = data_dict[data_dict['Name'] == name].iloc[0]\n",
    "    print(data_name['Name'],':', data_name['Notes'], '\\n')"
   ]
  },
  {
   "cell_type": "markdown",
   "metadata": {},
   "source": [
    "Looking at the data_dictionary, I can conclude that NaN values in columns with categorical dtypes imply that the property doesn't have that feature. Let's start with changing those missing values to objects 'None': "
   ]
  },
  {
   "cell_type": "code",
   "execution_count": 9,
   "metadata": {},
   "outputs": [],
   "source": [
    "Na_cols = cols_missing.T.columns.to_list()\n",
    "Na_cols.remove('Electrical')\n",
    "change_to_Na = []\n",
    "for col in Na_cols:\n",
    "    if housing[col].dtype == 'object':\n",
    "        change_to_Na.append(col)\n",
    "        housing[col] = np.where(housing[col].isnull(), 'Na', housing[col])"
   ]
  },
  {
   "cell_type": "code",
   "execution_count": 10,
   "metadata": {},
   "outputs": [
    {
     "data": {
      "text/html": [
       "<div>\n",
       "<style scoped>\n",
       "    .dataframe tbody tr th:only-of-type {\n",
       "        vertical-align: middle;\n",
       "    }\n",
       "\n",
       "    .dataframe tbody tr th {\n",
       "        vertical-align: top;\n",
       "    }\n",
       "\n",
       "    .dataframe thead th {\n",
       "        text-align: right;\n",
       "    }\n",
       "</style>\n",
       "<table border=\"1\" class=\"dataframe\">\n",
       "  <thead>\n",
       "    <tr style=\"text-align: right;\">\n",
       "      <th></th>\n",
       "      <th>count_missing</th>\n",
       "      <th>%_missing</th>\n",
       "    </tr>\n",
       "  </thead>\n",
       "  <tbody>\n",
       "    <tr>\n",
       "      <th>LotFrontage</th>\n",
       "      <td>259</td>\n",
       "      <td>17.74</td>\n",
       "    </tr>\n",
       "    <tr>\n",
       "      <th>MasVnrArea</th>\n",
       "      <td>8</td>\n",
       "      <td>0.55</td>\n",
       "    </tr>\n",
       "    <tr>\n",
       "      <th>Electrical</th>\n",
       "      <td>1</td>\n",
       "      <td>0.07</td>\n",
       "    </tr>\n",
       "  </tbody>\n",
       "</table>\n",
       "</div>"
      ],
      "text/plain": [
       "             count_missing  %_missing\n",
       "LotFrontage            259      17.74\n",
       "MasVnrArea               8       0.55\n",
       "Electrical               1       0.07"
      ]
     },
     "execution_count": 10,
     "metadata": {},
     "output_type": "execute_result"
    }
   ],
   "source": [
    "# checking new count of missing\n",
    "missing = pd.concat([housing.isnull().sum(), 100 * housing.isnull().mean().round(4)], axis=1)\n",
    "missing.columns=['count_missing', '%_missing']\n",
    "missing_values = missing.sort_values(by=['count_missing', '%_missing'], ascending=False)\n",
    "cols_missing = missing_values.loc[missing_values['count_missing'] != 0.00]\n",
    "cols_missing"
   ]
  },
  {
   "cell_type": "markdown",
   "metadata": {},
   "source": [
    "Note that I didn't include Electrical in the categorical columns to be changed. Electrical should be existent for all properties (it would be a very expensive fixer-upper if no wiring was present) and the column only has one missing value which means that I'll have to take a closer look at that. "
   ]
  },
  {
   "cell_type": "markdown",
   "metadata": {},
   "source": [
    "What is the final sales price and sale condition for the property with the missing value?"
   ]
  },
  {
   "cell_type": "code",
   "execution_count": 11,
   "metadata": {},
   "outputs": [
    {
     "data": {
      "text/html": [
       "<div>\n",
       "<style scoped>\n",
       "    .dataframe tbody tr th:only-of-type {\n",
       "        vertical-align: middle;\n",
       "    }\n",
       "\n",
       "    .dataframe tbody tr th {\n",
       "        vertical-align: top;\n",
       "    }\n",
       "\n",
       "    .dataframe thead th {\n",
       "        text-align: right;\n",
       "    }\n",
       "</style>\n",
       "<table border=\"1\" class=\"dataframe\">\n",
       "  <thead>\n",
       "    <tr style=\"text-align: right;\">\n",
       "      <th></th>\n",
       "      <th>Id</th>\n",
       "      <th>Electrical</th>\n",
       "      <th>SaleCondition</th>\n",
       "      <th>SalePrice</th>\n",
       "      <th>YrMoSold</th>\n",
       "    </tr>\n",
       "  </thead>\n",
       "  <tbody>\n",
       "    <tr>\n",
       "      <th>1379</th>\n",
       "      <td>1380</td>\n",
       "      <td>NaN</td>\n",
       "      <td>Normal</td>\n",
       "      <td>167500</td>\n",
       "      <td>2008-05-01</td>\n",
       "    </tr>\n",
       "  </tbody>\n",
       "</table>\n",
       "</div>"
      ],
      "text/plain": [
       "        Id Electrical SaleCondition  SalePrice   YrMoSold\n",
       "1379  1380        NaN        Normal     167500 2008-05-01"
      ]
     },
     "execution_count": 11,
     "metadata": {},
     "output_type": "execute_result"
    }
   ],
   "source": [
    "housing[['Id','Electrical', 'SaleCondition', 'SalePrice', 'YrMoSold']].loc[housing['Electrical'].isna()]"
   ]
  },
  {
   "cell_type": "markdown",
   "metadata": {},
   "source": [
    "The sale price is 167500 and the condition it was sold under was normal.   \n",
    "What does the distribution of column Electrical look like?"
   ]
  },
  {
   "cell_type": "code",
   "execution_count": 12,
   "metadata": {
    "scrolled": true
   },
   "outputs": [
    {
     "data": {
      "image/png": "[encoded data removed]",
      "text/plain": [
       "<Figure size 432x288 with 1 Axes>"
      ]
     },
     "metadata": {
      "needs_background": "light"
     },
     "output_type": "display_data"
    }
   ],
   "source": [
    "_ = sns.countplot(x='Electrical', data=housing)"
   ]
  },
  {
   "cell_type": "code",
   "execution_count": 13,
   "metadata": {},
   "outputs": [
    {
     "data": {
      "text/plain": [
       "SBrkr    1334\n",
       "FuseA      94\n",
       "FuseF      27\n",
       "FuseP       3\n",
       "Mix         1\n",
       "Name: Electrical, dtype: int64"
      ]
     },
     "execution_count": 13,
     "metadata": {},
     "output_type": "execute_result"
    }
   ],
   "source": [
    "housing['Electrical'].value_counts()"
   ]
  },
  {
   "cell_type": "markdown",
   "metadata": {},
   "source": [
    "Considering the property being a fairly average property (based on SalePrice and condition) and most common type of Electrical fusing being Standard Circuit Breakers & Romex (SBrkr), I will impute the missing value with SBrkr:"
   ]
  },
  {
   "cell_type": "code",
   "execution_count": 14,
   "metadata": {},
   "outputs": [
    {
     "data": {
      "text/html": [
       "<div>\n",
       "<style scoped>\n",
       "    .dataframe tbody tr th:only-of-type {\n",
       "        vertical-align: middle;\n",
       "    }\n",
       "\n",
       "    .dataframe tbody tr th {\n",
       "        vertical-align: top;\n",
       "    }\n",
       "\n",
       "    .dataframe thead th {\n",
       "        text-align: right;\n",
       "    }\n",
       "</style>\n",
       "<table border=\"1\" class=\"dataframe\">\n",
       "  <thead>\n",
       "    <tr style=\"text-align: right;\">\n",
       "      <th></th>\n",
       "      <th>Id</th>\n",
       "      <th>Electrical</th>\n",
       "      <th>SalePrice</th>\n",
       "    </tr>\n",
       "  </thead>\n",
       "  <tbody>\n",
       "    <tr>\n",
       "      <th>1379</th>\n",
       "      <td>1380</td>\n",
       "      <td>SBrkr</td>\n",
       "      <td>167500</td>\n",
       "    </tr>\n",
       "  </tbody>\n",
       "</table>\n",
       "</div>"
      ],
      "text/plain": [
       "        Id Electrical  SalePrice\n",
       "1379  1380      SBrkr     167500"
      ]
     },
     "execution_count": 14,
     "metadata": {},
     "output_type": "execute_result"
    }
   ],
   "source": [
    "housing['Electrical'] = np.where(housing['Electrical'].isnull(), 'SBrkr', housing['Electrical'])\n",
    "housing[['Id','Electrical', 'SalePrice']][housing['Id'] == 1380]"
   ]
  },
  {
   "cell_type": "markdown",
   "metadata": {},
   "source": [
    "That concludes imputation of the categorical variables.   \n",
    "Now what about the missing values that aren't categorical (GarageYrBlt, LotFrontage and MasVnrArea)?\n",
    "Let's take a look at them:"
   ]
  },
  {
   "cell_type": "code",
   "execution_count": 15,
   "metadata": {},
   "outputs": [
    {
     "name": "stdout",
     "output_type": "stream",
     "text": [
      "<class 'pandas.core.frame.DataFrame'>\n",
      "RangeIndex: 1460 entries, 0 to 1459\n",
      "Data columns (total 2 columns):\n",
      " #   Column       Non-Null Count  Dtype  \n",
      "---  ------       --------------  -----  \n",
      " 0   LotFrontage  1201 non-null   float64\n",
      " 1   MasVnrArea   1452 non-null   float64\n",
      "dtypes: float64(2)\n",
      "memory usage: 22.9 KB\n"
     ]
    }
   ],
   "source": [
    "housing[['LotFrontage', 'MasVnrArea']].info()"
   ]
  },
  {
   "cell_type": "markdown",
   "metadata": {},
   "source": [
    "Starting with MasVnrArea, we have two columns for the Masonry: MasVnrArea, and MasVnrType. Are the missing values of MasVnrArea connected to the None values (indicating 'no Masonry' for that property) in MasVnrType?  "
   ]
  },
  {
   "cell_type": "code",
   "execution_count": 16,
   "metadata": {
    "scrolled": true
   },
   "outputs": [
    {
     "data": {
      "text/html": [
       "<div>\n",
       "<style scoped>\n",
       "    .dataframe tbody tr th:only-of-type {\n",
       "        vertical-align: middle;\n",
       "    }\n",
       "\n",
       "    .dataframe tbody tr th {\n",
       "        vertical-align: top;\n",
       "    }\n",
       "\n",
       "    .dataframe thead th {\n",
       "        text-align: right;\n",
       "    }\n",
       "</style>\n",
       "<table border=\"1\" class=\"dataframe\">\n",
       "  <thead>\n",
       "    <tr style=\"text-align: right;\">\n",
       "      <th></th>\n",
       "      <th>MasVnrType</th>\n",
       "      <th>MasVnrArea</th>\n",
       "    </tr>\n",
       "  </thead>\n",
       "  <tbody>\n",
       "    <tr>\n",
       "      <th>234</th>\n",
       "      <td>Na</td>\n",
       "      <td>NaN</td>\n",
       "    </tr>\n",
       "    <tr>\n",
       "      <th>529</th>\n",
       "      <td>Na</td>\n",
       "      <td>NaN</td>\n",
       "    </tr>\n",
       "    <tr>\n",
       "      <th>650</th>\n",
       "      <td>Na</td>\n",
       "      <td>NaN</td>\n",
       "    </tr>\n",
       "    <tr>\n",
       "      <th>936</th>\n",
       "      <td>Na</td>\n",
       "      <td>NaN</td>\n",
       "    </tr>\n",
       "    <tr>\n",
       "      <th>973</th>\n",
       "      <td>Na</td>\n",
       "      <td>NaN</td>\n",
       "    </tr>\n",
       "    <tr>\n",
       "      <th>977</th>\n",
       "      <td>Na</td>\n",
       "      <td>NaN</td>\n",
       "    </tr>\n",
       "    <tr>\n",
       "      <th>1243</th>\n",
       "      <td>Na</td>\n",
       "      <td>NaN</td>\n",
       "    </tr>\n",
       "    <tr>\n",
       "      <th>1278</th>\n",
       "      <td>Na</td>\n",
       "      <td>NaN</td>\n",
       "    </tr>\n",
       "  </tbody>\n",
       "</table>\n",
       "</div>"
      ],
      "text/plain": [
       "     MasVnrType  MasVnrArea\n",
       "234          Na         NaN\n",
       "529          Na         NaN\n",
       "650          Na         NaN\n",
       "936          Na         NaN\n",
       "973          Na         NaN\n",
       "977          Na         NaN\n",
       "1243         Na         NaN\n",
       "1278         Na         NaN"
      ]
     },
     "execution_count": 16,
     "metadata": {},
     "output_type": "execute_result"
    }
   ],
   "source": [
    "housing[['MasVnrType','MasVnrArea']].loc[housing['MasVnrArea'].isna()]"
   ]
  },
  {
   "cell_type": "markdown",
   "metadata": {},
   "source": [
    "Based on MasVnrType and MasVnrArea, it's fairly safe to assume that missing values in MasVnrArea means that the properties don't have Masonry veneers. Let's impute missing MasVnrArea values with 0:"
   ]
  },
  {
   "cell_type": "code",
   "execution_count": 17,
   "metadata": {},
   "outputs": [],
   "source": [
    "housing['MasVnrArea'] = np.where(housing['MasVnrArea'].isnull(), 0.0, housing['MasVnrArea'])"
   ]
  },
  {
   "cell_type": "code",
   "execution_count": 18,
   "metadata": {},
   "outputs": [
    {
     "data": {
      "text/plain": [
       "Series([], Name: MasVnrArea, dtype: float64)"
      ]
     },
     "execution_count": 18,
     "metadata": {},
     "output_type": "execute_result"
    }
   ],
   "source": [
    "# checking that everything is removed\n",
    "housing['MasVnrArea'][housing['MasVnrArea'].isnull()]"
   ]
  },
  {
   "cell_type": "markdown",
   "metadata": {},
   "source": [
    "Cool, that is done! Moving on to LotFrontage which currently has 17.74% missing values. Let's take a look at the distribution of LotFrontage:"
   ]
  },
  {
   "cell_type": "code",
   "execution_count": 19,
   "metadata": {},
   "outputs": [
    {
     "data": {
      "image/png": "[encoded data removed]",
      "text/plain": [
       "<Figure size 432x288 with 1 Axes>"
      ]
     },
     "metadata": {
      "needs_background": "light"
     },
     "output_type": "display_data"
    }
   ],
   "source": [
    "bins = int(np.sqrt(housing['LotFrontage'].count()))\n",
    "_ = sns.histplot(x='LotFrontage', data=housing, bins=bins)"
   ]
  },
  {
   "cell_type": "code",
   "execution_count": 20,
   "metadata": {},
   "outputs": [
    {
     "data": {
      "text/plain": [
       "count    1201.000000\n",
       "mean       70.049958\n",
       "std        24.284752\n",
       "min        21.000000\n",
       "25%        59.000000\n",
       "50%        69.000000\n",
       "75%        80.000000\n",
       "max       313.000000\n",
       "Name: LotFrontage, dtype: float64"
      ]
     },
     "execution_count": 20,
     "metadata": {},
     "output_type": "execute_result"
    }
   ],
   "source": [
    "housing['LotFrontage'].describe()"
   ]
  },
  {
   "cell_type": "markdown",
   "metadata": {},
   "source": [
    "Usually, this sort of data would be best handled by multiple imputation. However, in the interest of time for this project, I will be doing a simple imputation. Since mean and median are only nearly the same and the distribution is skewed, I will impute with the median. "
   ]
  },
  {
   "cell_type": "code",
   "execution_count": 21,
   "metadata": {},
   "outputs": [
    {
     "data": {
      "text/plain": [
       "count    1460.000000\n",
       "mean       69.863699\n",
       "std        22.027677\n",
       "min        21.000000\n",
       "25%        60.000000\n",
       "50%        69.000000\n",
       "75%        79.000000\n",
       "max       313.000000\n",
       "Name: LotFrontage, dtype: float64"
      ]
     },
     "execution_count": 21,
     "metadata": {},
     "output_type": "execute_result"
    }
   ],
   "source": [
    "housing['LotFrontage'] = housing['LotFrontage'].fillna(housing['LotFrontage'].median())\n",
    "housing['LotFrontage'].describe()"
   ]
  },
  {
   "cell_type": "code",
   "execution_count": 22,
   "metadata": {},
   "outputs": [
    {
     "data": {
      "image/png": "[encoded data removed]",
      "text/plain": [
       "<Figure size 432x288 with 1 Axes>"
      ]
     },
     "metadata": {
      "needs_background": "light"
     },
     "output_type": "display_data"
    }
   ],
   "source": [
    "bins = int(np.sqrt(housing['LotFrontage'].count()))\n",
    "_ = sns.histplot(x='LotFrontage', data=housing, bins=bins)"
   ]
  },
  {
   "cell_type": "markdown",
   "metadata": {},
   "source": [
    "Following the imputation, the distribution of the LotFrontage data has become slightly more normalized. Let's take a last look at missing values to make sure all of them have been dealt with:"
   ]
  },
  {
   "cell_type": "code",
   "execution_count": 23,
   "metadata": {},
   "outputs": [
    {
     "data": {
      "text/html": [
       "<div>\n",
       "<style scoped>\n",
       "    .dataframe tbody tr th:only-of-type {\n",
       "        vertical-align: middle;\n",
       "    }\n",
       "\n",
       "    .dataframe tbody tr th {\n",
       "        vertical-align: top;\n",
       "    }\n",
       "\n",
       "    .dataframe thead th {\n",
       "        text-align: right;\n",
       "    }\n",
       "</style>\n",
       "<table border=\"1\" class=\"dataframe\">\n",
       "  <thead>\n",
       "    <tr style=\"text-align: right;\">\n",
       "      <th></th>\n",
       "      <th>count_missing</th>\n",
       "      <th>%_missing</th>\n",
       "    </tr>\n",
       "  </thead>\n",
       "  <tbody>\n",
       "  </tbody>\n",
       "</table>\n",
       "</div>"
      ],
      "text/plain": [
       "Empty DataFrame\n",
       "Columns: [count_missing, %_missing]\n",
       "Index: []"
      ]
     },
     "execution_count": 23,
     "metadata": {},
     "output_type": "execute_result"
    }
   ],
   "source": [
    "missing = pd.concat([housing.isnull().sum(), 100 * housing.isnull().mean().round(4)], axis=1)\n",
    "missing.columns=['count_missing', '%_missing']\n",
    "missing_values = missing.sort_values(by=['count_missing', '%_missing'], ascending=False)\n",
    "cols_missing = missing_values.loc[missing_values['count_missing'] != 0.00]\n",
    "cols_missing"
   ]
  },
  {
   "cell_type": "markdown",
   "metadata": {},
   "source": [
    "Perfect! No more missing values.  \n",
    "To make it easier on processing later, I'm going to convert MasVnrArea and LotFrontage to dtype integers:"
   ]
  },
  {
   "cell_type": "code",
   "execution_count": 24,
   "metadata": {},
   "outputs": [
    {
     "name": "stdout",
     "output_type": "stream",
     "text": [
      "<class 'pandas.core.frame.DataFrame'>\n",
      "RangeIndex: 1460 entries, 0 to 1459\n",
      "Data columns (total 2 columns):\n",
      " #   Column       Non-Null Count  Dtype\n",
      "---  ------       --------------  -----\n",
      " 0   LotFrontage  1460 non-null   int64\n",
      " 1   MasVnrArea   1460 non-null   int64\n",
      "dtypes: int64(2)\n",
      "memory usage: 22.9 KB\n"
     ]
    }
   ],
   "source": [
    "housing[['LotFrontage', 'MasVnrArea']] = housing[['LotFrontage', 'MasVnrArea']].astype('int64')\n",
    "housing[['LotFrontage', 'MasVnrArea']].info()"
   ]
  },
  {
   "cell_type": "markdown",
   "metadata": {},
   "source": [
    "Now it's time to identify correlations between the features themselves and between my target value (SalePrice) and the features. Let's take a look at the heatmap for the numerical values (I will only display for numerical values due to the high volume of features that are categorical):"
   ]
  },
  {
   "cell_type": "code",
   "execution_count": 25,
   "metadata": {},
   "outputs": [],
   "source": [
    "#_ = plt.figure(figsize=(18,16))\n",
    "#_ = sns.heatmap(housing.corr(), annot=True)"
   ]
  },
  {
   "cell_type": "markdown",
   "metadata": {},
   "source": [
    "Pretty, but incomplete and quite unreadable. Time for some computing!  \n",
    "It's time to figure out: what is considered a high correlation for this data? Below, I will get dummy variables for the categorical values and compute the pearson correlation coefficients for all variables and extract the upper triangle of the correlation matrix for my dataset."
   ]
  },
  {
   "cell_type": "code",
   "execution_count": 26,
   "metadata": {},
   "outputs": [],
   "source": [
    "housing_w_dummies = pd.get_dummies(housing.drop(['Id','YrMoSold'], axis=1))\n",
    "housing_wd_matrix = housing_w_dummies.corr().abs()"
   ]
  },
  {
   "cell_type": "code",
   "execution_count": 27,
   "metadata": {},
   "outputs": [],
   "source": [
    "# extracting upper triangle of corr matrix\n",
    "housing_corr_triu = (housing_wd_matrix.where(np.triu(np.ones(housing_wd_matrix.shape), k=1).astype(np.bool)))\n",
    "triu_values = housing_corr_triu.to_numpy()\n",
    "triu_values = triu_values[~(np.isnan(triu_values))] "
   ]
  },
  {
   "cell_type": "markdown",
   "metadata": {},
   "source": [
    "Now that we have all the correlation coefficients from the upper triangle, I will map the distribution of the correlation coefficients and decide on appropriate thresholds for my data."
   ]
  },
  {
   "cell_type": "code",
   "execution_count": 28,
   "metadata": {},
   "outputs": [
    {
     "data": {
      "image/png": "[encoded data removed]",
      "text/plain": [
       "<Figure size 432x288 with 1 Axes>"
      ]
     },
     "metadata": {
      "needs_background": "light"
     },
     "output_type": "display_data"
    }
   ],
   "source": [
    "_ = sns.histplot(triu_values, bins=10)"
   ]
  },
  {
   "cell_type": "code",
   "execution_count": 36,
   "metadata": {},
   "outputs": [
    {
     "name": "stdout",
     "output_type": "stream",
     "text": [
      "min: 3.57509252700229e-17   max: 1.0\n",
      "mean: 0.03766689598360108   median: 0.017010531564152224\n",
      "Moderate (75th quantile): 0.04260792010687285   High (90th quantile): 0.09203807625715862\n"
     ]
    }
   ],
   "source": [
    "print('min:', np.amin(triu_values), ' ', 'max:', np.amax(triu_values))\n",
    "print('mean:', np.mean(triu_values), ' ', 'median:', np.median(triu_values))\n",
    "print('Moderate (75th quantile):', np.quantile(triu_values, 0.75), ' ', 'High (90th quantile):', np.quantile(triu_values, 0.9))"
   ]
  },
  {
   "cell_type": "markdown",
   "metadata": {},
   "source": [
    "Based on the distribution I will move forward with variables that have a |corr coef| of 0.043 and higher"
   ]
  },
  {
   "cell_type": "code",
   "execution_count": null,
   "metadata": {},
   "outputs": [],
   "source": []
  },
  {
   "cell_type": "code",
   "execution_count": null,
   "metadata": {},
   "outputs": [],
   "source": []
  }
 ],
 "metadata": {
  "kernelspec": {
   "display_name": "Python 3",
   "language": "python",
   "name": "python3"
  },
  "language_info": {
   "codemirror_mode": {
    "name": "ipython",
    "version": 3
   },
   "file_extension": ".py",
   "mimetype": "text/x-python",
   "name": "python",
   "nbconvert_exporter": "python",
   "pygments_lexer": "ipython3",
   "version": "3.7.6"
  }
 },
 "nbformat": 4,
 "nbformat_minor": 4
}
