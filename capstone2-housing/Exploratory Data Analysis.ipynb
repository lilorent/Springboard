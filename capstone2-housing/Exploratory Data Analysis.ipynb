{
 "cells": [
  {
   "cell_type": "markdown",
   "metadata": {},
   "source": [
    "Exploratory Data Analysis (EDA)\n",
    "\n",
    "Now that I've have completed an initial cleaning of the data, it's time to explore what data we are looking at.\n",
    "During my EDA, I will take a look at what data is missing and how to deal with that. I will decide on my dependent variable, and explore its correlation to the features."
   ]
  },
  {
   "cell_type": "code",
   "execution_count": 1,
   "metadata": {},
   "outputs": [],
   "source": [
    "# importing packages\n",
    "import pandas as pd\n",
    "import seaborn as sns\n",
    "import matplotlib.pyplot as plt"
   ]
  },
  {
   "cell_type": "code",
   "execution_count": 2,
   "metadata": {},
   "outputs": [],
   "source": [
    "#Downloading cvs files\n",
    "housing = pd.read_csv('../capstone2-housing/rawdata/cleaned_data.csv', index_col=0, parse_dates=['YrMoSold'])\n",
    "data_dict = pd.read_csv('../capstone2-housing/documents/data_dictionary.csv', index_col=0)"
   ]
  },
  {
   "cell_type": "code",
   "execution_count": 3,
   "metadata": {},
   "outputs": [
    {
     "name": "stdout",
     "output_type": "stream",
     "text": [
      "<class 'pandas.core.frame.DataFrame'>\n",
      "Int64Index: 1460 entries, 0 to 1459\n",
      "Data columns (total 80 columns):\n",
      " #   Column         Non-Null Count  Dtype         \n",
      "---  ------         --------------  -----         \n",
      " 0   Id             1460 non-null   int64         \n",
      " 1   MSSubClass     1460 non-null   int64         \n",
      " 2   MSZoning       1460 non-null   object        \n",
      " 3   LotFrontage    1201 non-null   float64       \n",
      " 4   LotArea        1460 non-null   int64         \n",
      " 5   Street         1460 non-null   object        \n",
      " 6   Alley          91 non-null     object        \n",
      " 7   LotShape       1460 non-null   object        \n",
      " 8   LandContour    1460 non-null   object        \n",
      " 9   Utilities      1460 non-null   object        \n",
      " 10  LotConfig      1460 non-null   object        \n",
      " 11  LandSlope      1460 non-null   object        \n",
      " 12  Neighborhood   1460 non-null   object        \n",
      " 13  Condition1     1460 non-null   object        \n",
      " 14  Condition2     1460 non-null   object        \n",
      " 15  BldgType       1460 non-null   object        \n",
      " 16  HouseStyle     1460 non-null   object        \n",
      " 17  OverallQual    1460 non-null   int64         \n",
      " 18  OverallCond    1460 non-null   int64         \n",
      " 19  YearBuilt      1460 non-null   int64         \n",
      " 20  YearRemodAdd   1460 non-null   int64         \n",
      " 21  RoofStyle      1460 non-null   object        \n",
      " 22  RoofMatl       1460 non-null   object        \n",
      " 23  Exterior1st    1460 non-null   object        \n",
      " 24  Exterior2nd    1460 non-null   object        \n",
      " 25  MasVnrType     1452 non-null   object        \n",
      " 26  MasVnrArea     1452 non-null   float64       \n",
      " 27  ExterQual      1460 non-null   object        \n",
      " 28  ExterCond      1460 non-null   object        \n",
      " 29  Foundation     1460 non-null   object        \n",
      " 30  BsmtQual       1423 non-null   object        \n",
      " 31  BsmtCond       1423 non-null   object        \n",
      " 32  BsmtExposure   1422 non-null   object        \n",
      " 33  BsmtFinType1   1423 non-null   object        \n",
      " 34  BsmtFinSF1     1460 non-null   int64         \n",
      " 35  BsmtFinType2   1422 non-null   object        \n",
      " 36  BsmtFinSF2     1460 non-null   int64         \n",
      " 37  BsmtUnfSF      1460 non-null   int64         \n",
      " 38  TotalBsmtSF    1460 non-null   int64         \n",
      " 39  Heating        1460 non-null   object        \n",
      " 40  HeatingQC      1460 non-null   object        \n",
      " 41  CentralAir     1460 non-null   object        \n",
      " 42  Electrical     1459 non-null   object        \n",
      " 43  1stFlrSF       1460 non-null   int64         \n",
      " 44  2ndFlrSF       1460 non-null   int64         \n",
      " 45  LowQualFinSF   1460 non-null   int64         \n",
      " 46  GrLivArea      1460 non-null   int64         \n",
      " 47  BsmtFullBath   1460 non-null   int64         \n",
      " 48  BsmtHalfBath   1460 non-null   int64         \n",
      " 49  FullBath       1460 non-null   int64         \n",
      " 50  HalfBath       1460 non-null   int64         \n",
      " 51  BedroomAbvGr   1460 non-null   int64         \n",
      " 52  KitchenAbvGr   1460 non-null   int64         \n",
      " 53  KitchenQual    1460 non-null   object        \n",
      " 54  TotRmsAbvGrd   1460 non-null   int64         \n",
      " 55  Functional     1460 non-null   object        \n",
      " 56  Fireplaces     1460 non-null   int64         \n",
      " 57  FireplaceQu    770 non-null    object        \n",
      " 58  GarageType     1379 non-null   object        \n",
      " 59  GarageYrBlt    1379 non-null   float64       \n",
      " 60  GarageFinish   1379 non-null   object        \n",
      " 61  GarageCars     1460 non-null   int64         \n",
      " 62  GarageArea     1460 non-null   int64         \n",
      " 63  GarageQual     1379 non-null   object        \n",
      " 64  GarageCond     1379 non-null   object        \n",
      " 65  PavedDrive     1460 non-null   object        \n",
      " 66  WoodDeckSF     1460 non-null   int64         \n",
      " 67  OpenPorchSF    1460 non-null   int64         \n",
      " 68  EnclosedPorch  1460 non-null   int64         \n",
      " 69  3SsnPorch      1460 non-null   int64         \n",
      " 70  ScreenPorch    1460 non-null   int64         \n",
      " 71  PoolArea       1460 non-null   int64         \n",
      " 72  PoolQC         7 non-null      object        \n",
      " 73  Fence          281 non-null    object        \n",
      " 74  MiscFeature    54 non-null     object        \n",
      " 75  MiscVal        1460 non-null   int64         \n",
      " 76  SaleType       1460 non-null   object        \n",
      " 77  SaleCondition  1460 non-null   object        \n",
      " 78  SalePrice      1460 non-null   int64         \n",
      " 79  YrMoSold       1460 non-null   datetime64[ns]\n",
      "dtypes: datetime64[ns](1), float64(3), int64(33), object(43)\n",
      "memory usage: 923.9+ KB\n",
      "None\n"
     ]
    }
   ],
   "source": [
    "print(housing.info())"
   ]
  },
  {
   "cell_type": "markdown",
   "metadata": {},
   "source": [
    "Let's start with deciding on a dependent variable. Since all final closing prices are available, and my goal with this project is to build a model to predict final closing prices, it seems most prudent to start looking at using the column SalePrice as the dependent variable. Let's start with taking a closer look at the column."
   ]
  },
  {
   "cell_type": "code",
   "execution_count": 4,
   "metadata": {},
   "outputs": [
    {
     "data": {
      "image/png": "[encoded data removed]",
      "text/plain": [
       "<Figure size 432x288 with 1 Axes>"
      ]
     },
     "metadata": {
      "needs_background": "light"
     },
     "output_type": "display_data"
    }
   ],
   "source": [
    "_ = plt.hist(housing['SalePrice'])\n",
    "_ = plt.xlabel(\"Price\")\n",
    "_ = plt.ylabel(\"Frequency\")"
   ]
  },
  {
   "cell_type": "code",
   "execution_count": 5,
   "metadata": {},
   "outputs": [
    {
     "data": {
      "text/plain": [
       "count      1460.000000\n",
       "mean     180921.195890\n",
       "std       79442.502883\n",
       "min       34900.000000\n",
       "25%      129975.000000\n",
       "50%      163000.000000\n",
       "75%      214000.000000\n",
       "max      755000.000000\n",
       "Name: SalePrice, dtype: float64"
      ]
     },
     "execution_count": 5,
     "metadata": {},
     "output_type": "execute_result"
    }
   ],
   "source": [
    "housing['SalePrice'].describe()"
   ]
  },
  {
   "cell_type": "markdown",
   "metadata": {},
   "source": [
    "Looks like the final SalePrice in Iowa is a continuous value that ranges between 34900 and 755000. Has a mean of 180921.2 and a standard deviation of 79442.5. So I will be moving forward with SalePrice as my dependent variable.\n",
    "\n",
    "Now, before doing anything else, let's take a look at the missing values I identified during Data Wrangling and decide what to do with them."
   ]
  },
  {
   "cell_type": "code",
   "execution_count": 6,
   "metadata": {},
   "outputs": [
    {
     "data": {
      "text/html": [
       "<div>\n",
       "<style scoped>\n",
       "    .dataframe tbody tr th:only-of-type {\n",
       "        vertical-align: middle;\n",
       "    }\n",
       "\n",
       "    .dataframe tbody tr th {\n",
       "        vertical-align: top;\n",
       "    }\n",
       "\n",
       "    .dataframe thead th {\n",
       "        text-align: right;\n",
       "    }\n",
       "</style>\n",
       "<table border=\"1\" class=\"dataframe\">\n",
       "  <thead>\n",
       "    <tr style=\"text-align: right;\">\n",
       "      <th></th>\n",
       "      <th>count</th>\n",
       "      <th>%</th>\n",
       "    </tr>\n",
       "  </thead>\n",
       "  <tbody>\n",
       "    <tr>\n",
       "      <th>PoolQC</th>\n",
       "      <td>1453</td>\n",
       "      <td>99.52</td>\n",
       "    </tr>\n",
       "    <tr>\n",
       "      <th>MiscFeature</th>\n",
       "      <td>1406</td>\n",
       "      <td>96.30</td>\n",
       "    </tr>\n",
       "    <tr>\n",
       "      <th>Alley</th>\n",
       "      <td>1369</td>\n",
       "      <td>93.77</td>\n",
       "    </tr>\n",
       "    <tr>\n",
       "      <th>Fence</th>\n",
       "      <td>1179</td>\n",
       "      <td>80.75</td>\n",
       "    </tr>\n",
       "    <tr>\n",
       "      <th>FireplaceQu</th>\n",
       "      <td>690</td>\n",
       "      <td>47.26</td>\n",
       "    </tr>\n",
       "    <tr>\n",
       "      <th>LotFrontage</th>\n",
       "      <td>259</td>\n",
       "      <td>17.74</td>\n",
       "    </tr>\n",
       "    <tr>\n",
       "      <th>GarageType</th>\n",
       "      <td>81</td>\n",
       "      <td>5.55</td>\n",
       "    </tr>\n",
       "    <tr>\n",
       "      <th>GarageYrBlt</th>\n",
       "      <td>81</td>\n",
       "      <td>5.55</td>\n",
       "    </tr>\n",
       "    <tr>\n",
       "      <th>GarageFinish</th>\n",
       "      <td>81</td>\n",
       "      <td>5.55</td>\n",
       "    </tr>\n",
       "    <tr>\n",
       "      <th>GarageQual</th>\n",
       "      <td>81</td>\n",
       "      <td>5.55</td>\n",
       "    </tr>\n",
       "    <tr>\n",
       "      <th>GarageCond</th>\n",
       "      <td>81</td>\n",
       "      <td>5.55</td>\n",
       "    </tr>\n",
       "    <tr>\n",
       "      <th>BsmtExposure</th>\n",
       "      <td>38</td>\n",
       "      <td>2.60</td>\n",
       "    </tr>\n",
       "    <tr>\n",
       "      <th>BsmtFinType2</th>\n",
       "      <td>38</td>\n",
       "      <td>2.60</td>\n",
       "    </tr>\n",
       "    <tr>\n",
       "      <th>BsmtQual</th>\n",
       "      <td>37</td>\n",
       "      <td>2.53</td>\n",
       "    </tr>\n",
       "    <tr>\n",
       "      <th>BsmtCond</th>\n",
       "      <td>37</td>\n",
       "      <td>2.53</td>\n",
       "    </tr>\n",
       "    <tr>\n",
       "      <th>BsmtFinType1</th>\n",
       "      <td>37</td>\n",
       "      <td>2.53</td>\n",
       "    </tr>\n",
       "    <tr>\n",
       "      <th>MasVnrType</th>\n",
       "      <td>8</td>\n",
       "      <td>0.55</td>\n",
       "    </tr>\n",
       "    <tr>\n",
       "      <th>MasVnrArea</th>\n",
       "      <td>8</td>\n",
       "      <td>0.55</td>\n",
       "    </tr>\n",
       "    <tr>\n",
       "      <th>Electrical</th>\n",
       "      <td>1</td>\n",
       "      <td>0.07</td>\n",
       "    </tr>\n",
       "  </tbody>\n",
       "</table>\n",
       "</div>"
      ],
      "text/plain": [
       "              count      %\n",
       "PoolQC         1453  99.52\n",
       "MiscFeature    1406  96.30\n",
       "Alley          1369  93.77\n",
       "Fence          1179  80.75\n",
       "FireplaceQu     690  47.26\n",
       "LotFrontage     259  17.74\n",
       "GarageType       81   5.55\n",
       "GarageYrBlt      81   5.55\n",
       "GarageFinish     81   5.55\n",
       "GarageQual       81   5.55\n",
       "GarageCond       81   5.55\n",
       "BsmtExposure     38   2.60\n",
       "BsmtFinType2     38   2.60\n",
       "BsmtQual         37   2.53\n",
       "BsmtCond         37   2.53\n",
       "BsmtFinType1     37   2.53\n",
       "MasVnrType        8   0.55\n",
       "MasVnrArea        8   0.55\n",
       "Electrical        1   0.07"
      ]
     },
     "execution_count": 6,
     "metadata": {},
     "output_type": "execute_result"
    }
   ],
   "source": [
    "# Count and percentage of missing data in columns\n",
    "missing = pd.concat([housing.isnull().sum(), 100 * housing.isnull().mean().round(4)], axis=1)\n",
    "missing.columns=['count', '%']\n",
    "missing_values = missing.sort_values(by=['count', '%'], ascending=False)\n",
    "cols_missing = missing_values.loc[missing_values['count'] != 0.00]\n",
    "cols_missing"
   ]
  },
  {
   "cell_type": "markdown",
   "metadata": {},
   "source": [
    "First, I want to know: what are missing values? Does NaN mean missing as in incomplete or missing as in property not having it (important bc not having vs having can influence price, vs incomplete data means we don't know about value). Let's take a look at my data dictionary to see what NaN means for given object dtype columns."
   ]
  },
  {
   "cell_type": "code",
   "execution_count": 7,
   "metadata": {},
   "outputs": [
    {
     "name": "stdout",
     "output_type": "stream",
     "text": [
      "PoolQC :        Ex:Excellent       Gd:Good       TA:Average/Typical       Fa:Fair       NA:No Pool \n",
      "\n",
      "MiscFeature :        Elev:Elevator       Gar2:2nd Garage (if not described in garage section)       Othr:Other       Shed:Shed (over 100 SF)       TenC:Tennis Court       NA:None \n",
      "\n",
      "Alley :        Grvl:Gravel       Pave:Paved       NA :No alley access \n",
      "\n",
      "Fence :        GdPrv:Good Privacy       MnPrv:Minimum Privacy       GdWo:Good Wood       MnWw:Minimum Wood/Wire       NA:No Fence \n",
      "\n",
      "FireplaceQu :        Ex:Excellent - Exceptional Masonry Fireplace       Gd:Good - Masonry Fireplace in main level       TA:Average - Prefabricated Fireplace in main living area or Masonry Fireplace in basement       Fa:Fair - Prefabricated Fireplace in basement       Po:Poor - Ben Franklin Stove       NA:No Fireplace \n",
      "\n",
      "LotFrontage : nan \n",
      "\n",
      "GarageType :        2Types:More than one type of garage       Attchd:Attached to home       Basment:Basement Garage       BuiltIn:Built-In (Garage part of house - typically has room above garage)       CarPort:Car Port       Detchd:Detached from home       NA:No Garage \n",
      "\n",
      "GarageYrBlt : nan \n",
      "\n",
      "GarageFinish :        Fin:Finished       RFn:Rough Finished:       Unf:Unfinished       NA:No Garage \n",
      "\n",
      "GarageQual :        Ex:Excellent       Gd:Good       TA:Typical/Average       Fa:Fair       Po:Poor       NA:No Garage \n",
      "\n",
      "GarageCond :        Ex:Excellent       Gd:Good       TA:Typical/Average       Fa:Fair       Po:Poor       NA:No Garage \n",
      "\n",
      "BsmtExposure :        Gd:Good Exposure       Av:Average Exposure (split levels or foyers typically score average or above):       Mn:Mimimum Exposure       No:No Exposure       NA:No Basement \n",
      "\n",
      "BsmtFinType2 :        GLQ:Good Living Quarters       ALQ:Average Living Quarters       BLQ:Below Average Living Quarters:       Rec:Average Rec Room       LwQ:Low Quality       Unf:Unfinshed       NA:No Basement \n",
      "\n",
      "BsmtQual :        Ex:Excellent (100+ inches):       Gd:Good (90-99 inches)       TA:Typical (80-89 inches)       Fa:Fair (70-79 inches)       Po:Poor (<70 inches       NA:No Basement \n",
      "\n",
      "BsmtCond :        Ex:Excellent       Gd:Good       TA:Typical - slight dampness allowed       Fa:Fair - dampness or some cracking or settling       Po:Poor - Severe cracking, settling, or wetness       NA:No Basement \n",
      "\n",
      "BsmtFinType1 :        GLQ:Good Living Quarters       ALQ:Average Living Quarters       BLQ:Below Average Living Quarters:       Rec:Average Rec Room       LwQ:Low Quality       Unf:Unfinshed       NA:No Basement \n",
      "\n",
      "MasVnrType :        BrkCmn:Brick Common       BrkFace:Brick Face       CBlock:Cinder Block       None:None       Stone:Stone \n",
      "\n",
      "MasVnrArea : nan \n",
      "\n",
      "Electrical :        SBrkr:Standard Circuit Breakers & Romex       FuseA:Fuse Box over 60 AMP and all Romex wiring (Average):       FuseF:60 AMP Fuse Box and mostly Romex wiring (Fair)       FuseP:60 AMP Fuse Box and mostly knob & tube wiring (poor)       Mix:Mixed \n",
      "\n"
     ]
    }
   ],
   "source": [
    "for name in cols_missing.index:\n",
    "    data_name = data_dict[data_dict['Name'] == name].iloc[0]\n",
    "    print(data_name['Name'],':', data_name['Notes'], '\\n')"
   ]
  },
  {
   "cell_type": "markdown",
   "metadata": {},
   "source": [
    "Looking at the data_dictionary, I can conclude that NaN values in columns with categorical dtypes imply that the property doesn't have that feature. And I will leave those \"missing values\" as is. Except for one: Electrical.\n",
    "XXXXXXXXXWhat should I do with that??XXXXXXXXXX\n",
    "What about those that aren't categorical? \n",
    "GarageYrBlt, LotFrontage and MasVnrArea Let's take a look at them "
   ]
  },
  {
   "cell_type": "code",
   "execution_count": 8,
   "metadata": {},
   "outputs": [
    {
     "name": "stdout",
     "output_type": "stream",
     "text": [
      "<class 'pandas.core.frame.DataFrame'>\n",
      "Int64Index: 1460 entries, 0 to 1459\n",
      "Data columns (total 3 columns):\n",
      " #   Column       Non-Null Count  Dtype  \n",
      "---  ------       --------------  -----  \n",
      " 0   GarageYrBlt  1379 non-null   float64\n",
      " 1   LotFrontage  1201 non-null   float64\n",
      " 2   MasVnrArea   1452 non-null   float64\n",
      "dtypes: float64(3)\n",
      "memory usage: 45.6 KB\n"
     ]
    }
   ],
   "source": [
    "housing[['GarageYrBlt', 'LotFrontage', 'MasVnrArea']].info()"
   ]
  },
  {
   "cell_type": "code",
   "execution_count": 9,
   "metadata": {},
   "outputs": [
    {
     "data": {
      "text/html": [
       "<div>\n",
       "<style scoped>\n",
       "    .dataframe tbody tr th:only-of-type {\n",
       "        vertical-align: middle;\n",
       "    }\n",
       "\n",
       "    .dataframe tbody tr th {\n",
       "        vertical-align: top;\n",
       "    }\n",
       "\n",
       "    .dataframe thead th {\n",
       "        text-align: right;\n",
       "    }\n",
       "</style>\n",
       "<table border=\"1\" class=\"dataframe\">\n",
       "  <thead>\n",
       "    <tr style=\"text-align: right;\">\n",
       "      <th></th>\n",
       "      <th>GarageYrBlt</th>\n",
       "      <th>LotFrontage</th>\n",
       "      <th>MasVnrType</th>\n",
       "      <th>MasVnrArea</th>\n",
       "    </tr>\n",
       "  </thead>\n",
       "  <tbody>\n",
       "    <tr>\n",
       "      <th>0</th>\n",
       "      <td>2003.0</td>\n",
       "      <td>65.0</td>\n",
       "      <td>BrkFace</td>\n",
       "      <td>196.0</td>\n",
       "    </tr>\n",
       "    <tr>\n",
       "      <th>1</th>\n",
       "      <td>1976.0</td>\n",
       "      <td>80.0</td>\n",
       "      <td>None</td>\n",
       "      <td>0.0</td>\n",
       "    </tr>\n",
       "    <tr>\n",
       "      <th>2</th>\n",
       "      <td>2001.0</td>\n",
       "      <td>68.0</td>\n",
       "      <td>BrkFace</td>\n",
       "      <td>162.0</td>\n",
       "    </tr>\n",
       "    <tr>\n",
       "      <th>3</th>\n",
       "      <td>1998.0</td>\n",
       "      <td>60.0</td>\n",
       "      <td>None</td>\n",
       "      <td>0.0</td>\n",
       "    </tr>\n",
       "    <tr>\n",
       "      <th>4</th>\n",
       "      <td>2000.0</td>\n",
       "      <td>84.0</td>\n",
       "      <td>BrkFace</td>\n",
       "      <td>350.0</td>\n",
       "    </tr>\n",
       "  </tbody>\n",
       "</table>\n",
       "</div>"
      ],
      "text/plain": [
       "   GarageYrBlt  LotFrontage MasVnrType  MasVnrArea\n",
       "0       2003.0         65.0    BrkFace       196.0\n",
       "1       1976.0         80.0       None         0.0\n",
       "2       2001.0         68.0    BrkFace       162.0\n",
       "3       1998.0         60.0       None         0.0\n",
       "4       2000.0         84.0    BrkFace       350.0"
      ]
     },
     "execution_count": 9,
     "metadata": {},
     "output_type": "execute_result"
    }
   ],
   "source": [
    "# including MasVnrType for sanity check (MasVnrType None for MasVnrArea 0.0)\n",
    "housing[['GarageYrBlt', 'LotFrontage', 'MasVnrType', 'MasVnrArea']].head()"
   ]
  },
  {
   "cell_type": "markdown",
   "metadata": {},
   "source": [
    "Based on MasVnrType and MasVnrArea, I can conclude that missing values in MasVnrArea means that they don't exist. GarageYrBlt not so important won't touch might drop.\n",
    "Now, LotFrontage has 17.74% missing values, let's take a look at how lot frontage correlates to SalePrices"
   ]
  },
  {
   "cell_type": "code",
   "execution_count": 10,
   "metadata": {},
   "outputs": [
    {
     "data": {
      "image/png": "[encoded data removed]",
      "text/plain": [
       "<Figure size 720x576 with 1 Axes>"
      ]
     },
     "metadata": {
      "needs_background": "light"
     },
     "output_type": "display_data"
    }
   ],
   "source": [
    "_ = plt.figure(figsize=(10,8))\n",
    "_ = plt.plot('SalePrice', 'LotFrontage', '.', data=housing, alpha=0.5)\n",
    "_ = plt.xlabel('Sale Price')\n",
    "_ = plt.ylabel('Lot Frontage')"
   ]
  },
  {
   "cell_type": "markdown",
   "metadata": {},
   "source": [
    "XXXXDo I want to impute this value? It looks like there is a trend. Chech correlaction with SalePrice and decide.\n",
    "Has some outliers, mean might not be good imputation XXXXX"
   ]
  },
  {
   "cell_type": "code",
   "execution_count": null,
   "metadata": {},
   "outputs": [],
   "source": []
  },
  {
   "cell_type": "markdown",
   "metadata": {},
   "source": [
    "It turns out that 99.52% of the properties in this sample, do not have pools. Could pools be a big influence on the price of a house? "
   ]
  },
  {
   "cell_type": "code",
   "execution_count": 11,
   "metadata": {},
   "outputs": [
    {
     "data": {
      "text/plain": [
       "count         7.000000\n",
       "mean     288138.571429\n",
       "std      206071.850935\n",
       "min      160000.000000\n",
       "25%      176000.000000\n",
       "50%      235000.000000\n",
       "75%      262485.000000\n",
       "max      745000.000000\n",
       "Name: SalePrice, dtype: float64"
      ]
     },
     "execution_count": 11,
     "metadata": {},
     "output_type": "execute_result"
    }
   ],
   "source": [
    "# dividing SalePrice data set to pool vs no pool\n",
    "has_pool = housing['SalePrice'][housing['PoolQC'].notna()]\n",
    "no_pool = housing['SalePrice'][housing['PoolQC'].isna()]\n",
    "housing['SalePrice'][housing['PoolQC'].notna()].describe()"
   ]
  },
  {
   "cell_type": "code",
   "execution_count": 12,
   "metadata": {},
   "outputs": [
    {
     "data": {
      "image/png": "[encoded data removed]",
      "text/plain": [
       "<Figure size 432x288 with 1 Axes>"
      ]
     },
     "metadata": {
      "needs_background": "light"
     },
     "output_type": "display_data"
    }
   ],
   "source": [
    "# plotting histogram of \n",
    "_ = plt.hist(no_pool, label='No Pool', density=True)\n",
    "_ = plt.hist(has_pool, label='Has Pool', density=True)\n",
    "_ = plt.legend(loc='upper right')"
   ]
  },
  {
   "cell_type": "markdown",
   "metadata": {},
   "source": [
    "Values are not missing. NaN means that house doesn't have pool. Looking at the SalePrices properties with vs. properties without a pool, one of the most expensive properties has a pool. Is this property more expensive because of the pool, or is the pool simply added to an already expensive property?\n",
    "I will keep PoolQC in the mix for now. But need to remember that it seems shaky to base price on a feature present on only 7/1460 sample individuals."
   ]
  },
  {
   "cell_type": "code",
   "execution_count": 15,
   "metadata": {},
   "outputs": [
    {
     "data": {
      "image/png": "[encoded data removed]",
      "text/plain": [
       "<Figure size 576x576 with 1 Axes>"
      ]
     },
     "metadata": {
      "needs_background": "light"
     },
     "output_type": "display_data"
    }
   ],
   "source": [
    "year_sold = housing['YrMoSold'].dt.year\n",
    "_ = plt.figure(figsize=(8,8))\n",
    "_ = sns.boxplot(x=year_sold, y='SalePrice', data=housing)"
   ]
  }
 ],
 "metadata": {
  "kernelspec": {
   "display_name": "Python 3",
   "language": "python",
   "name": "python3"
  },
  "language_info": {
   "codemirror_mode": {
    "name": "ipython",
    "version": 3
   },
   "file_extension": ".py",
   "mimetype": "text/x-python",
   "name": "python",
   "nbconvert_exporter": "python",
   "pygments_lexer": "ipython3",
   "version": "3.7.6"
  }
 },
 "nbformat": 4,
 "nbformat_minor": 4
}
