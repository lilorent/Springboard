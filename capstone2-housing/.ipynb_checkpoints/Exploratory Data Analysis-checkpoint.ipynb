{
 "cells": [
  {
   "cell_type": "markdown",
   "metadata": {},
   "source": [
    "# Exploratory Data Analysis (EDA)"
   ]
  },
  {
   "cell_type": "markdown",
   "metadata": {},
   "source": [
    "Now that I've have completed an initial cleaning of the data, it's time to explore what data I am looking at.\n",
    "During my EDA, I will explore the missing values and decide on how to deal with that data. I will decide on my dependent variable, and explore its correlation to the features as well as correlations between the different features."
   ]
  },
  {
   "cell_type": "code",
   "execution_count": 1,
   "metadata": {},
   "outputs": [],
   "source": [
    "# importing packages\n",
    "import pandas as pd\n",
    "import numpy as np\n",
    "import seaborn as sns\n",
    "import matplotlib.pyplot as plt"
   ]
  },
  {
   "cell_type": "code",
   "execution_count": 2,
   "metadata": {},
   "outputs": [],
   "source": [
    "# Downloading cvs files\n",
    "housing = pd.read_csv('../capstone2-housing/rawdata/cleaned_data.csv', index_col=0, parse_dates=['YrMoSold'])\n",
    "data_dict = pd.read_csv('../capstone2-housing/documents/data_dictionary.csv', index_col=0)"
   ]
  },
  {
   "cell_type": "markdown",
   "metadata": {},
   "source": [
    "All the rows in the data dictionary that have a value in column \"Note\" indicate categorical data in this data set. I will use the data dictionary to parse over my data set and change the dtype of those columns to objects. I will also treat columns Id GarageYrBlt, Yearbuilt, and YearRemodAdd as object columns."
   ]
  },
  {
   "cell_type": "code",
   "execution_count": 3,
   "metadata": {},
   "outputs": [
    {
     "name": "stdout",
     "output_type": "stream",
     "text": [
      "<class 'pandas.core.frame.DataFrame'>\n",
      "RangeIndex: 1460 entries, 0 to 1459\n",
      "Data columns (total 80 columns):\n",
      " #   Column         Non-Null Count  Dtype         \n",
      "---  ------         --------------  -----         \n",
      " 0   Id             1460 non-null   object        \n",
      " 1   MSSubClass     1460 non-null   object        \n",
      " 2   MSZoning       1460 non-null   object        \n",
      " 3   LotFrontage    1201 non-null   float64       \n",
      " 4   LotArea        1460 non-null   int64         \n",
      " 5   Street         1460 non-null   object        \n",
      " 6   Alley          91 non-null     object        \n",
      " 7   LotShape       1460 non-null   object        \n",
      " 8   LandContour    1460 non-null   object        \n",
      " 9   Utilities      1460 non-null   object        \n",
      " 10  LotConfig      1460 non-null   object        \n",
      " 11  LandSlope      1460 non-null   object        \n",
      " 12  Neighborhood   1460 non-null   object        \n",
      " 13  Condition1     1460 non-null   object        \n",
      " 14  Condition2     1460 non-null   object        \n",
      " 15  BldgType       1460 non-null   object        \n",
      " 16  HouseStyle     1460 non-null   object        \n",
      " 17  OverallQual    1460 non-null   object        \n",
      " 18  OverallCond    1460 non-null   object        \n",
      " 19  YearBuilt      1460 non-null   object        \n",
      " 20  YearRemodAdd   1460 non-null   object        \n",
      " 21  RoofStyle      1460 non-null   object        \n",
      " 22  RoofMatl       1460 non-null   object        \n",
      " 23  Exterior1st    1460 non-null   object        \n",
      " 24  Exterior2nd    1460 non-null   object        \n",
      " 25  MasVnrType     1452 non-null   object        \n",
      " 26  MasVnrArea     1452 non-null   float64       \n",
      " 27  ExterQual      1460 non-null   object        \n",
      " 28  ExterCond      1460 non-null   object        \n",
      " 29  Foundation     1460 non-null   object        \n",
      " 30  BsmtQual       1423 non-null   object        \n",
      " 31  BsmtCond       1423 non-null   object        \n",
      " 32  BsmtExposure   1422 non-null   object        \n",
      " 33  BsmtFinType1   1423 non-null   object        \n",
      " 34  BsmtFinSF1     1460 non-null   int64         \n",
      " 35  BsmtFinType2   1422 non-null   object        \n",
      " 36  BsmtFinSF2     1460 non-null   int64         \n",
      " 37  BsmtUnfSF      1460 non-null   int64         \n",
      " 38  TotalBsmtSF    1460 non-null   int64         \n",
      " 39  Heating        1460 non-null   object        \n",
      " 40  HeatingQC      1460 non-null   object        \n",
      " 41  CentralAir     1460 non-null   object        \n",
      " 42  Electrical     1459 non-null   object        \n",
      " 43  1stFlrSF       1460 non-null   int64         \n",
      " 44  2ndFlrSF       1460 non-null   int64         \n",
      " 45  LowQualFinSF   1460 non-null   int64         \n",
      " 46  GrLivArea      1460 non-null   int64         \n",
      " 47  BsmtFullBath   1460 non-null   int64         \n",
      " 48  BsmtHalfBath   1460 non-null   int64         \n",
      " 49  FullBath       1460 non-null   int64         \n",
      " 50  HalfBath       1460 non-null   int64         \n",
      " 51  BedroomAbvGr   1460 non-null   int64         \n",
      " 52  KitchenAbvGr   1460 non-null   int64         \n",
      " 53  KitchenQual    1460 non-null   object        \n",
      " 54  TotRmsAbvGrd   1460 non-null   int64         \n",
      " 55  Functional     1460 non-null   object        \n",
      " 56  Fireplaces     1460 non-null   int64         \n",
      " 57  FireplaceQu    770 non-null    object        \n",
      " 58  GarageType     1379 non-null   object        \n",
      " 59  GarageYrBlt    1379 non-null   object        \n",
      " 60  GarageFinish   1379 non-null   object        \n",
      " 61  GarageCars     1460 non-null   int64         \n",
      " 62  GarageArea     1460 non-null   int64         \n",
      " 63  GarageQual     1379 non-null   object        \n",
      " 64  GarageCond     1379 non-null   object        \n",
      " 65  PavedDrive     1460 non-null   object        \n",
      " 66  WoodDeckSF     1460 non-null   int64         \n",
      " 67  OpenPorchSF    1460 non-null   int64         \n",
      " 68  EnclosedPorch  1460 non-null   int64         \n",
      " 69  3SsnPorch      1460 non-null   int64         \n",
      " 70  ScreenPorch    1460 non-null   int64         \n",
      " 71  PoolArea       1460 non-null   int64         \n",
      " 72  PoolQC         7 non-null      object        \n",
      " 73  Fence          281 non-null    object        \n",
      " 74  MiscFeature    54 non-null     object        \n",
      " 75  MiscVal        1460 non-null   int64         \n",
      " 76  SaleType       1460 non-null   object        \n",
      " 77  SaleCondition  1460 non-null   object        \n",
      " 78  SalePrice      1460 non-null   int64         \n",
      " 79  YrMoSold       1460 non-null   datetime64[ns]\n",
      "dtypes: datetime64[ns](1), float64(2), int64(27), object(50)\n",
      "memory usage: 912.6+ KB\n"
     ]
    }
   ],
   "source": [
    "# Creating list of columns that should have categorical dtype\n",
    "dtype_object = ['Id', 'GarageYrBlt', 'YearBuilt', 'YearRemodAdd']\n",
    "for index, row in data_dict.iterrows():\n",
    "    if pd.notnull(row[2]):\n",
    "        dtype_object.append(row[0])\n",
    "\n",
    "# Casting correct dtypes for categorical data columns and creating new df for cleaned housing data\n",
    "housing_dtypes = housing[dtype_object].astype('object')\n",
    "housing = housing.merge(housing_dtypes).drop_duplicates(keep='first').reset_index(drop=True)\n",
    "housing.info()"
   ]
  },
  {
   "cell_type": "markdown",
   "metadata": {},
   "source": [
    "Now, let's start with deciding on a dependent variable. Since all final closing prices are available, and my goal with this project is to build a model to predict final closing prices, I will start with considering using the column SalePrice as the dependent variable. Let's take a closer look at the column."
   ]
  },
  {
   "cell_type": "code",
   "execution_count": 4,
   "metadata": {},
   "outputs": [
    {
     "data": {
      "text/plain": [
       "count      1460.000000\n",
       "mean     180921.195890\n",
       "std       79442.502883\n",
       "min       34900.000000\n",
       "25%      129975.000000\n",
       "50%      163000.000000\n",
       "75%      214000.000000\n",
       "max      755000.000000\n",
       "Name: SalePrice, dtype: float64"
      ]
     },
     "execution_count": 4,
     "metadata": {},
     "output_type": "execute_result"
    }
   ],
   "source": [
    "housing['SalePrice'].describe()"
   ]
  },
  {
   "cell_type": "code",
   "execution_count": 5,
   "metadata": {},
   "outputs": [
    {
     "data": {
      "image/png": "[encoded data removed]",
      "text/plain": [
       "<Figure size 432x288 with 1 Axes>"
      ]
     },
     "metadata": {
      "needs_background": "light"
     },
     "output_type": "display_data"
    }
   ],
   "source": [
    "bins = int(np.sqrt(housing['SalePrice'].count()))\n",
    "_ = sns.histplot(x='SalePrice', data=housing, bins=bins)"
   ]
  },
  {
   "cell_type": "markdown",
   "metadata": {},
   "source": [
    "Looks like the final SalePrice in Iowa is a continuous value that ranges between 34900 and 755000. Has a mean of 180921.2 and a standard deviation of 79442.5. So I will be moving forward with SalePrice as my dependent variable.  \n",
    "Have the final sale prices varied a lot over the years?"
   ]
  },
  {
   "cell_type": "code",
   "execution_count": 6,
   "metadata": {},
   "outputs": [
    {
     "data": {
      "image/png": "[encoded data removed]",
      "text/plain": [
       "<Figure size 576x576 with 1 Axes>"
      ]
     },
     "metadata": {
      "needs_background": "light"
     },
     "output_type": "display_data"
    }
   ],
   "source": [
    "year_sold = housing['YrMoSold'].dt.year\n",
    "_ = plt.figure(figsize=(8,8))\n",
    "_ = sns.boxplot(x=year_sold, y='SalePrice', data=housing)"
   ]
  },
  {
   "cell_type": "markdown",
   "metadata": {},
   "source": [
    "Seems like they have approximately same average value throughout the past year. \n",
    "  \n",
    "So I will be working with sale prices but before we move on let's take a look at the missing values I identified during Data Wrangling and decide what to do with them."
   ]
  },
  {
   "cell_type": "code",
   "execution_count": 7,
   "metadata": {},
   "outputs": [
    {
     "data": {
      "text/html": [
       "<div>\n",
       "<style scoped>\n",
       "    .dataframe tbody tr th:only-of-type {\n",
       "        vertical-align: middle;\n",
       "    }\n",
       "\n",
       "    .dataframe tbody tr th {\n",
       "        vertical-align: top;\n",
       "    }\n",
       "\n",
       "    .dataframe thead th {\n",
       "        text-align: right;\n",
       "    }\n",
       "</style>\n",
       "<table border=\"1\" class=\"dataframe\">\n",
       "  <thead>\n",
       "    <tr style=\"text-align: right;\">\n",
       "      <th></th>\n",
       "      <th>count_missing</th>\n",
       "      <th>%_missing</th>\n",
       "    </tr>\n",
       "  </thead>\n",
       "  <tbody>\n",
       "    <tr>\n",
       "      <th>PoolQC</th>\n",
       "      <td>1453</td>\n",
       "      <td>99.52</td>\n",
       "    </tr>\n",
       "    <tr>\n",
       "      <th>MiscFeature</th>\n",
       "      <td>1406</td>\n",
       "      <td>96.30</td>\n",
       "    </tr>\n",
       "    <tr>\n",
       "      <th>Alley</th>\n",
       "      <td>1369</td>\n",
       "      <td>93.77</td>\n",
       "    </tr>\n",
       "    <tr>\n",
       "      <th>Fence</th>\n",
       "      <td>1179</td>\n",
       "      <td>80.75</td>\n",
       "    </tr>\n",
       "    <tr>\n",
       "      <th>FireplaceQu</th>\n",
       "      <td>690</td>\n",
       "      <td>47.26</td>\n",
       "    </tr>\n",
       "    <tr>\n",
       "      <th>LotFrontage</th>\n",
       "      <td>259</td>\n",
       "      <td>17.74</td>\n",
       "    </tr>\n",
       "    <tr>\n",
       "      <th>GarageType</th>\n",
       "      <td>81</td>\n",
       "      <td>5.55</td>\n",
       "    </tr>\n",
       "    <tr>\n",
       "      <th>GarageYrBlt</th>\n",
       "      <td>81</td>\n",
       "      <td>5.55</td>\n",
       "    </tr>\n",
       "    <tr>\n",
       "      <th>GarageFinish</th>\n",
       "      <td>81</td>\n",
       "      <td>5.55</td>\n",
       "    </tr>\n",
       "    <tr>\n",
       "      <th>GarageQual</th>\n",
       "      <td>81</td>\n",
       "      <td>5.55</td>\n",
       "    </tr>\n",
       "    <tr>\n",
       "      <th>GarageCond</th>\n",
       "      <td>81</td>\n",
       "      <td>5.55</td>\n",
       "    </tr>\n",
       "    <tr>\n",
       "      <th>BsmtExposure</th>\n",
       "      <td>38</td>\n",
       "      <td>2.60</td>\n",
       "    </tr>\n",
       "    <tr>\n",
       "      <th>BsmtFinType2</th>\n",
       "      <td>38</td>\n",
       "      <td>2.60</td>\n",
       "    </tr>\n",
       "    <tr>\n",
       "      <th>BsmtQual</th>\n",
       "      <td>37</td>\n",
       "      <td>2.53</td>\n",
       "    </tr>\n",
       "    <tr>\n",
       "      <th>BsmtCond</th>\n",
       "      <td>37</td>\n",
       "      <td>2.53</td>\n",
       "    </tr>\n",
       "    <tr>\n",
       "      <th>BsmtFinType1</th>\n",
       "      <td>37</td>\n",
       "      <td>2.53</td>\n",
       "    </tr>\n",
       "    <tr>\n",
       "      <th>MasVnrType</th>\n",
       "      <td>8</td>\n",
       "      <td>0.55</td>\n",
       "    </tr>\n",
       "    <tr>\n",
       "      <th>MasVnrArea</th>\n",
       "      <td>8</td>\n",
       "      <td>0.55</td>\n",
       "    </tr>\n",
       "    <tr>\n",
       "      <th>Electrical</th>\n",
       "      <td>1</td>\n",
       "      <td>0.07</td>\n",
       "    </tr>\n",
       "  </tbody>\n",
       "</table>\n",
       "</div>"
      ],
      "text/plain": [
       "              count_missing  %_missing\n",
       "PoolQC                 1453      99.52\n",
       "MiscFeature            1406      96.30\n",
       "Alley                  1369      93.77\n",
       "Fence                  1179      80.75\n",
       "FireplaceQu             690      47.26\n",
       "LotFrontage             259      17.74\n",
       "GarageType               81       5.55\n",
       "GarageYrBlt              81       5.55\n",
       "GarageFinish             81       5.55\n",
       "GarageQual               81       5.55\n",
       "GarageCond               81       5.55\n",
       "BsmtExposure             38       2.60\n",
       "BsmtFinType2             38       2.60\n",
       "BsmtQual                 37       2.53\n",
       "BsmtCond                 37       2.53\n",
       "BsmtFinType1             37       2.53\n",
       "MasVnrType                8       0.55\n",
       "MasVnrArea                8       0.55\n",
       "Electrical                1       0.07"
      ]
     },
     "execution_count": 7,
     "metadata": {},
     "output_type": "execute_result"
    }
   ],
   "source": [
    "# Count and percentage of missing data in columns\n",
    "missing = pd.concat([housing.isnull().sum(), 100 * housing.isnull().mean().round(4)], axis=1)\n",
    "missing.columns=['count_missing', '%_missing']\n",
    "missing_values = missing.sort_values(by=['count_missing', '%_missing'], ascending=False)\n",
    "cols_missing = missing_values.loc[missing_values['count_missing'] != 0.00]\n",
    "cols_missing"
   ]
  },
  {
   "cell_type": "markdown",
   "metadata": {},
   "source": [
    "First, I want to know: what are missing values in this data set? Does NaN mean missing as in incomplete or missing as in property not having the feature. Let's take a look at my data dictionary to see what NaN means for given object dtype columns."
   ]
  },
  {
   "cell_type": "code",
   "execution_count": 8,
   "metadata": {},
   "outputs": [
    {
     "name": "stdout",
     "output_type": "stream",
     "text": [
      "PoolQC :        Ex:Excellent       Gd:Good       TA:Average/Typical       Fa:Fair       NA:No Pool \n",
      "\n",
      "MiscFeature :        Elev:Elevator       Gar2:2nd Garage (if not described in garage section)       Othr:Other       Shed:Shed (over 100 SF)       TenC:Tennis Court       NA:None \n",
      "\n",
      "Alley :        Grvl:Gravel       Pave:Paved       NA :No alley access \n",
      "\n",
      "Fence :        GdPrv:Good Privacy       MnPrv:Minimum Privacy       GdWo:Good Wood       MnWw:Minimum Wood/Wire       NA:No Fence \n",
      "\n",
      "FireplaceQu :        Ex:Excellent - Exceptional Masonry Fireplace       Gd:Good - Masonry Fireplace in main level       TA:Average - Prefabricated Fireplace in main living area or Masonry Fireplace in basement       Fa:Fair - Prefabricated Fireplace in basement       Po:Poor - Ben Franklin Stove       NA:No Fireplace \n",
      "\n",
      "LotFrontage : nan \n",
      "\n",
      "GarageType :        2Types:More than one type of garage       Attchd:Attached to home       Basment:Basement Garage       BuiltIn:Built-In (Garage part of house - typically has room above garage)       CarPort:Car Port       Detchd:Detached from home       NA:No Garage \n",
      "\n",
      "GarageYrBlt : nan \n",
      "\n",
      "GarageFinish :        Fin:Finished       RFn:Rough Finished:       Unf:Unfinished       NA:No Garage \n",
      "\n",
      "GarageQual :        Ex:Excellent       Gd:Good       TA:Typical/Average       Fa:Fair       Po:Poor       NA:No Garage \n",
      "\n",
      "GarageCond :        Ex:Excellent       Gd:Good       TA:Typical/Average       Fa:Fair       Po:Poor       NA:No Garage \n",
      "\n",
      "BsmtExposure :        Gd:Good Exposure       Av:Average Exposure (split levels or foyers typically score average or above):       Mn:Mimimum Exposure       No:No Exposure       NA:No Basement \n",
      "\n",
      "BsmtFinType2 :        GLQ:Good Living Quarters       ALQ:Average Living Quarters       BLQ:Below Average Living Quarters:       Rec:Average Rec Room       LwQ:Low Quality       Unf:Unfinshed       NA:No Basement \n",
      "\n",
      "BsmtQual :        Ex:Excellent (100+ inches):       Gd:Good (90-99 inches)       TA:Typical (80-89 inches)       Fa:Fair (70-79 inches)       Po:Poor (<70 inches       NA:No Basement \n",
      "\n",
      "BsmtCond :        Ex:Excellent       Gd:Good       TA:Typical - slight dampness allowed       Fa:Fair - dampness or some cracking or settling       Po:Poor - Severe cracking, settling, or wetness       NA:No Basement \n",
      "\n",
      "BsmtFinType1 :        GLQ:Good Living Quarters       ALQ:Average Living Quarters       BLQ:Below Average Living Quarters:       Rec:Average Rec Room       LwQ:Low Quality       Unf:Unfinshed       NA:No Basement \n",
      "\n",
      "MasVnrType :        BrkCmn:Brick Common       BrkFace:Brick Face       CBlock:Cinder Block       None:None       Stone:Stone \n",
      "\n",
      "MasVnrArea : nan \n",
      "\n",
      "Electrical :        SBrkr:Standard Circuit Breakers & Romex       FuseA:Fuse Box over 60 AMP and all Romex wiring (Average):       FuseF:60 AMP Fuse Box and mostly Romex wiring (Fair)       FuseP:60 AMP Fuse Box and mostly knob & tube wiring (poor)       Mix:Mixed \n",
      "\n"
     ]
    }
   ],
   "source": [
    "for name in cols_missing.index:\n",
    "    data_name = data_dict[data_dict['Name'] == name].iloc[0]\n",
    "    print(data_name['Name'],':', data_name['Notes'], '\\n')"
   ]
  },
  {
   "cell_type": "markdown",
   "metadata": {},
   "source": [
    "Looking at the data_dictionary, I can conclude that NaN values in columns with categorical dtypes imply that the property doesn't have that feature. Let's start with changing those missing values to objects 'None': "
   ]
  },
  {
   "cell_type": "code",
   "execution_count": 9,
   "metadata": {},
   "outputs": [],
   "source": [
    "Na_cols = cols_missing.T.columns.to_list()\n",
    "Na_cols.remove('Electrical')\n",
    "change_to_Na = []\n",
    "for col in Na_cols:\n",
    "    if housing[col].dtype == 'object':\n",
    "        change_to_Na.append(col)\n",
    "        housing[col] = np.where(housing[col].isnull(), 'Na', housing[col])"
   ]
  },
  {
   "cell_type": "code",
   "execution_count": 10,
   "metadata": {},
   "outputs": [
    {
     "data": {
      "text/html": [
       "<div>\n",
       "<style scoped>\n",
       "    .dataframe tbody tr th:only-of-type {\n",
       "        vertical-align: middle;\n",
       "    }\n",
       "\n",
       "    .dataframe tbody tr th {\n",
       "        vertical-align: top;\n",
       "    }\n",
       "\n",
       "    .dataframe thead th {\n",
       "        text-align: right;\n",
       "    }\n",
       "</style>\n",
       "<table border=\"1\" class=\"dataframe\">\n",
       "  <thead>\n",
       "    <tr style=\"text-align: right;\">\n",
       "      <th></th>\n",
       "      <th>count_missing</th>\n",
       "      <th>%_missing</th>\n",
       "    </tr>\n",
       "  </thead>\n",
       "  <tbody>\n",
       "    <tr>\n",
       "      <th>LotFrontage</th>\n",
       "      <td>259</td>\n",
       "      <td>17.74</td>\n",
       "    </tr>\n",
       "    <tr>\n",
       "      <th>MasVnrArea</th>\n",
       "      <td>8</td>\n",
       "      <td>0.55</td>\n",
       "    </tr>\n",
       "    <tr>\n",
       "      <th>Electrical</th>\n",
       "      <td>1</td>\n",
       "      <td>0.07</td>\n",
       "    </tr>\n",
       "  </tbody>\n",
       "</table>\n",
       "</div>"
      ],
      "text/plain": [
       "             count_missing  %_missing\n",
       "LotFrontage            259      17.74\n",
       "MasVnrArea               8       0.55\n",
       "Electrical               1       0.07"
      ]
     },
     "execution_count": 10,
     "metadata": {},
     "output_type": "execute_result"
    }
   ],
   "source": [
    "# checking new count of missing\n",
    "missing = pd.concat([housing.isnull().sum(), 100 * housing.isnull().mean().round(4)], axis=1)\n",
    "missing.columns=['count_missing', '%_missing']\n",
    "missing_values = missing.sort_values(by=['count_missing', '%_missing'], ascending=False)\n",
    "cols_missing = missing_values.loc[missing_values['count_missing'] != 0.00]\n",
    "cols_missing"
   ]
  },
  {
   "cell_type": "markdown",
   "metadata": {},
   "source": [
    "Note that I didn't include Electrical in the categorical columns to be changed. Electrical should be existent for all properties (it would be a very expensive fixer-upper if no wiring was present) and the column only has one missing value which means that I'll have to take a closer look at that. "
   ]
  },
  {
   "cell_type": "markdown",
   "metadata": {},
   "source": [
    "What is the final sales price and sale condition for the property with the missing value?"
   ]
  },
  {
   "cell_type": "code",
   "execution_count": 11,
   "metadata": {},
   "outputs": [
    {
     "data": {
      "text/html": [
       "<div>\n",
       "<style scoped>\n",
       "    .dataframe tbody tr th:only-of-type {\n",
       "        vertical-align: middle;\n",
       "    }\n",
       "\n",
       "    .dataframe tbody tr th {\n",
       "        vertical-align: top;\n",
       "    }\n",
       "\n",
       "    .dataframe thead th {\n",
       "        text-align: right;\n",
       "    }\n",
       "</style>\n",
       "<table border=\"1\" class=\"dataframe\">\n",
       "  <thead>\n",
       "    <tr style=\"text-align: right;\">\n",
       "      <th></th>\n",
       "      <th>Id</th>\n",
       "      <th>Electrical</th>\n",
       "      <th>SaleCondition</th>\n",
       "      <th>SalePrice</th>\n",
       "      <th>YrMoSold</th>\n",
       "    </tr>\n",
       "  </thead>\n",
       "  <tbody>\n",
       "    <tr>\n",
       "      <th>1379</th>\n",
       "      <td>1380</td>\n",
       "      <td>NaN</td>\n",
       "      <td>Normal</td>\n",
       "      <td>167500</td>\n",
       "      <td>2008-05-01</td>\n",
       "    </tr>\n",
       "  </tbody>\n",
       "</table>\n",
       "</div>"
      ],
      "text/plain": [
       "        Id Electrical SaleCondition  SalePrice   YrMoSold\n",
       "1379  1380        NaN        Normal     167500 2008-05-01"
      ]
     },
     "execution_count": 11,
     "metadata": {},
     "output_type": "execute_result"
    }
   ],
   "source": [
    "housing[['Id','Electrical', 'SaleCondition', 'SalePrice', 'YrMoSold']].loc[housing['Electrical'].isna()]"
   ]
  },
  {
   "cell_type": "markdown",
   "metadata": {},
   "source": [
    "The sale price is 167500 and the condition it was sold under was normal.   \n",
    "What does the distribution of column Electrical look like?"
   ]
  },
  {
   "cell_type": "code",
   "execution_count": 12,
   "metadata": {
    "scrolled": true
   },
   "outputs": [
    {
     "data": {
      "image/png": "[encoded data removed]",
      "text/plain": [
       "<Figure size 432x288 with 1 Axes>"
      ]
     },
     "metadata": {
      "needs_background": "light"
     },
     "output_type": "display_data"
    }
   ],
   "source": [
    "_ = sns.countplot(x='Electrical', data=housing)"
   ]
  },
  {
   "cell_type": "code",
   "execution_count": 13,
   "metadata": {},
   "outputs": [
    {
     "data": {
      "text/plain": [
       "SBrkr    1334\n",
       "FuseA      94\n",
       "FuseF      27\n",
       "FuseP       3\n",
       "Mix         1\n",
       "Name: Electrical, dtype: int64"
      ]
     },
     "execution_count": 13,
     "metadata": {},
     "output_type": "execute_result"
    }
   ],
   "source": [
    "housing['Electrical'].value_counts()"
   ]
  },
  {
   "cell_type": "markdown",
   "metadata": {},
   "source": [
    "Considering the property being a fairly average property (based on SalePrice and condition) and most common type of Electrical fusing being Standard Circuit Breakers & Romex (SBrkr), I will impute the missing value with SBrkr:"
   ]
  },
  {
   "cell_type": "code",
   "execution_count": 14,
   "metadata": {},
   "outputs": [
    {
     "data": {
      "text/html": [
       "<div>\n",
       "<style scoped>\n",
       "    .dataframe tbody tr th:only-of-type {\n",
       "        vertical-align: middle;\n",
       "    }\n",
       "\n",
       "    .dataframe tbody tr th {\n",
       "        vertical-align: top;\n",
       "    }\n",
       "\n",
       "    .dataframe thead th {\n",
       "        text-align: right;\n",
       "    }\n",
       "</style>\n",
       "<table border=\"1\" class=\"dataframe\">\n",
       "  <thead>\n",
       "    <tr style=\"text-align: right;\">\n",
       "      <th></th>\n",
       "      <th>Id</th>\n",
       "      <th>Electrical</th>\n",
       "      <th>SalePrice</th>\n",
       "    </tr>\n",
       "  </thead>\n",
       "  <tbody>\n",
       "    <tr>\n",
       "      <th>1379</th>\n",
       "      <td>1380</td>\n",
       "      <td>SBrkr</td>\n",
       "      <td>167500</td>\n",
       "    </tr>\n",
       "  </tbody>\n",
       "</table>\n",
       "</div>"
      ],
      "text/plain": [
       "        Id Electrical  SalePrice\n",
       "1379  1380      SBrkr     167500"
      ]
     },
     "execution_count": 14,
     "metadata": {},
     "output_type": "execute_result"
    }
   ],
   "source": [
    "housing['Electrical'] = np.where(housing['Electrical'].isnull(), 'SBrkr', housing['Electrical'])\n",
    "housing[['Id','Electrical', 'SalePrice']][housing['Id'] == 1380]"
   ]
  },
  {
   "cell_type": "markdown",
   "metadata": {},
   "source": [
    "That concludes imputation of the categorical variables.   \n",
    "Now what about the missing values that aren't categorical (GarageYrBlt, LotFrontage and MasVnrArea)?\n",
    "Let's take a look at them:"
   ]
  },
  {
   "cell_type": "code",
   "execution_count": 15,
   "metadata": {},
   "outputs": [
    {
     "name": "stdout",
     "output_type": "stream",
     "text": [
      "<class 'pandas.core.frame.DataFrame'>\n",
      "RangeIndex: 1460 entries, 0 to 1459\n",
      "Data columns (total 2 columns):\n",
      " #   Column       Non-Null Count  Dtype  \n",
      "---  ------       --------------  -----  \n",
      " 0   LotFrontage  1201 non-null   float64\n",
      " 1   MasVnrArea   1452 non-null   float64\n",
      "dtypes: float64(2)\n",
      "memory usage: 22.9 KB\n"
     ]
    }
   ],
   "source": [
    "housing[['LotFrontage', 'MasVnrArea']].info()"
   ]
  },
  {
   "cell_type": "markdown",
   "metadata": {},
   "source": [
    "Starting with MasVnrArea, we have two columns for the Masonry: MasVnrArea, and MasVnrType. Are the missing values of MasVnrArea connected to the None values (indicating 'no Masonry' for that property) in MasVnrType?  "
   ]
  },
  {
   "cell_type": "code",
   "execution_count": 16,
   "metadata": {
    "scrolled": true
   },
   "outputs": [
    {
     "data": {
      "text/html": [
       "<div>\n",
       "<style scoped>\n",
       "    .dataframe tbody tr th:only-of-type {\n",
       "        vertical-align: middle;\n",
       "    }\n",
       "\n",
       "    .dataframe tbody tr th {\n",
       "        vertical-align: top;\n",
       "    }\n",
       "\n",
       "    .dataframe thead th {\n",
       "        text-align: right;\n",
       "    }\n",
       "</style>\n",
       "<table border=\"1\" class=\"dataframe\">\n",
       "  <thead>\n",
       "    <tr style=\"text-align: right;\">\n",
       "      <th></th>\n",
       "      <th>MasVnrType</th>\n",
       "      <th>MasVnrArea</th>\n",
       "    </tr>\n",
       "  </thead>\n",
       "  <tbody>\n",
       "    <tr>\n",
       "      <th>234</th>\n",
       "      <td>Na</td>\n",
       "      <td>NaN</td>\n",
       "    </tr>\n",
       "    <tr>\n",
       "      <th>529</th>\n",
       "      <td>Na</td>\n",
       "      <td>NaN</td>\n",
       "    </tr>\n",
       "    <tr>\n",
       "      <th>650</th>\n",
       "      <td>Na</td>\n",
       "      <td>NaN</td>\n",
       "    </tr>\n",
       "    <tr>\n",
       "      <th>936</th>\n",
       "      <td>Na</td>\n",
       "      <td>NaN</td>\n",
       "    </tr>\n",
       "    <tr>\n",
       "      <th>973</th>\n",
       "      <td>Na</td>\n",
       "      <td>NaN</td>\n",
       "    </tr>\n",
       "    <tr>\n",
       "      <th>977</th>\n",
       "      <td>Na</td>\n",
       "      <td>NaN</td>\n",
       "    </tr>\n",
       "    <tr>\n",
       "      <th>1243</th>\n",
       "      <td>Na</td>\n",
       "      <td>NaN</td>\n",
       "    </tr>\n",
       "    <tr>\n",
       "      <th>1278</th>\n",
       "      <td>Na</td>\n",
       "      <td>NaN</td>\n",
       "    </tr>\n",
       "  </tbody>\n",
       "</table>\n",
       "</div>"
      ],
      "text/plain": [
       "     MasVnrType  MasVnrArea\n",
       "234          Na         NaN\n",
       "529          Na         NaN\n",
       "650          Na         NaN\n",
       "936          Na         NaN\n",
       "973          Na         NaN\n",
       "977          Na         NaN\n",
       "1243         Na         NaN\n",
       "1278         Na         NaN"
      ]
     },
     "execution_count": 16,
     "metadata": {},
     "output_type": "execute_result"
    }
   ],
   "source": [
    "housing[['MasVnrType','MasVnrArea']].loc[housing['MasVnrArea'].isna()]"
   ]
  },
  {
   "cell_type": "markdown",
   "metadata": {},
   "source": [
    "Based on MasVnrType and MasVnrArea, it's fairly safe to assume that missing values in MasVnrArea means that the properties don't have Masonry veneers. Let's impute missing MasVnrArea values with 0:"
   ]
  },
  {
   "cell_type": "code",
   "execution_count": 17,
   "metadata": {},
   "outputs": [],
   "source": [
    "housing['MasVnrArea'] = np.where(housing['MasVnrArea'].isnull(), 0.0, housing['MasVnrArea'])"
   ]
  },
  {
   "cell_type": "code",
   "execution_count": 18,
   "metadata": {},
   "outputs": [
    {
     "data": {
      "text/plain": [
       "Series([], Name: MasVnrArea, dtype: float64)"
      ]
     },
     "execution_count": 18,
     "metadata": {},
     "output_type": "execute_result"
    }
   ],
   "source": [
    "# checking that everything is removed\n",
    "housing['MasVnrArea'][housing['MasVnrArea'].isnull()]"
   ]
  },
  {
   "cell_type": "markdown",
   "metadata": {},
   "source": [
    "Cool, that is done! Moving on to LotFrontage which currently has 17.74% missing values. Let's take a look at the distribution of LotFrontage:"
   ]
  },
  {
   "cell_type": "code",
   "execution_count": 19,
   "metadata": {},
   "outputs": [
    {
     "data": {
      "image/png": "[encoded data removed]",
      "text/plain": [
       "<Figure size 432x288 with 1 Axes>"
      ]
     },
     "metadata": {
      "needs_background": "light"
     },
     "output_type": "display_data"
    }
   ],
   "source": [
    "bins = int(np.sqrt(housing['LotFrontage'].count()))\n",
    "_ = sns.histplot(x='LotFrontage', data=housing, bins=bins)"
   ]
  },
  {
   "cell_type": "code",
   "execution_count": 20,
   "metadata": {},
   "outputs": [
    {
     "data": {
      "text/plain": [
       "count    1201.000000\n",
       "mean       70.049958\n",
       "std        24.284752\n",
       "min        21.000000\n",
       "25%        59.000000\n",
       "50%        69.000000\n",
       "75%        80.000000\n",
       "max       313.000000\n",
       "Name: LotFrontage, dtype: float64"
      ]
     },
     "execution_count": 20,
     "metadata": {},
     "output_type": "execute_result"
    }
   ],
   "source": [
    "housing['LotFrontage'].describe()"
   ]
  },
  {
   "cell_type": "markdown",
   "metadata": {},
   "source": [
    "Usually, this sort of data would be best handled by multiple imputation. However, in the interest of time for this project, I will be doing a simple imputation. Since mean and median are only nearly the same and the distribution is skewed, I will impute with the median. "
   ]
  },
  {
   "cell_type": "code",
   "execution_count": 21,
   "metadata": {},
   "outputs": [
    {
     "data": {
      "text/plain": [
       "count    1460.000000\n",
       "mean       69.863699\n",
       "std        22.027677\n",
       "min        21.000000\n",
       "25%        60.000000\n",
       "50%        69.000000\n",
       "75%        79.000000\n",
       "max       313.000000\n",
       "Name: LotFrontage, dtype: float64"
      ]
     },
     "execution_count": 21,
     "metadata": {},
     "output_type": "execute_result"
    }
   ],
   "source": [
    "housing['LotFrontage'] = housing['LotFrontage'].fillna(housing['LotFrontage'].median())\n",
    "housing['LotFrontage'].describe()"
   ]
  },
  {
   "cell_type": "code",
   "execution_count": 22,
   "metadata": {},
   "outputs": [
    {
     "data": {
      "image/png": "[encoded data removed]",
      "text/plain": [
       "<Figure size 432x288 with 1 Axes>"
      ]
     },
     "metadata": {
      "needs_background": "light"
     },
     "output_type": "display_data"
    }
   ],
   "source": [
    "bins = int(np.sqrt(housing['LotFrontage'].count()))\n",
    "_ = sns.histplot(x='LotFrontage', data=housing, bins=bins)"
   ]
  },
  {
   "cell_type": "markdown",
   "metadata": {},
   "source": [
    "Following the imputation, the distribution of the LotFrontage data has become slightly more normalized. Let's take a last look at missing values to make sure all of them have been dealt with:"
   ]
  },
  {
   "cell_type": "code",
   "execution_count": 23,
   "metadata": {},
   "outputs": [
    {
     "data": {
      "text/html": [
       "<div>\n",
       "<style scoped>\n",
       "    .dataframe tbody tr th:only-of-type {\n",
       "        vertical-align: middle;\n",
       "    }\n",
       "\n",
       "    .dataframe tbody tr th {\n",
       "        vertical-align: top;\n",
       "    }\n",
       "\n",
       "    .dataframe thead th {\n",
       "        text-align: right;\n",
       "    }\n",
       "</style>\n",
       "<table border=\"1\" class=\"dataframe\">\n",
       "  <thead>\n",
       "    <tr style=\"text-align: right;\">\n",
       "      <th></th>\n",
       "      <th>count_missing</th>\n",
       "      <th>%_missing</th>\n",
       "    </tr>\n",
       "  </thead>\n",
       "  <tbody>\n",
       "  </tbody>\n",
       "</table>\n",
       "</div>"
      ],
      "text/plain": [
       "Empty DataFrame\n",
       "Columns: [count_missing, %_missing]\n",
       "Index: []"
      ]
     },
     "execution_count": 23,
     "metadata": {},
     "output_type": "execute_result"
    }
   ],
   "source": [
    "missing = pd.concat([housing.isnull().sum(), 100 * housing.isnull().mean().round(4)], axis=1)\n",
    "missing.columns=['count_missing', '%_missing']\n",
    "missing_values = missing.sort_values(by=['count_missing', '%_missing'], ascending=False)\n",
    "cols_missing = missing_values.loc[missing_values['count_missing'] != 0.00]\n",
    "cols_missing"
   ]
  },
  {
   "cell_type": "markdown",
   "metadata": {},
   "source": [
    "Perfect! No more missing values.  \n",
    "To make it easier on processing later, I'm going to convert MasVnrArea and LotFrontage to dtype integers:"
   ]
  },
  {
   "cell_type": "code",
   "execution_count": 24,
   "metadata": {},
   "outputs": [
    {
     "name": "stdout",
     "output_type": "stream",
     "text": [
      "<class 'pandas.core.frame.DataFrame'>\n",
      "RangeIndex: 1460 entries, 0 to 1459\n",
      "Data columns (total 2 columns):\n",
      " #   Column       Non-Null Count  Dtype\n",
      "---  ------       --------------  -----\n",
      " 0   LotFrontage  1460 non-null   int64\n",
      " 1   MasVnrArea   1460 non-null   int64\n",
      "dtypes: int64(2)\n",
      "memory usage: 22.9 KB\n"
     ]
    }
   ],
   "source": [
    "housing[['LotFrontage', 'MasVnrArea']] = housing[['LotFrontage', 'MasVnrArea']].astype('int64')\n",
    "housing[['LotFrontage', 'MasVnrArea']].info()"
   ]
  },
  {
   "cell_type": "markdown",
   "metadata": {},
   "source": [
    "Now it's time to identify correlations between the features themselves and between my target value (SalePrice) and the features. Let's take a look at the heatmap for the numerical values (I will only display for numerical values due to the high volume of features that are categorical):"
   ]
  },
  {
   "cell_type": "code",
   "execution_count": 25,
   "metadata": {},
   "outputs": [],
   "source": [
    "#_ = plt.figure(figsize=(18,16))\n",
    "#_ = sns.heatmap(housing.corr(), annot=True)"
   ]
  },
  {
   "cell_type": "markdown",
   "metadata": {},
   "source": [
    "Pretty, but incomplete and quite unreadable. Time for some computing!  \n",
    "I want to find out what can considered a high correlation for this data. Below, I will get dummy variables for the categorical values and compute the pearson correlation coefficients for all variables and extract the upper triangle of the correlation matrix for my dataset.\n",
    "For the sake of computing, I have decided to drop the Id column below, and to convert the YrMoSold column to a YearSold column treated as a categorical feature."
   ]
  },
  {
   "cell_type": "code",
   "execution_count": 26,
   "metadata": {},
   "outputs": [],
   "source": [
    "housing_w_dummies = pd.get_dummies(housing.drop(['Id','YrMoSold'], axis=1))\n",
    "housing_w_dummies['YearSold'] = housing['YrMoSold'].dt.year.astype(object)\n",
    "housing_wd_matrix = housing_w_dummies.corr().abs()"
   ]
  },
  {
   "cell_type": "code",
   "execution_count": 27,
   "metadata": {},
   "outputs": [],
   "source": [
    "# extracting upper triangle of corr matrix\n",
    "housing_corr_triu = (housing_wd_matrix.where(np.triu(np.ones(housing_wd_matrix.shape), k=1).astype(np.bool)))\n",
    "triu_values = housing_corr_triu.to_numpy()\n",
    "triu_values = triu_values[~(np.isnan(triu_values))] "
   ]
  },
  {
   "cell_type": "markdown",
   "metadata": {},
   "source": [
    "Now that we have all the correlation coefficients from the upper triangle, I will map the distribution of the correlation coefficients and decide on appropriate thresholds for my data."
   ]
  },
  {
   "cell_type": "code",
   "execution_count": 28,
   "metadata": {},
   "outputs": [
    {
     "data": {
      "image/png": "[encoded data removed]",
      "text/plain": [
       "<Figure size 432x288 with 1 Axes>"
      ]
     },
     "metadata": {
      "needs_background": "light"
     },
     "output_type": "display_data"
    }
   ],
   "source": [
    "_ = sns.histplot(triu_values, bins=5)"
   ]
  },
  {
   "cell_type": "code",
   "execution_count": 29,
   "metadata": {},
   "outputs": [
    {
     "name": "stdout",
     "output_type": "stream",
     "text": [
      "min: 3.57509252700229e-17   max: 1.0\n",
      "mean: 0.029138424857317578   median: 0.012677313820927343\n",
      "80th quantile: 0.03850075707590965   95th quantile: 0.06900774654293529\n"
     ]
    }
   ],
   "source": [
    "print('min:', np.amin(triu_values), ' ', 'max:', np.amax(triu_values))\n",
    "print('mean:', np.mean(triu_values), ' ', 'median:', np.median(triu_values))\n",
    "print('80th quantile:', np.quantile(triu_values, 0.8), ' ', '95th quantile:', np.quantile(triu_values, 0.90))"
   ]
  },
  {
   "cell_type": "markdown",
   "metadata": {},
   "source": [
    "Pearson Correlation coefficients are considered high when ±0.5 and moderate between ±0.30 and ±0.49. Thus, I will move on with variable pairs of corr coef ±0.5 or higher.  \n",
    "What are the feature/feature pairs and feature/target pairs that fall in that category?"
   ]
  },
  {
   "cell_type": "code",
   "execution_count": 35,
   "metadata": {},
   "outputs": [],
   "source": [
    "sol = (housing_wd_matrix.where(np.triu(np.ones(housing_wd_matrix.shape), k=1).astype(np.bool))\n",
    "                  .stack()\n",
    "                  .sort_values(ascending=False))"
   ]
  },
  {
   "cell_type": "code",
   "execution_count": 49,
   "metadata": {},
   "outputs": [
    {
     "name": "stdout",
     "output_type": "stream",
     "text": [
      "[(('GrLivArea', 'SalePrice'), 0.7086244776126511), (('GarageCars', 'SalePrice'), 0.640409197258349), (('GarageArea', 'SalePrice'), 0.6234314389183598), (('TotalBsmtSF', 'SalePrice'), 0.6135805515591944), (('1stFlrSF', 'SalePrice'), 0.6058521846919166), (('SalePrice', 'ExterQual_TA'), 0.589043523409763), (('FullBath', 'SalePrice'), 0.5606637627484452), (('SalePrice', 'BsmtQual_Ex'), 0.5531048470089422), (('TotRmsAbvGrd', 'SalePrice'), 0.5337231555820238), (('SalePrice', 'KitchenQual_TA'), 0.5192978536548846), (('SalePrice', 'KitchenQual_Ex'), 0.5040936759052956), (('SalePrice', 'Foundation_PConc'), 0.4977337525869438), (('MasVnrArea', 'SalePrice'), 0.47261449900457725), (('SalePrice', 'FireplaceQu_Na'), 0.4719080685164922), (('Fireplaces', 'SalePrice'), 0.4669288367515242), (('SalePrice', 'ExterQual_Gd'), 0.45246612784479223), (('SalePrice', 'BsmtQual_TA'), 0.45239353235010327), (('SalePrice', 'ExterQual_Ex'), 0.45116433022275354), (('SalePrice', 'BsmtFinType1_GLQ'), 0.4345973468827756), (('SalePrice', 'HeatingQC_Ex'), 0.434543238532467), (('SalePrice', 'OverallQual_8'), 0.42597927919302947), (('SalePrice', 'GarageFinish_Fin'), 0.41967796781801714), (('SalePrice', 'GarageFinish_Unf'), 0.41060831129167175), (('SalePrice', 'OverallQual_9'), 0.40929626744386477), (('SalePrice', 'Neighborhood_NridgHt'), 0.40214859817526666)]\n",
      "[(('Exterior1st_CBlock', 'Exterior2nd_CBlock'), 1.0), (('GarageType_Na', 'GarageCond_Na'), 1.0), (('CentralAir_N', 'CentralAir_Y'), 1.0), (('BsmtCond_Na', 'BsmtFinType1_Na'), 1.0), (('BsmtQual_Na', 'BsmtFinType1_Na'), 1.0), (('BsmtQual_Na', 'BsmtCond_Na'), 1.0), (('GarageType_Na', 'GarageYrBlt_Na'), 1.0), (('GarageType_Na', 'GarageFinish_Na'), 1.0), (('Condition2_PosA', 'YearBuilt_1893'), 1.0), (('GarageType_Na', 'GarageQual_Na'), 1.0), (('YearBuilt_1906', 'GarageYrBlt_1906.0'), 1.0), (('MSSubClass_90', 'BldgType_Duplex'), 1.0), (('Street_Grvl', 'Street_Pave'), 1.0), (('GarageYrBlt_Na', 'GarageFinish_Na'), 1.0), (('GarageYrBlt_Na', 'GarageQual_Na'), 1.0), (('YearBuilt_1942', 'GarageYrBlt_1942.0'), 1.0), (('GarageYrBlt_Na', 'GarageCond_Na'), 1.0), (('GarageQual_Na', 'GarageCond_Na'), 1.0), (('GarageFinish_Na', 'GarageQual_Na'), 1.0), (('YearBuilt_1952', 'YearRemodAdd_1952'), 1.0), (('GarageFinish_Na', 'GarageCond_Na'), 1.0), (('YearBuilt_2001', 'GarageYrBlt_2001.0'), 1.0), (('Utilities_AllPub', 'Utilities_NoSeWa'), 1.0), (('PoolArea', 'PoolQC_Na'), 0.9896653207254275), (('SaleType_New', 'SaleCondition_Partial'), 0.9868189596845469), (('BsmtExposure_Na', 'BsmtFinType1_Na'), 0.9864076049046027), (('BsmtCond_Na', 'BsmtExposure_Na'), 0.9864076049046027), (('BsmtQual_Na', 'BsmtExposure_Na'), 0.9864076049046027), (('BsmtFinType1_Na', 'BsmtFinType2_Na'), 0.9864076049046013), (('BsmtCond_Na', 'BsmtFinType2_Na'), 0.9864076049046013), (('BsmtQual_Na', 'BsmtFinType2_Na'), 0.9864076049046013), (('MSSubClass_190', 'BldgType_2fmCon'), 0.9833947289219932), (('Exterior1st_VinylSd', 'Exterior2nd_VinylSd'), 0.9775248873036383), (('Exterior1st_CemntBd', 'Exterior2nd_CmentBd'), 0.9741710841939875), (('Exterior1st_MetalSd', 'Exterior2nd_MetalSd'), 0.9730651937625462), (('BsmtExposure_Na', 'BsmtFinType2_Na'), 0.9729809756458677), (('YearBuilt_2004', 'GarageYrBlt_2004.0'), 0.9709419272988657), (('YearBuilt_1969', 'GarageYrBlt_1969.0'), 0.9657576686708738), (('MiscFeature_Na', 'MiscFeature_Shed'), 0.95089007310162), (('YearBuilt_2005', 'GarageYrBlt_2005.0'), 0.9432595523605365), (('YearBuilt_1984', 'GarageYrBlt_1984.0'), 0.9424843269033665), (('MSSubClass_80', 'HouseStyle_SLvl'), 0.9422592628254627), (('YearBuilt_2000', 'GarageYrBlt_2000.0'), 0.9418236982977709), (('MSSubClass_50', 'HouseStyle_1.5Fin'), 0.9408712295935623), (('YearBuilt_2002', 'GarageYrBlt_2002.0'), 0.9395576557111024), (('RoofStyle_Gable', 'RoofStyle_Hip'), 0.9334615823692267), (('YearBuilt_1969', 'YearRemodAdd_1969'), 0.9278798656392001), (('LotShape_IR1', 'LotShape_Reg'), 0.9259589789196699), (('YearBuilt_2003', 'GarageYrBlt_2003.0'), 0.9252148634544626), (('MSSubClass_45', 'HouseStyle_1.5Unf'), 0.9251805003181494), (('YearBuilt_1992', 'GarageYrBlt_1992.0'), 0.9223858380734665), (('YearBuilt_1953', 'GarageYrBlt_1953.0'), 0.9159760589318573), (('YearBuilt_1999', 'GarageYrBlt_1999.0'), 0.9112791739465446), (('LandSlope_Gtl', 'LandSlope_Mod'), 0.9086074526366464), (('YearBuilt_1973', 'YearRemodAdd_1973'), 0.9084007779660157), (('ExterQual_Gd', 'ExterQual_TA'), 0.9061205814782314), (('YearBuilt_1971', 'YearRemodAdd_1971'), 0.903278607682468), (('YearBuilt_1976', 'GarageYrBlt_1976.0'), 0.9030990728641125), (('Fireplaces', 'FireplaceQu_Na'), 0.9004572893254378), (('YearBuilt_1963', 'YearRemodAdd_1963'), 0.9004529306432845), (('YearBuilt_1998', 'GarageYrBlt_1998.0'), 0.8961471362354515), (('YearRemodAdd_1969', 'GarageYrBlt_1969.0'), 0.8960588947578981), (('ExterCond_Gd', 'ExterCond_TA'), 0.8945667598844518), (('YearBuilt_1976', 'YearRemodAdd_1976'), 0.887496060043279), (('YearBuilt_2006', 'GarageYrBlt_2006.0'), 0.885850913879681), (('YearBuilt_1973', 'GarageYrBlt_1973.0'), 0.8854871811961444), (('MiscVal', 'MiscFeature_Gar2'), 0.8854265538091471), (('Exterior1st_HdBoard', 'Exterior2nd_HdBoard'), 0.8832713970304688), (('GarageCars', 'GarageArea'), 0.8824754142814603), (('YearBuilt_1977', 'YearRemodAdd_1977'), 0.8817250276533248), (('YearBuilt_1993', 'GarageYrBlt_1993.0'), 0.8775247973987754), (('YearBuilt_1968', 'GarageYrBlt_1968.0'), 0.876075000010759), (('YearBuilt_1978', 'YearRemodAdd_1978'), 0.8736149584487511), (('YearBuilt_1966', 'GarageYrBlt_1966.0'), 0.8727257953292288), (('YearBuilt_1967', 'YearRemodAdd_1967'), 0.8648284088740662), (('MSZoning_FV', 'Neighborhood_Somerst'), 0.8628071099772037), (('YearRemodAdd_2009', 'GarageYrBlt_2009.0'), 0.8624733962564803), (('Exterior1st_Wd Sdng', 'Exterior2nd_Wd Sdng'), 0.8592439328330238), (('Electrical_FuseA', 'Electrical_SBrkr'), 0.8572829837352558), (('YearBuilt_1962', 'YearRemodAdd_1962'), 0.856909704594742), (('PavedDrive_N', 'PavedDrive_Y'), 0.8564908886472611), (('YearBuilt_1964', 'YearRemodAdd_1964'), 0.8551660357499438), (('YearBuilt_1966', 'YearRemodAdd_1966'), 0.85036908359629), (('YearBuilt_1957', 'GarageYrBlt_1957.0'), 0.8479166666666683), (('Exterior1st_AsbShng', 'Exterior2nd_AsbShng'), 0.8479166666666632), (('YearRemodAdd_1976', 'GarageYrBlt_1976.0'), 0.844439150988673), (('YearBuilt_1956', 'YearRemodAdd_1956'), 0.8439877196594261), (('YearBuilt_1979', 'YearRemodAdd_1979'), 0.8422566990428789), (('YearBuilt_1970', 'YearRemodAdd_1970'), 0.8379112187300143), (('YearBuilt_1967', 'GarageYrBlt_1967.0'), 0.8374260096450346), (('RoofStyle_Flat', 'RoofMatl_Tar&Grv'), 0.8349139241479662), (('YearBuilt_1960', 'GarageYrBlt_1960.0'), 0.8325774508019541), (('YearBuilt_1995', 'GarageYrBlt_1995.0'), 0.8312528895053127), (('YearBuilt_1959', 'YearRemodAdd_1959'), 0.8297390390556166), (('GrLivArea', 'TotRmsAbvGrd'), 0.8254893743088377), (('YearBuilt_1968', 'YearRemodAdd_1968'), 0.825115969606817), (('KitchenQual_Gd', 'KitchenQual_TA'), 0.8244565220642256), (('YearBuilt_1939', 'GarageYrBlt_1939.0'), 0.8239430521549996), (('YearBuilt_2009', 'GarageYrBlt_2009.0'), 0.8205950506610388), (('YearBuilt_1953', 'YearRemodAdd_1953'), 0.820261030248554), (('YearRemodAdd_1953', 'GarageYrBlt_1953.0'), 0.8202610302485503), (('YearBuilt_1980', 'YearRemodAdd_1980'), 0.8202610302485303), (('TotalBsmtSF', '1stFlrSF'), 0.8195299750050355), (('GarageQual_Ex', 'GarageCond_Ex'), 0.816216527213095), (('YearBuilt_1951', 'YearRemodAdd_1951'), 0.8159356076008327), (('YearBuilt_1926', 'GarageYrBlt_1926.0'), 0.8156538180185455), (('YearBuilt_1941', 'GarageYrBlt_1941.0'), 0.815087612525164), (('2ndFlrSF', 'HouseStyle_2Story'), 0.8091497798648758), (('MSZoning_RL', 'MSZoning_RM'), 0.808585354636309), (('YearBuilt_1959', 'GarageYrBlt_1959.0'), 0.8060819507386094), (('YearBuilt_1948', 'GarageYrBlt_1948.0'), 0.804208966400076), (('YearBuilt_1988', 'GarageYrBlt_1988.0'), 0.8042089664000757), (('YearRemodAdd_1973', 'GarageYrBlt_1973.0'), 0.8042089664000694), (('YearBuilt_1977', 'GarageYrBlt_1977.0'), 0.8022657035678075), (('Foundation_Slab', 'BsmtFinType1_Na'), 0.801733422788776), (('Foundation_Slab', 'BsmtQual_Na'), 0.801733422788776), (('Foundation_Slab', 'BsmtCond_Na'), 0.801733422788776), (('YearBuilt_1978', 'GarageYrBlt_1978.0'), 0.8006096559423845), (('YearBuilt_1956', 'GarageYrBlt_1956.0'), 0.7997494026015813), (('YearBuilt_1958', 'GarageYrBlt_1958.0'), 0.7987164663223745), (('YearBuilt_1965', 'GarageYrBlt_1965.0'), 0.7987164663223715), (('MasVnrType_BrkFace', 'MasVnrType_None'), 0.7972246632446848), (('YearBuilt_1997', 'GarageYrBlt_1997.0'), 0.794894825606506), (('YearBuilt_1990', 'GarageYrBlt_1990.0'), 0.7919608259472175), (('Foundation_Slab', 'BsmtExposure_Na'), 0.7908359453450374), (('Foundation_Slab', 'BsmtFinType2_Na'), 0.7908359453450364), (('YearBuilt_1916', 'GarageYrBlt_1916.0'), 0.7897539744795067), (('YearBuilt_1972', 'YearRemodAdd_1972'), 0.7895665442675613), (('YearBuilt_2007', 'GarageYrBlt_2007.0'), 0.7888311951286556), (('YearBuilt_1964', 'GarageYrBlt_1964.0'), 0.7888153472526782), (('2ndFlrSF', 'HouseStyle_1Story'), 0.7887493033172002), (('GarageQual_TA', 'GarageCond_TA'), 0.7862160410632032), (('Foundation_CBlock', 'Foundation_PConc'), 0.7815584678082255), (('Exterior1st_Stucco', 'Exterior2nd_Stucco'), 0.7806365978824735), (('MSSubClass_120', 'BldgType_TwnhsE'), 0.7786842679657665), (('YearBuilt_1952', 'GarageYrBlt_1952.0'), 0.7740648486026048), (('YearRemodAdd_1952', 'GarageYrBlt_1952.0'), 0.7740648486026048), (('SaleType_New', 'SaleType_WD'), 0.7736802516813371), (('YearBuilt_1979', 'GarageYrBlt_1979.0'), 0.7729935009083853), (('SaleType_WD', 'SaleCondition_Partial'), 0.7695593050913268), (('BsmtQual_Gd', 'BsmtQual_TA'), 0.766390500705245), (('MSSubClass_60', 'HouseStyle_2Story'), 0.7627428800729786), (('GarageYrBlt_Na', 'GarageCond_TA'), 0.7623944729853763), (('GarageFinish_Na', 'GarageCond_TA'), 0.7623944729853763), (('GarageType_Na', 'GarageCond_TA'), 0.7623944729853763), (('GarageCond_Na', 'GarageCond_TA'), 0.7623944729853763), (('GarageQual_Na', 'GarageCond_TA'), 0.7623944729853763), (('YearBuilt_1954', 'YearRemodAdd_1954'), 0.7611170844414847), (('YearRemodAdd_1963', 'GarageYrBlt_1963.0'), 0.7603867385764609), (('MSSubClass_20', 'HouseStyle_1Story'), 0.760135063325946), (('YearRemodAdd_1968', 'GarageYrBlt_1968.0'), 0.7578056504646691), (('YearBuilt_1946', 'GarageYrBlt_1946.0'), 0.755149771498362), (('YearBuilt_1983', 'GarageYrBlt_1983.0'), 0.7551497714983544), (('Exterior1st_Plywood', 'Exterior2nd_Plywood'), 0.7550852636864804), (('YearBuilt_1961', 'YearRemodAdd_1961'), 0.7543654925432617), (('YearBuilt_1994', 'GarageYrBlt_1994.0'), 0.7539198330477634), (('LotConfig_Corner', 'LotConfig_Inside'), 0.7526768997643796), (('YearBuilt_1962', 'GarageYrBlt_1962.0'), 0.7474976367757314), (('YearBuilt_1963', 'GarageYrBlt_1963.0'), 0.7472299168975107), (('Heating_GasA', 'Heating_GasW'), 0.7463503433049903), (('YearBuilt_1954', 'GarageYrBlt_1954.0'), 0.7456236991441421), (('YearBuilt_1965', 'YearRemodAdd_1965'), 0.745623699144139), (('YearBuilt_1936', 'GarageYrBlt_1936.0'), 0.7443307430565982), (('YearBuilt_1985', 'YearRemodAdd_1985'), 0.744330743056591), (('YearRemodAdd_1967', 'GarageYrBlt_1967.0'), 0.7430376212061585), (('YearRemodAdd_1977', 'GarageYrBlt_1977.0'), 0.7386575135495511), (('YearRemodAdd_1975', 'GarageYrBlt_1975.0'), 0.7361570630978569), (('YearBuilt_1980', 'GarageYrBlt_1980.0'), 0.7327327395641485), (('MSSubClass_85', 'HouseStyle_SFoyer'), 0.7308619289299085), (('Alley_Grvl', 'Alley_Na'), 0.7303927837677623), (('YearRemodAdd_1966', 'GarageYrBlt_1966.0'), 0.7293036663540968), (('GarageType_Attchd', 'GarageType_Detchd'), 0.7292715006548748), (('YearRemodAdd_2008', 'GarageYrBlt_2008.0'), 0.7279030874712243), (('YearBuilt_1950', 'GarageYrBlt_1950.0'), 0.7262345987754011), (('GarageQual_TA', 'GarageCond_Na'), 0.7189001727811684), (('GarageFinish_Na', 'GarageQual_TA'), 0.7189001727811684), (('GarageQual_Na', 'GarageQual_TA'), 0.7189001727811684), (('GarageYrBlt_Na', 'GarageQual_TA'), 0.7189001727811684), (('GarageType_Na', 'GarageQual_TA'), 0.7189001727811684), (('BsmtFinSF2', 'BsmtFinType2_Unf'), 0.7162350291966189), (('YearBuilt_1974', 'YearRemodAdd_1974'), 0.7155730045635126), (('Fence_MnPrv', 'Fence_Na'), 0.711019253353213), (('YearRemodAdd_1956', 'GarageYrBlt_1956.0'), 0.7091646898036391), (('YearRemodAdd_1964', 'GarageYrBlt_1964.0'), 0.7080654255271384), (('OverallCond_1', 'BsmtCond_Po'), 0.7068644138165758), (('OverallQual_1', 'OverallCond_1'), 0.7068644138165758), (('BsmtCond_Po', 'Electrical_Mix'), 0.7068644138165753), (('YearBuilt_1908', 'GarageYrBlt_1908.0'), 0.7068644138165643), (('Condition2_RRAe', 'RoofStyle_Shed'), 0.706864413816558), (('YearBuilt_1917', 'Heating_OthW'), 0.7068644138165576), (('Condition2_RRAe', 'MiscFeature_Gar2'), 0.7068644138165557), (('YearBuilt_1872', 'Heating_OthW'), 0.7068644138165552), (('PoolQC_Fa', 'MiscFeature_TenC'), 0.7068644138165533), (('YearRemodAdd_2010', 'GarageYrBlt_2010.0'), 0.7063784306606994), (('YearBuilt_1921', 'GarageYrBlt_1921.0'), 0.7063784306606986), (('YearBuilt_1981', 'GarageYrBlt_1981.0'), 0.7058907755039622), (('YearBuilt_1960', 'YearRemodAdd_1960'), 0.6972833704107149), (('YearRemodAdd_1962', 'GarageYrBlt_1962.0'), 0.6964600893525773), (('YearRemodAdd_2007', 'GarageYrBlt_2007.0'), 0.6925125364248493), (('YearBuilt_2008', 'GarageYrBlt_2008.0'), 0.6915909978278166), (('YearBuilt_1940', 'GarageYrBlt_1940.0'), 0.6896200508133856), (('YearBuilt_1996', 'GarageYrBlt_1996.0'), 0.6892191727243113), (('2ndFlrSF', 'GrLivArea'), 0.6875010641666008), (('2ndFlrSF', 'MSSubClass_60'), 0.6870626548777046), (('YearRemodAdd_1978', 'GarageYrBlt_1978.0'), 0.6845101229988142), (('YearBuilt_2009', 'YearRemodAdd_2009'), 0.6837274671432932), (('YearRemodAdd_1959', 'GarageYrBlt_1959.0'), 0.6821899068720729), (('YearBuilt_1958', 'YearRemodAdd_1958'), 0.6812668904633601), (('KitchenAbvGr', 'MSSubClass_90'), 0.6808438300473569), (('KitchenAbvGr', 'BldgType_Duplex'), 0.6808438300473569), (('MasVnrArea', 'MasVnrType_None'), 0.6798979419166908), (('YearBuilt_1970', 'GarageYrBlt_1970.0'), 0.6798927056717329), (('BedroomAbvGr', 'TotRmsAbvGrd'), 0.6766199357426479), (('MSSubClass_75', 'HouseStyle_2.5Unf'), 0.6755615120995698), (('PoolArea', 'PoolQC_Gd'), 0.6724991164144468), (('YearRemodAdd_1958', 'GarageYrBlt_1958.0'), 0.6722566075340061), (('Exterior1st_BrkFace', 'Exterior2nd_BrkFace'), 0.6718892280734948), (('ExterQual_TA', 'KitchenQual_TA'), 0.6715999301550697), (('YearBuilt_1983', 'YearRemodAdd_1983'), 0.6698218452180984), (('YearBuilt_1975', 'YearRemodAdd_1975'), 0.6688171831168888), (('YearBuilt_1957', 'YearRemodAdd_1957'), 0.6682728182517107), (('YearRemodAdd_1980', 'GarageYrBlt_1980.0'), 0.6678063502657243), (('YearRemodAdd_1984', 'GarageYrBlt_1984.0'), 0.6664511363584223), (('YearBuilt_1951', 'GarageYrBlt_1951.0'), 0.6652911508482328), (('YearBuilt_1972', 'GarageYrBlt_1972.0'), 0.6648711342414422), (('YearBuilt_1955', 'YearRemodAdd_1955'), 0.6641355050657588), (('YearBuilt_1961', 'GarageYrBlt_1961.0'), 0.6640241423514825), (('Alley_Na', 'Alley_Pave'), 0.6592980003598603), (('HouseStyle_1Story', 'HouseStyle_2Story'), 0.6585174150853308), (('BldgType_1Fam', 'BldgType_TwnhsE'), 0.6561515970234342), (('SaleCondition_Normal', 'SaleCondition_Partial'), 0.6543229256326009), (('HeatingQC_Ex', 'HeatingQC_TA'), 0.653772569252104), (('PoolQC_Gd', 'PoolQC_Na'), 0.653754420735824), (('YearBuilt_1923', 'GarageYrBlt_1923.0'), 0.6537544207358164), (('YearBuilt_1924', 'GarageYrBlt_1924.0'), 0.6537544207358024), (('GarageQual_Po', 'GarageCond_Po'), 0.6537544207357969), (('YearRemodAdd_1970', 'GarageYrBlt_1970.0'), 0.6524544647308635), (('YearRemodAdd_1979', 'GarageYrBlt_1979.0'), 0.6503778666031331), (('BsmtFinSF1', 'BsmtFullBath'), 0.6492117535742737), (('RoofStyle_Flat', 'RoofMatl_CompShg'), 0.6487935494949995), (('RoofMatl_CompShg', 'RoofMatl_Tar&Grv'), 0.6470681917574307), (('YearBuilt_1971', 'GarageYrBlt_1971.0'), 0.6466140118332323), (('YearRemodAdd_1965', 'GarageYrBlt_1965.0'), 0.6459817491712038), (('SaleType_New', 'SaleCondition_Normal'), 0.6456982687704819), (('BsmtCond_Gd', 'BsmtCond_TA'), 0.6402915731866492), (('SaleType_WD', 'SaleCondition_Normal'), 0.6343220052844365), (('YearBuilt_1922', 'GarageYrBlt_1922.0'), 0.6309329272701414), (('YearBuilt_1981', 'YearRemodAdd_1981'), 0.6309329272701294), (('Condition2_Feedr', 'Condition2_Norm'), 0.6304951003194444), (('GrLivArea', 'FullBath'), 0.6300116462511144), (('LandContour_Bnk', 'LandContour_Lvl'), 0.6299125822715068), (('BsmtFinSF1', 'BsmtFinType1_Unf'), 0.6286900274640428), (('ExterQual_Gd', 'KitchenQual_Gd'), 0.6283627980698405), (('Neighborhood_NPkVill', 'Exterior2nd_Brk Cmn'), 0.627945257087147), (('YearBuilt_1984', 'YearRemodAdd_1984'), 0.6279452570871439), (('HalfBath', 'HouseStyle_2Story'), 0.6233989557521893), (('MSSubClass_160', 'BldgType_Twnhs'), 0.6209360500005081), (('ExterQual_TA', 'Foundation_PConc'), 0.6208361707448782), (('YearBuilt_1955', 'GarageYrBlt_1955.0'), 0.6203205465096389), (('ExterQual_Gd', 'KitchenQual_TA'), 0.6175980103656968), (('2ndFlrSF', 'TotRmsAbvGrd'), 0.6164226354915353), (('YearBuilt_1999', 'YearRemodAdd_1999'), 0.6135521599131052), (('YearBuilt_1945', 'GarageYrBlt_1945.0'), 0.6111099564493301), (('YearBuilt_1931', 'GarageYrBlt_1931.0'), 0.6111099564493295), (('YearRemodAdd_1951', 'GarageYrBlt_1951.0'), 0.6111099564493195), (('GarageType_Detchd', 'GarageFinish_Unf'), 0.6099825363279137), (('2ndFlrSF', 'HalfBath'), 0.6097073002717444), (('YearRemodAdd_1954', 'GarageYrBlt_1954.0'), 0.6088501886418548), (('Condition1_Feedr', 'Condition1_Norm'), 0.6083179772301108), (('HalfBath', 'MSSubClass_60'), 0.6060948240942208), (('Foundation_PConc', 'BsmtQual_TA'), 0.6037972450836326), (('BsmtUnfSF', 'BsmtFinType1_Unf'), 0.6027065835973973), (('2ndFlrSF', 'MSSubClass_20'), 0.6027058687432333), (('YearRemodAdd_2006', 'GarageYrBlt_2006.0'), 0.6016598940195762), (('YearRemodAdd_1992', 'GarageYrBlt_1992.0'), 0.6014026401075583), (('YearBuilt_1992', 'YearRemodAdd_1992'), 0.6014026401075574), (('YearBuilt_1986', 'YearRemodAdd_1986'), 0.5986254295532684), (('YearBuilt_2000', 'YearRemodAdd_2000'), 0.5968268718687383), (('YearBuilt_1991', 'GarageYrBlt_1991.0'), 0.5945412344607809), (('YearRemodAdd_1957', 'GarageYrBlt_1957.0'), 0.5929889976770616), (('YearBuilt_1974', 'GarageYrBlt_1974.0'), 0.5927819301170875), (('YearBuilt_1998', 'YearRemodAdd_1998'), 0.5918197004855245), (('LowQualFinSF', 'HouseStyle_2.5Fin'), 0.5904622785083744), (('YearRemodAdd_1998', 'GarageYrBlt_1998.0'), 0.5893262119715458), (('YearBuilt_1975', 'GarageYrBlt_1975.0'), 0.5868605026582928), (('ExterQual_Gd', 'Foundation_PConc'), 0.5867480481214732), (('YearRemodAdd_1961', 'GarageYrBlt_1961.0'), 0.5855756435534837), (('SaleCondition_Abnorml', 'SaleCondition_Normal'), 0.5829465305280391), (('YearRemodAdd_1993', 'GarageYrBlt_1993.0'), 0.5810952531380512), (('BsmtExposure_Av', 'BsmtExposure_No'), 0.5790325183550025), (('RoofMatl_ClyTile', 'PoolQC_Gd'), 0.5769544170558807), (('Exterior1st_AsphShn', 'Exterior2nd_AsphShn'), 0.5769544170558796), (('YearBuilt_1898', 'GarageYrBlt_1910.0'), 0.5769544170558775), (('YearBuilt_1893', 'ExterCond_Ex'), 0.5769544170558746), (('Condition2_PosA', 'ExterCond_Ex'), 0.5769544170558746), (('YearBuilt_1927', 'GarageYrBlt_1927.0'), 0.5769544170558737), (('Electrical_Mix', 'GarageQual_Po'), 0.5769544170558731), (('YearBuilt_2010', 'GarageYrBlt_2010.0'), 0.5769544170558726), (('YearBuilt_1932', 'GarageYrBlt_1932.0'), 0.5763593140172698), (('YearBuilt_1938', 'GarageYrBlt_1938.0'), 0.5763593140172645), (('GarageCars', 'GarageCond_Na'), 0.573287276474489), (('GarageCars', 'GarageQual_Na'), 0.573287276474489), (('GarageCars', 'GarageType_Na'), 0.573287276474489), (('GarageCars', 'GarageFinish_Na'), 0.573287276474489), (('GarageCars', 'GarageYrBlt_Na'), 0.573287276474489), (('MasVnrArea', 'MasVnrType_BrkFace'), 0.5713282142280461), (('YearBuilt_2003', 'YearRemodAdd_2003'), 0.5704182910467853), (('Functional_Min2', 'Functional_Typ'), 0.5694415462664489), (('1stFlrSF', 'GrLivArea'), 0.5660239689357487), (('YearBuilt_1928', 'GarageYrBlt_1928.0'), 0.5654528227049038), (('YearBuilt_1985', 'GarageYrBlt_1985.0'), 0.5637389779541979), (('YearBuilt_2002', 'YearRemodAdd_2002'), 0.5627801062089182), (('ExterQual_Ex', 'KitchenQual_Ex'), 0.5623998665387161), (('Exterior1st_VinylSd', 'Foundation_PConc'), 0.5620493916703484), (('MSZoning_RM', 'Neighborhood_OldTown'), 0.5618807428263541), (('Exterior2nd_VinylSd', 'Foundation_PConc'), 0.5616080675314205), (('FireplaceQu_Gd', 'FireplaceQu_Na'), 0.5615120793854956), (('YearRemodAdd_2000', 'GarageYrBlt_2000.0'), 0.560264881022755), (('YearRemodAdd_2003', 'GarageYrBlt_2003.0'), 0.5590347387571508), (('LandContour_HLS', 'LandContour_Lvl'), 0.5585777823548579), (('ExterQual_TA', 'KitchenQual_Gd'), 0.5576052859079708), (('YearRemodAdd_1999', 'GarageYrBlt_1999.0'), 0.5575757575757513), (('FullBath', 'TotRmsAbvGrd'), 0.5547842535334817), (('Foundation_PConc', 'KitchenQual_TA'), 0.5535084174703403), (('YearBuilt_1925', 'GarageYrBlt_1925.0'), 0.5496299521898889), (('GarageQual_Fa', 'GarageQual_TA'), 0.5469044812982922), (('YearBuilt_1989', 'GarageYrBlt_1989.0'), 0.5464052362704611), (('YearBuilt_2006', 'YearRemodAdd_2006'), 0.5460882232475266), (('YearBuilt_1986', 'GarageYrBlt_1986.0'), 0.5460280201500503), (('MSSubClass_120', 'BldgType_1Fam'), 0.5441224779525679), (('ExterQual_TA', 'BsmtQual_TA'), 0.5432943694669726), (('Functional_Min1', 'Functional_Typ'), 0.5431680131900589), (('LotArea', 'LandSlope_Sev'), 0.5403797885055343), (('YearBuilt_2007', 'YearRemodAdd_2007'), 0.5384280280155157), (('GarageFinish_RFn', 'GarageFinish_Unf'), 0.5363548087430192), (('GarageArea', 'GarageYrBlt_Na'), 0.5363330077786261), (('GarageArea', 'GarageType_Na'), 0.5363330077786261), (('GarageArea', 'GarageQual_Na'), 0.5363330077786261), (('GarageArea', 'GarageFinish_Na'), 0.5363330077786261), (('GarageArea', 'GarageCond_Na'), 0.5363330077786261), (('PoolArea', 'PoolQC_Fa'), 0.5355336375573703), (('LandContour_Lvl', 'LandSlope_Gtl'), 0.5336522255544202), (('PoolQC_Ex', 'PoolQC_Na'), 0.5336051629432222), (('PoolQC_Fa', 'PoolQC_Na'), 0.533605162943221), (('YearBuilt_1914', 'GarageYrBlt_1914.0'), 0.53360516294322), (('Exterior1st_BrkComm', 'Exterior2nd_Brk Cmn'), 0.5336051629432179), (('YearBuilt_1918', 'GarageYrBlt_1918.0'), 0.533605162943206), (('ExterQual_TA', 'HeatingQC_Ex'), 0.5331165706790141), (('MSSubClass_180', 'Neighborhood_MeadowV'), 0.532873881903995), (('ExterQual_Ex', 'BsmtQual_Ex'), 0.5320500380215054), (('Foundation_PConc', 'HeatingQC_Ex'), 0.5312455648460522), (('Exterior1st_WdShing', 'Exterior2nd_Wd Shng'), 0.5309549133756901), (('BsmtCond_Fa', 'BsmtCond_TA'), 0.528976341469284), (('YearRemodAdd_2002', 'GarageYrBlt_2002.0'), 0.5270059635523364), (('MSSubClass_75', 'HouseStyle_2.5Fin'), 0.5269137624527468), (('YearRemodAdd_1960', 'GarageYrBlt_1960.0'), 0.5250463509668015), (('Neighborhood_MeadowV', 'Exterior2nd_CmentBd'), 0.5242997948600551), (('BsmtFinSF1', 'TotalBsmtSF'), 0.5223960519923907), (('GrLivArea', 'BedroomAbvGr'), 0.5212695109189988), (('OverallCond_5', 'Foundation_PConc'), 0.5202083318648149), (('Neighborhood_MeadowV', 'Exterior1st_CemntBd'), 0.5197987549048092), (('BsmtQual_Ex', 'KitchenQual_Ex'), 0.5184568670787231), (('YearBuilt_2008', 'YearRemodAdd_2008'), 0.5179124876674233), (('OverallCond_5', 'OverallCond_6'), 0.5177116675985266), (('OverallQual_9', 'KitchenQual_Ex'), 0.5141114140593316), (('ExterQual_Gd', 'BsmtQual_TA'), 0.5111301155723872), (('Foundation_CBlock', 'BsmtQual_TA'), 0.509388565601865), (('GarageCars', 'GarageCond_TA'), 0.5074377800372312), (('YearBuilt_1949', 'GarageYrBlt_1949.0'), 0.5070730141633154), (('OverallQual_9', 'BsmtQual_Ex'), 0.5060194719689315), (('YearRemodAdd_1983', 'GarageYrBlt_1983.0'), 0.5051163831210378), (('MSSubClass_60', 'HouseStyle_1Story'), 0.5047075072601191), (('YearRemodAdd_2004', 'GarageYrBlt_2004.0'), 0.5039305757739471), (('2ndFlrSF', 'BedroomAbvGr'), 0.5029006133459021), (('MSSubClass_20', 'HouseStyle_2Story'), 0.5012182467268456), (('ExterQual_Gd', 'BsmtQual_Gd'), 0.5008640775042615), (('GarageYrBlt_1918.0', 'PoolQC_Ex'), 0.49931412894376315), (('OverallQual_1', 'BsmtCond_Po'), 0.4993141289437625), (('RoofStyle_Shed', 'MiscFeature_Gar2'), 0.49931412894375776), (('YearBuilt_2004', 'YearRemodAdd_2004'), 0.49865597574242615), (('GarageCars', 'GarageQual_TA'), 0.49761307253659326), (('ExterQual_Gd', 'HeatingQC_Ex'), 0.4975682533332158), (('BsmtFinSF1', 'BsmtFinType1_GLQ'), 0.4974356743911473), (('Fireplaces', 'FireplaceQu_Gd'), 0.4966838147110975), (('MSSubClass_160', 'Neighborhood_BrDale'), 0.49568334068619774), (('BsmtFinSF1', 'BsmtUnfSF'), 0.49525146925701485), (('FullBath', 'BsmtQual_TA'), 0.4948825498745206), (('YearBuilt_1993', 'YearRemodAdd_1993'), 0.4945611153973409), (('FireplaceQu_Na', 'FireplaceQu_TA'), 0.49450381062996357), (('Foundation_PConc', 'BsmtQual_Gd'), 0.49431562127051326), (('GarageCond_Fa', 'GarageCond_TA'), 0.49299890294321375), (('LandContour_Low', 'LandSlope_Gtl'), 0.49251094453149347), (('1stFlrSF', 'GarageArea'), 0.4897816541041915), (('PoolArea', 'PoolQC_Ex'), 0.48942585894938345), (('TotalBsmtSF', 'GarageArea'), 0.48666546377379655), (('BsmtFullBath', 'BsmtFinType1_Unf'), 0.4863478539360346), (('BsmtFinType2_Rec', 'BsmtFinType2_Unf'), 0.4862772539764975), (('ExterQual_TA', 'Foundation_CBlock'), 0.48574517830428016), (('GarageArea', 'GarageCond_TA'), 0.4854444902355834), (('HalfBath', 'HouseStyle_1Story'), 0.4849607091748653), (('GrLivArea', 'MSSubClass_60'), 0.4846616367530952), (('PavedDrive_P', 'PavedDrive_Y'), 0.48401005595517715), (('GarageCars', 'ExterQual_TA'), 0.4818253056615576), (('YearBuilt_1920', 'GarageYrBlt_1920.0'), 0.48117097313162466), (('OverallQual_10', 'ExterQual_Ex'), 0.4808972228587653), (('YearBuilt_2001', 'YearRemodAdd_2001'), 0.48066216982226334), (('YearRemodAdd_2001', 'GarageYrBlt_2001.0'), 0.48066216982226334), (('Foundation_PConc', 'KitchenQual_Gd'), 0.47907168018964597), (('MSSubClass_160', 'BldgType_1Fam'), 0.4787914276694372), (('BsmtCond_TA', 'BsmtFinType1_Na'), 0.47830687536424416), (('BsmtCond_Na', 'BsmtCond_TA'), 0.47830687536424416), (('BsmtQual_Na', 'BsmtCond_TA'), 0.47830687536424416), (('RoofMatl_CompShg', 'RoofMatl_WdShngl'), 0.47706913911500004), (('HeatingQC_Ex', 'KitchenQual_TA'), 0.4768808657050752), (('GarageFinish_Fin', 'GarageFinish_Unf'), 0.4741285216549993), (('GarageQual_Fa', 'GarageCond_Fa'), 0.4733354243000606), (('GarageArea', 'GarageQual_TA'), 0.4730517359669037), (('YearRemodAdd_1972', 'GarageYrBlt_1972.0'), 0.472128745431146), (('LandContour_Low', 'LandContour_Lvl'), 0.4716333067330262), (('BsmtCond_TA', 'BsmtExposure_Na'), 0.4706870550130813), (('BsmtCond_TA', 'BsmtFinType2_Na'), 0.4706870550130807), (('FullBath', 'GarageCars'), 0.4696720432676313), (('OverallQual_9', 'ExterQual_Ex'), 0.469280238673746), (('GrLivArea', 'GarageArea'), 0.4689974773229643), (('GrLivArea', 'HouseStyle_2Story'), 0.4688359932774299), (('Exterior1st_VinylSd', 'ExterQual_TA'), 0.4684559633391429), (('Exterior1st_VinylSd', 'ExterQual_Gd'), 0.46754619634882255), (('GrLivArea', 'GarageCars'), 0.46724741879518455), (('FullBath', 'ExterQual_TA'), 0.4663387843720033), (('Exterior2nd_VinylSd', 'ExterQual_Gd'), 0.4658526389237399), (('LandContour_Lvl', 'LandSlope_Mod'), 0.46476835368726316), (('OverallCond_5', 'BsmtQual_TA'), 0.4638612131738675), (('Heating_GasA', 'Heating_Grav'), 0.46366608176044466), (('Condition1_Artery', 'Condition1_Norm'), 0.4627788953150275), (('Neighborhood_NridgHt', 'BsmtQual_Ex'), 0.46259377199380664), (('Exterior2nd_VinylSd', 'ExterQual_TA'), 0.46241818421944936), (('MSZoning_C (all)', 'Neighborhood_IDOTRR'), 0.462171950209131), (('GrLivArea', 'Fireplaces'), 0.46167913376144376), (('FullBath', 'Foundation_PConc'), 0.46166682723945907), (('YearBuilt_1982', 'YearRemodAdd_1982'), 0.46052148038535656), (('OverallCond_5', 'OverallCond_7'), 0.4581167985661556), (('YearBuilt_1990', 'YearRemodAdd_1991'), 0.4581115063816003), (('Exterior1st_VinylSd', 'HeatingQC_Ex'), 0.45766396792514763), (('YearBuilt_2005', 'YearRemodAdd_2005'), 0.45744276502696773), (('ExterQual_TA', 'GarageFinish_Unf'), 0.45721479343723104), (('Fireplaces', 'FireplaceQu_TA'), 0.45612629193380827), (('Exterior2nd_VinylSd', 'HeatingQC_Ex'), 0.45587848097714856), (('TotalBsmtSF', 'GrLivArea'), 0.4548682025479028), (('ExterQual_Gd', 'Foundation_CBlock'), 0.4537965004172742), (('Foundation_PConc', 'BsmtFinType1_GLQ'), 0.45376229965516734), (('Heating_GasA', 'CentralAir_N'), 0.4536354792863094), (('Heating_GasA', 'CentralAir_Y'), 0.4536354792863094), (('GarageCars', 'Foundation_PConc'), 0.4534213532828828), (('YearRemodAdd_2005', 'GarageYrBlt_2005.0'), 0.45331113088288544), (('Alley_Grvl', 'Neighborhood_OldTown'), 0.4528432043674813), (('Foundation_CBlock', 'KitchenQual_TA'), 0.45278881835298584), (('MSZoning_RL', 'Neighborhood_OldTown'), 0.45232781872860406), (('YearRemodAdd_1971', 'GarageYrBlt_1971.0'), 0.45192538561185297), (('HeatingQC_Ex', 'HeatingQC_Gd'), 0.4513893698316339), (('BsmtFullBath', 'BsmtFinType1_GLQ'), 0.45044098358445117), (('YearBuilt_1988', 'YearRemodAdd_1989'), 0.4504046677960019), (('BsmtQual_Gd', 'KitchenQual_Gd'), 0.4495395819856335), (('Neighborhood_BrDale', 'BldgType_Twnhs'), 0.44861416427294293), (('Electrical_FuseF', 'Electrical_SBrkr'), 0.4485846548901465), (('GarageCars', 'BsmtQual_TA'), 0.4480986969617558), (('BsmtFinType2_LwQ', 'BsmtFinType2_Unf'), 0.4475421532970201), (('MiscVal', 'MiscFeature_Na'), 0.4474402115657174), (('BsmtQual_TA', 'KitchenQual_TA'), 0.4473685407528092), (('YearBuilt_1882', 'YearRemodAdd_1986'), 0.4466001334889489), (('Electrical_Mix', 'Functional_Maj2'), 0.44660013348894634), (('OverallCond_2', 'YearBuilt_2010'), 0.44660013348894567), (('OverallCond_2', 'Electrical_Mix'), 0.44660013348894567), (('OverallCond_2', 'ExterCond_Po'), 0.446600133488945), (('SaleType_COD', 'SaleType_WD'), 0.44633295648026183), (('YearBuilt_1915', 'GarageYrBlt_1915.0'), 0.4459849843997205), (('Neighborhood_Blueste', 'YearBuilt_1980'), 0.4459849843997148), (('BsmtFinSF1', '1stFlrSF'), 0.4458626560920095), (('MSZoning_FV', 'Alley_Pave'), 0.445741293354159), (('GrLivArea', 'FireplaceQu_Na'), 0.4452990015952471), (('GarageArea', 'ExterQual_TA'), 0.4452602473170988), (('OverallQual_8', 'ExterQual_Gd'), 0.4452147503560965), (('YearRemodAdd_1981', 'GarageYrBlt_1981.0'), 0.4438233841881606), (('YearBuilt_1990', 'YearRemodAdd_1990'), 0.4421125374444374), (('YearRemodAdd_1974', 'GarageYrBlt_1974.0'), 0.44153045256215606), (('1stFlrSF', 'GarageCars'), 0.43931680799067063), (('Foundation_CBlock', 'HeatingQC_Ex'), 0.43610147565088636), (('MiscVal', 'Condition2_RRAe'), 0.43584123358008925), (('BsmtExposure_Gd', 'BsmtExposure_No'), 0.43583600776533316), (('RoofMatl_CompShg', 'RoofMatl_WdShake'), 0.43535286534852563), (('GarageYrBlt_1910.0', 'GarageCond_Po'), 0.43478643397871436), (('OverallQual_8', 'ExterQual_TA'), 0.4345998965930159), (('TotalBsmtSF', 'GarageCars'), 0.43458483429168826), (('Foundation_PConc', 'GarageFinish_Unf'), 0.43413395655986065), (('BldgType_1Fam', 'BldgType_Duplex'), 0.43328598226141213), (('MSSubClass_90', 'BldgType_1Fam'), 0.43328598226141213), (('BsmtQual_TA', 'BsmtFinType1_GLQ'), 0.43241791496489135), (('TotRmsAbvGrd', 'MSSubClass_60'), 0.4315916272832148), (('TotRmsAbvGrd', 'HouseStyle_2Story'), 0.43092973231824355), (('Exterior1st_VinylSd', 'Foundation_CBlock'), 0.4298585561264518), (('Exterior2nd_VinylSd', 'Foundation_CBlock'), 0.4297595095819781), (('FullBath', 'ExterQual_Gd'), 0.4251194832201079), (('GarageCars', 'ExterQual_Gd'), 0.42495140614571064), (('Exterior1st_VinylSd', 'BsmtQual_TA'), 0.4238433479020857), (('BsmtUnfSF', 'BsmtFullBath'), 0.4229004773832192), (('YearBuilt_1995', 'YearRemodAdd_1996'), 0.4225069649050287), (('2ndFlrSF', 'FullBath'), 0.42137798287597156), (('ExterQual_TA', 'BsmtQual_Gd'), 0.42137772900821735), (('LotConfig_CulDSac', 'LotConfig_Inside'), 0.4212271595309526), (('YearBuilt_1997', 'YearRemodAdd_1997'), 0.42042234540178874), (('BsmtFinSF2', 'BsmtFinType2_Rec'), 0.4203726409602067), (('Fence_GdPrv', 'Fence_Na'), 0.4203496409317171), (('Foundation_PConc', 'HeatingQC_TA'), 0.42002148474114315), (('ExterQual_TA', 'BsmtFinType1_GLQ'), 0.41963888976264274), (('FullBath', 'KitchenQual_TA'), 0.4186975184625395), (('KitchenAbvGr', 'BldgType_1Fam'), 0.41801695044507314), (('YearRemodAdd_1985', 'GarageYrBlt_1985.0'), 0.4178581552628781), (('Neighborhood_NridgHt', 'ExterQual_Ex'), 0.41762294771843633), (('OverallQual_5', 'ExterQual_TA'), 0.41760721875485146), (('Exterior2nd_VinylSd', 'BsmtQual_TA'), 0.41759378094060784), (('OverallCond_5', 'ExterQual_TA'), 0.41673515888895935), (('MSZoning_FV', 'MSZoning_RL'), 0.4166083753636939), (('GrLivArea', 'HalfBath'), 0.41577163610526024), (('BsmtUnfSF', 'TotalBsmtSF'), 0.41535960518158943), (('HeatingQC_Ex', 'KitchenQual_Gd'), 0.41528816121808887), (('LotFrontage', '1stFlrSF'), 0.41377253243790985), (('ExterQual_Gd', 'GarageFinish_Unf'), 0.41329151076363474), (('Foundation_CBlock', 'HeatingQC_TA'), 0.4132854178458975), (('YearRemodAdd_1950', 'Foundation_BrkTil'), 0.41309167071105996), (('BsmtFinSF2', 'BsmtFinType2_ALQ'), 0.4127072915445525), (('HeatingQC_TA', 'KitchenQual_TA'), 0.4108847738767152), (('1stFlrSF', 'Fireplaces'), 0.41053108465984434), (('1stFlrSF', 'TotRmsAbvGrd'), 0.40951597886682883), (('BsmtFinType1_GLQ', 'BsmtFinType1_Unf'), 0.40923229277752043), (('Neighborhood_NridgHt', 'KitchenQual_Ex'), 0.4091590272532937), (('BsmtQual_TA', 'GarageFinish_Unf'), 0.4087010018296645), (('LandContour_Low', 'LandSlope_Sev'), 0.4080684115744554), (('YearBuilt_2010', 'YearRemodAdd_2010'), 0.4075481556827185), (('ExterQual_TA', 'HeatingQC_TA'), 0.407460596462148), (('Condition2_RRNn', 'YearBuilt_1927'), 0.40726795832803975), (('YearBuilt_1892', 'GarageQual_Ex'), 0.40726795832803836), (('BsmtCond_Po', 'GarageQual_Po'), 0.4072679583280367), (('YearBuilt_1934', 'GarageYrBlt_1934.0'), 0.4072679583280354), (('YearBuilt_2006', 'SaleType_New'), 0.4069187115503429), (('Neighborhood_Blueste', 'YearRemodAdd_1980'), 0.4068458531675191), (('HouseStyle_2.5Fin', 'YearBuilt_1912'), 0.40642447425039296), (('YearBuilt_1935', 'GarageYrBlt_1935.0'), 0.40628430529779547), (('YearBuilt_1982', 'GarageYrBlt_1982.0'), 0.4062843052977937), (('OverallCond_5', 'Exterior1st_VinylSd'), 0.40567715871379534), (('FullBath', 'GarageArea'), 0.4056562084540095), (('BsmtFinType2_Na', 'BsmtFinType2_Unf'), 0.4056222185567018), (('Foundation_Slab', 'Heating_Wall'), 0.4054346918768626), (('MSSubClass_120', 'Neighborhood_Blmngtn'), 0.40421706556983344), (('YearRemodAdd_1997', 'GarageYrBlt_1997.0'), 0.40411079172330655), (('MSSubClass_50', 'YearRemodAdd_1950'), 0.40330451325511524), (('TotalBsmtSF', 'BsmtQual_Ex'), 0.40316608185261077), (('Neighborhood_NAmes', 'Foundation_CBlock'), 0.4029946092379388), (('Fence_GdWo', 'Fence_Na'), 0.40142827774686746), (('YearBuilt_2006', 'SaleCondition_Partial'), 0.4008468714947546), (('BsmtCond_Na', 'BsmtFinType2_Unf'), 0.40010884110262235), (('BsmtQual_Na', 'BsmtFinType2_Unf'), 0.40010884110262235), (('BsmtFinType1_Na', 'BsmtFinType2_Unf'), 0.40010884110262235)]\n"
     ]
    }
   ],
   "source": [
    "feature_pairs = []\n",
    "feature_target_pairs = []\n",
    "\n",
    "for index, value in sol.items():\n",
    "    if value >= 0.4:\n",
    "        if index[0] == 'SalePrice' or index[1] == 'SalePrice':\n",
    "            feature_target_pairs.append((index, value))\n",
    "        else:\n",
    "            feature_pairs.append((index, value))\n",
    "\n",
    "print(feature_target_pairs)\n",
    "print(feature_pairs)"
   ]
  },
  {
   "cell_type": "code",
   "execution_count": null,
   "metadata": {},
   "outputs": [],
   "source": []
  },
  {
   "cell_type": "code",
   "execution_count": null,
   "metadata": {},
   "outputs": [],
   "source": []
  },
  {
   "cell_type": "code",
   "execution_count": null,
   "metadata": {},
   "outputs": [],
   "source": []
  },
  {
   "cell_type": "code",
   "execution_count": null,
   "metadata": {},
   "outputs": [],
   "source": []
  }
 ],
 "metadata": {
  "kernelspec": {
   "display_name": "Python 3",
   "language": "python",
   "name": "python3"
  },
  "language_info": {
   "codemirror_mode": {
    "name": "ipython",
    "version": 3
   },
   "file_extension": ".py",
   "mimetype": "text/x-python",
   "name": "python",
   "nbconvert_exporter": "python",
   "pygments_lexer": "ipython3",
   "version": "3.7.6"
  }
 },
 "nbformat": 4,
 "nbformat_minor": 4
}
