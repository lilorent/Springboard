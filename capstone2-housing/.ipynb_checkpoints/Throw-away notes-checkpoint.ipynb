{
 "cells": [
  {
   "cell_type": "code",
   "execution_count": null,
   "metadata": {},
   "outputs": [],
   "source": [
    "# dividing SalePrice data set to pool vs no pool\n",
    "pool = housing['SalePrice'][housing['PoolQC'].notna()]\n",
    "no_pool = housing['SalePrice'][housing['PoolQC'].isna()]\n",
    "housing['SalePrice'][housing['PoolQC'].notna()].describe()"
   ]
  },
  {
   "cell_type": "code",
   "execution_count": null,
   "metadata": {},
   "outputs": [],
   "source": [
    "_ = sns.scatterplot(x='PoolArea', y='SalePrice', hue='PoolQC', data=housing)"
   ]
  },
  {
   "cell_type": "markdown",
   "metadata": {},
   "source": [
    "Values are not missing. NaN means that house doesn't have pool. Looking at the SalePrices properties with vs. properties without a pool, one of the most expensive properties has a pool. Is this property more expensive because of the pool, or is the pool simply added to an already expensive property?\n",
    "I will keep PoolQC in the mix for now. But need to remember that it seems shaky to base price on a feature present on only 7/1460 sample individuals."
   ]
  },
  {
   "cell_type": "code",
   "execution_count": null,
   "metadata": {},
   "outputs": [],
   "source": []
  },
  {
   "cell_type": "code",
   "execution_count": null,
   "metadata": {},
   "outputs": [],
   "source": []
  }
 ],
 "metadata": {
  "kernelspec": {
   "display_name": "Python 3",
   "language": "python",
   "name": "python3"
  },
  "language_info": {
   "codemirror_mode": {
    "name": "ipython",
    "version": 3
   },
   "file_extension": ".py",
   "mimetype": "text/x-python",
   "name": "python",
   "nbconvert_exporter": "python",
   "pygments_lexer": "ipython3",
   "version": "3.7.6"
  }
 },
 "nbformat": 4,
 "nbformat_minor": 4
}
