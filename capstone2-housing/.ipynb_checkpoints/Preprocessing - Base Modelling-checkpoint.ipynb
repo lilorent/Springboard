{
 "cells": [
  {
   "cell_type": "markdown",
   "metadata": {},
   "source": [
    "Time for some Preprocessing\n",
    "In this section, I will be splitting my train set into a train test set, scale the variables with continuous values, and build a couple of models to find my best baseline model upon which I will build my final model."
   ]
  },
  {
   "cell_type": "code",
   "execution_count": 1,
   "metadata": {},
   "outputs": [],
   "source": [
    "import pandas as pd\n",
    "import numpy as np\n",
    "import matplotlib.pyplot as plt\n",
    "from sklearn.model_selection import train_test_split\n",
    "from sklearn.pipeline import make_pipeline\n",
    "from sklearn.preprocessing import StandardScaler\n",
    "from sklearn.linear_model import LinearRegression"
   ]
  },
  {
   "cell_type": "code",
   "execution_count": 2,
   "metadata": {},
   "outputs": [],
   "source": [
    "df = pd.read_csv('../capstone2-housing/documents/final_housing_df.csv', index_col=0)\n",
    "f_pairs = pd.read_csv('../capstone2-housing/documents/feature_pairs_df.csv')\n",
    "ft_pairs = pd.read_csv('../capstone2-housing/documents/feature_target_df.csv')"
   ]
  },
  {
   "cell_type": "markdown",
   "metadata": {},
   "source": [
    "I will begin with perfoming a test/train split with a test size of 25%"
   ]
  },
  {
   "cell_type": "code",
   "execution_count": 3,
   "metadata": {},
   "outputs": [],
   "source": [
    "X = df.drop('SalePrice', axis=1)\n",
    "y = df.SalePrice\n",
    "\n",
    "X_train, X_test, y_train, y_test = train_test_split(X, y, test_size=0.25, random_state=123)"
   ]
  },
  {
   "cell_type": "markdown",
   "metadata": {},
   "source": [
    "Now that the train test split is done, it's time for scaling my data.  \n",
    "I have decided to scale only continuous variables (as there is not much point in scaling dummy variables). Therefore, before scaling my data, I will separate out the dummy variables into a separate dataframe."
   ]
  },
  {
   "cell_type": "code",
   "execution_count": 4,
   "metadata": {},
   "outputs": [],
   "source": [
    "train_mask = [col for col in X_train if len(pd.unique(X_train[col])) <= 2]\n",
    "\n",
    "X_train_dummies = X_train[train_mask]\n",
    "X_train_contin = X_train.drop(X_train[train_mask], axis=1)"
   ]
  },
  {
   "cell_type": "code",
   "execution_count": 5,
   "metadata": {},
   "outputs": [
    {
     "name": "stdout",
     "output_type": "stream",
     "text": [
      "<class 'pandas.core.frame.DataFrame'>\n",
      "Int64Index: 1095 entries, 1446 to 1389\n",
      "Columns: 573 entries, KitchenAbvGr to SaleCondition_Partial\n",
      "dtypes: int64(573)\n",
      "memory usage: 4.8 MB\n",
      "<class 'pandas.core.frame.DataFrame'>\n",
      "Int64Index: 1095 entries, 1446 to 1389\n",
      "Data columns (total 28 columns):\n",
      " #   Column         Non-Null Count  Dtype\n",
      "---  ------         --------------  -----\n",
      " 0   LotFrontage    1095 non-null   int64\n",
      " 1   LotArea        1095 non-null   int64\n",
      " 2   MasVnrArea     1095 non-null   int64\n",
      " 3   BsmtFinSF1     1095 non-null   int64\n",
      " 4   BsmtFinSF2     1095 non-null   int64\n",
      " 5   BsmtUnfSF      1095 non-null   int64\n",
      " 6   TotalBsmtSF    1095 non-null   int64\n",
      " 7   1stFlrSF       1095 non-null   int64\n",
      " 8   2ndFlrSF       1095 non-null   int64\n",
      " 9   LowQualFinSF   1095 non-null   int64\n",
      " 10  GrLivArea      1095 non-null   int64\n",
      " 11  BsmtFullBath   1095 non-null   int64\n",
      " 12  BsmtHalfBath   1095 non-null   int64\n",
      " 13  FullBath       1095 non-null   int64\n",
      " 14  HalfBath       1095 non-null   int64\n",
      " 15  BedroomAbvGr   1095 non-null   int64\n",
      " 16  TotRmsAbvGrd   1095 non-null   int64\n",
      " 17  Fireplaces     1095 non-null   int64\n",
      " 18  GarageCars     1095 non-null   int64\n",
      " 19  GarageArea     1095 non-null   int64\n",
      " 20  WoodDeckSF     1095 non-null   int64\n",
      " 21  OpenPorchSF    1095 non-null   int64\n",
      " 22  EnclosedPorch  1095 non-null   int64\n",
      " 23  3SsnPorch      1095 non-null   int64\n",
      " 24  ScreenPorch    1095 non-null   int64\n",
      " 25  PoolArea       1095 non-null   int64\n",
      " 26  MiscVal        1095 non-null   int64\n",
      " 27  YearSold       1095 non-null   int64\n",
      "dtypes: int64(28)\n",
      "memory usage: 248.1 KB\n"
     ]
    }
   ],
   "source": [
    "X_train_dummies.info()\n",
    "X_train_contin.info()"
   ]
  },
  {
   "cell_type": "code",
   "execution_count": 6,
   "metadata": {},
   "outputs": [],
   "source": [
    "# DO I WANT TO DO THIS FOR TEST SET AS WELL OR NO?\n",
    "\n",
    "\n",
    "\n",
    "#test_mask = [col for col in X_test if len(pd.unique(X_test[col])) <= 2]\n",
    "#X_test_dummies = X_test[test_mask]\n",
    "#X_test_contin = X_test.drop(X_test[test_mask], axis=1)"
   ]
  },
  {
   "cell_type": "markdown",
   "metadata": {},
   "source": [
    "Now that I have divided my X_train set into dummies and continuous variables, I will create a standard scaler to fit standardize the continuous training set."
   ]
  },
  {
   "cell_type": "code",
   "execution_count": 7,
   "metadata": {},
   "outputs": [
    {
     "name": "stdout",
     "output_type": "stream",
     "text": [
      "[[-0.00696566  1.65439997  0.49143639 ... -0.07333341 -0.10879978\n",
      "   1.60926176]\n",
      " [-0.89604872 -0.09339394 -0.56990559 ... -0.07333341 -0.10879978\n",
      "   0.85845578]\n",
      " [-0.00696566 -0.03679453 -0.56990559 ... -0.07333341 -0.10879978\n",
      "   0.85845578]\n",
      " ...\n",
      " [-0.00696566  1.09456708 -0.56990559 ... -0.07333341 -0.10879978\n",
      "  -1.39396214]\n",
      " [ 0.03982819 -0.19364381 -0.56990559 ... -0.07333341 -0.10879978\n",
      "   0.85845578]\n",
      " [-0.42811027 -0.44896771 -0.56990559 ... -0.07333341 -0.10879978\n",
      "  -0.64315617]]\n"
     ]
    }
   ],
   "source": [
    "scaler = StandardScaler()\n",
    "X_contin_transformed = scaler.fit_transform(X_train_contin)\n",
    "print(X_contin_transformed)"
   ]
  },
  {
   "cell_type": "markdown",
   "metadata": {},
   "source": [
    "Now that I have my transformed X_train_contin data set, I will combine it with the X_train_dummies set."
   ]
  },
  {
   "cell_type": "code",
   "execution_count": 8,
   "metadata": {},
   "outputs": [
    {
     "name": "stdout",
     "output_type": "stream",
     "text": [
      "<class 'pandas.core.frame.DataFrame'>\n",
      "RangeIndex: 1095 entries, 0 to 1094\n",
      "Data columns (total 28 columns):\n",
      " #   Column         Non-Null Count  Dtype  \n",
      "---  ------         --------------  -----  \n",
      " 0   LotFrontage    1095 non-null   float64\n",
      " 1   LotArea        1095 non-null   float64\n",
      " 2   MasVnrArea     1095 non-null   float64\n",
      " 3   BsmtFinSF1     1095 non-null   float64\n",
      " 4   BsmtFinSF2     1095 non-null   float64\n",
      " 5   BsmtUnfSF      1095 non-null   float64\n",
      " 6   TotalBsmtSF    1095 non-null   float64\n",
      " 7   1stFlrSF       1095 non-null   float64\n",
      " 8   2ndFlrSF       1095 non-null   float64\n",
      " 9   LowQualFinSF   1095 non-null   float64\n",
      " 10  GrLivArea      1095 non-null   float64\n",
      " 11  BsmtFullBath   1095 non-null   float64\n",
      " 12  BsmtHalfBath   1095 non-null   float64\n",
      " 13  FullBath       1095 non-null   float64\n",
      " 14  HalfBath       1095 non-null   float64\n",
      " 15  BedroomAbvGr   1095 non-null   float64\n",
      " 16  TotRmsAbvGrd   1095 non-null   float64\n",
      " 17  Fireplaces     1095 non-null   float64\n",
      " 18  GarageCars     1095 non-null   float64\n",
      " 19  GarageArea     1095 non-null   float64\n",
      " 20  WoodDeckSF     1095 non-null   float64\n",
      " 21  OpenPorchSF    1095 non-null   float64\n",
      " 22  EnclosedPorch  1095 non-null   float64\n",
      " 23  3SsnPorch      1095 non-null   float64\n",
      " 24  ScreenPorch    1095 non-null   float64\n",
      " 25  PoolArea       1095 non-null   float64\n",
      " 26  MiscVal        1095 non-null   float64\n",
      " 27  YearSold       1095 non-null   float64\n",
      "dtypes: float64(28)\n",
      "memory usage: 239.7 KB\n"
     ]
    }
   ],
   "source": [
    "df = pd.DataFrame(X_contin_transformed, columns=X_train_contin.columns)\n",
    "df.info()"
   ]
  },
  {
   "cell_type": "code",
   "execution_count": 9,
   "metadata": {
    "scrolled": true
   },
   "outputs": [
    {
     "name": "stdout",
     "output_type": "stream",
     "text": [
      "<class 'pandas.core.frame.DataFrame'>\n",
      "Int64Index: 1368 entries, 0 to 1459\n",
      "Columns: 601 entries, LotFrontage to SaleCondition_Partial\n",
      "dtypes: float64(601)\n",
      "memory usage: 6.3 MB\n"
     ]
    }
   ],
   "source": [
    "X_train_ready = pd.concat([df, X_train_dummies], axis=1)\n",
    "X_train_ready.info()"
   ]
  },
  {
   "cell_type": "markdown",
   "metadata": {},
   "source": [
    "Perfect!  build a linear regression model."
   ]
  },
  {
   "cell_type": "code",
   "execution_count": null,
   "metadata": {},
   "outputs": [],
   "source": []
  },
  {
   "cell_type": "code",
   "execution_count": null,
   "metadata": {},
   "outputs": [],
   "source": []
  },
  {
   "cell_type": "code",
   "execution_count": null,
   "metadata": {},
   "outputs": [],
   "source": []
  },
  {
   "cell_type": "code",
   "execution_count": null,
   "metadata": {},
   "outputs": [],
   "source": []
  }
 ],
 "metadata": {
  "kernelspec": {
   "display_name": "Python 3",
   "language": "python",
   "name": "python3"
  },
  "language_info": {
   "codemirror_mode": {
    "name": "ipython",
    "version": 3
   },
   "file_extension": ".py",
   "mimetype": "text/x-python",
   "name": "python",
   "nbconvert_exporter": "python",
   "pygments_lexer": "ipython3",
   "version": "3.7.6"
  }
 },
 "nbformat": 4,
 "nbformat_minor": 4
}
