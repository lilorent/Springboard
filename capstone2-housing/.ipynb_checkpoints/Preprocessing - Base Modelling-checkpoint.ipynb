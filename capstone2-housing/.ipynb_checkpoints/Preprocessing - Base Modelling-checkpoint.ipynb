{
 "cells": [
  {
   "cell_type": "markdown",
   "metadata": {},
   "source": [
    "# Preprocessing/Base Modelling"
   ]
  },
  {
   "cell_type": "markdown",
   "metadata": {},
   "source": [
    "Now that we have inspected, cleaned, and explored my data, it is time to build a base model. In this section of my project, I will be splitting my train set into a train test set, scale the variables with continuous values, and build a couple of models to find my best baseline model upon which I will build my final model."
   ]
  },
  {
   "cell_type": "code",
   "execution_count": 1,
   "metadata": {},
   "outputs": [],
   "source": [
    "import pandas as pd\n",
    "import numpy as np\n",
    "import matplotlib.pyplot as plt\n",
    "import seaborn as sns\n",
    "from sklearn.model_selection import train_test_split\n",
    "from sklearn.pipeline import make_pipeline\n",
    "from sklearn.compose import ColumnTransformer\n",
    "from sklearn.preprocessing import StandardScaler\n",
    "from sklearn.linear_model import LinearRegression, Ridge, Lasso\n",
    "from sklearn.metrics import mean_absolute_error"
   ]
  },
  {
   "cell_type": "code",
   "execution_count": 2,
   "metadata": {},
   "outputs": [],
   "source": [
    "df = pd.read_csv('../capstone2-housing/documents/final_housing_df.csv', index_col=0)\n",
    "f_pairs = pd.read_csv('../capstone2-housing/documents/feature_pairs_df.csv')\n",
    "ft_pairs = pd.read_csv('../capstone2-housing/documents/feature_target_df.csv')"
   ]
  },
  {
   "cell_type": "markdown",
   "metadata": {},
   "source": [
    "I will begin with perfoming a test/train split with a test size of 25%"
   ]
  },
  {
   "cell_type": "code",
   "execution_count": 3,
   "metadata": {},
   "outputs": [],
   "source": [
    "X = df.drop('SalePrice', axis=1)\n",
    "y = df.SalePrice\n",
    "\n",
    "X_train, X_test, y_train, y_test = train_test_split(X, y, test_size=0.25, random_state=123)"
   ]
  },
  {
   "cell_type": "code",
   "execution_count": 4,
   "metadata": {},
   "outputs": [
    {
     "name": "stdout",
     "output_type": "stream",
     "text": [
      "(1095, 601) (365, 601)\n",
      "(1095,) (365,)\n"
     ]
    }
   ],
   "source": [
    "print(X_train.shape, X_test.shape)\n",
    "print(y_train.shape, y_test.shape)"
   ]
  },
  {
   "cell_type": "markdown",
   "metadata": {},
   "source": [
    "Train test split is done! Time to scale my data.  \n",
    "I have decided to scale only continuous variables (as there is not much point in scaling dummy variables). Therefore, before scaling my data, I will create a mask to separate out the continuous variables for the train and test X sets."
   ]
  },
  {
   "cell_type": "code",
   "execution_count": 5,
   "metadata": {},
   "outputs": [],
   "source": [
    "mask = [col for col in X_train if len(pd.unique(X_train[col])) > 2]"
   ]
  },
  {
   "cell_type": "markdown",
   "metadata": {},
   "source": [
    "I will create a standard scaler to standardize the continuous values of the training set."
   ]
  },
  {
   "cell_type": "code",
   "execution_count": 6,
   "metadata": {},
   "outputs": [],
   "source": [
    "columns = X_train[mask].columns\n",
    "\n",
    "ct = ColumnTransformer([\n",
    "        ('scaler', StandardScaler(), columns)\n",
    "    ], remainder='passthrough')\n",
    "\n",
    "scaled_X_train = ct.fit_transform(X_train)"
   ]
  },
  {
   "cell_type": "code",
   "execution_count": 7,
   "metadata": {},
   "outputs": [],
   "source": [
    "X_train = pd.DataFrame(scaled_X_train, columns = X_train.columns)"
   ]
  },
  {
   "cell_type": "markdown",
   "metadata": {},
   "source": [
    "Perfect! build a linear regression model."
   ]
  },
  {
   "cell_type": "code",
   "execution_count": 8,
   "metadata": {},
   "outputs": [
    {
     "name": "stdout",
     "output_type": "stream",
     "text": [
      "R2 score: 0.9564626574843584 , MAE: 10544.377168949772\n"
     ]
    }
   ],
   "source": [
    "model1 = LinearRegression()\n",
    "model1.fit(X_train, y_train)\n",
    "y_train_pred = model1.predict(X_train)\n",
    "r2_train = model1.score(X_train, y_train)\n",
    "mae_train = mean_absolute_error(y_train, y_train_pred)\n",
    "print('R2 score:', r2_train, ', MAE:', mae_train)"
   ]
  },
  {
   "cell_type": "markdown",
   "metadata": {},
   "source": [
    "This basic linear regression model gives me a 95.6% accuracy score (R2) on the training set. That's quite high and is most likely due to overfitting. Let's see how it performs on the test set."
   ]
  },
  {
   "cell_type": "code",
   "execution_count": 9,
   "metadata": {},
   "outputs": [
    {
     "name": "stdout",
     "output_type": "stream",
     "text": [
      "R2 score: -5.942855744917795e+18 , MAE: 26135556089128.79\n"
     ]
    }
   ],
   "source": [
    "scaled_X_test = ct.transform(X_test)\n",
    "X_test = pd.DataFrame(scaled_X_test, columns = X_test.columns)\n",
    "y_test_pred = model1.predict(X_test)\n",
    "r2_test = model1.score(X_test, y_test)\n",
    "mae_test = mean_absolute_error(y_test, y_test_pred)\n",
    "print('R2 score:', r2_test, ', MAE:', mae_test)"
   ]
  },
  {
   "cell_type": "markdown",
   "metadata": {},
   "source": [
    "And R2 score of -5.9 quintillion and a Mean Absolute Error of 2.6 trillion.. Clearly, there is a problem with the model for this dataset. Could that be due to some previous errors in my coding or is it just the model?  \n",
    "Let's test and see how a Ridge regression model performs on this data."
   ]
  },
  {
   "cell_type": "markdown",
   "metadata": {},
   "source": [
    "First, I want find a good alpha. I will loop over a range of possible alphas, build a ridge model for each alpha, fit them and score them. Then I will plot the scores and see which alpha performs best and build a new model upon that alpha. "
   ]
  },
  {
   "cell_type": "code",
   "execution_count": 10,
   "metadata": {},
   "outputs": [],
   "source": [
    "rr_train_scores = []\n",
    "rr_test_scores = []\n",
    "for alphas in np.arange(0.01, 1.01, 0.01):\n",
    "    rr = Ridge(alpha=alphas, random_state=123)\n",
    "    rr.fit(X_train, y_train)\n",
    "    rr_train_score = rr.score(X_train,y_train)\n",
    "    rr_test_score = rr.score(X_test, y_test)\n",
    "    rr_train_scores.append((alphas, rr_train_score))\n",
    "    rr_test_scores.append((alphas, rr_test_score))"
   ]
  },
  {
   "cell_type": "code",
   "execution_count": 11,
   "metadata": {
    "scrolled": false
   },
   "outputs": [
    {
     "data": {
      "image/png": "[encoded data removed]",
      "text/plain": [
       "<Figure size 864x432 with 1 Axes>"
      ]
     },
     "metadata": {
      "needs_background": "light"
     },
     "output_type": "display_data"
    }
   ],
   "source": [
    "rr_x_train, rr_y_train = zip(*rr_train_scores)\n",
    "rr_x_test, rr_y_test = zip(*rr_test_scores)\n",
    "\n",
    "_ = plt.figure(figsize=(12,6))\n",
    "_ = plt.plot(rr_x_train, rr_y_train, label = \"Train Scores\")\n",
    "_ = plt.plot(rr_x_test, rr_y_test, label = \"Test Scores\")\n",
    "_ = plt.xticks(np.arange(0.01, 1.1, 0.1))\n",
    "_ = plt.xlabel('alpha')\n",
    "_ = plt.ylabel('R2 score')\n",
    "_ = plt.title('Ridge alpha scores')"
   ]
  },
  {
   "cell_type": "markdown",
   "metadata": {},
   "source": [
    "(Note: I omitted alpha=0 because the r2 score was largely negative and messed up the plot)\n",
    "Looking at above figure, I'll go with alpha=0.1. Let's see how a ridge regression model performs on the train and test set."
   ]
  },
  {
   "cell_type": "code",
   "execution_count": 12,
   "metadata": {},
   "outputs": [
    {
     "name": "stdout",
     "output_type": "stream",
     "text": [
      "Ridge R2 score: 0.9541983341629067 , Ridge 2 MAE: 11022.373245216\n"
     ]
    }
   ],
   "source": [
    "model2 = Ridge(alpha=0.1)\n",
    "model2.fit(X_train, y_train)\n",
    "mod2_y_train_pred = model2.predict(X_train)\n",
    "mod2_r2_train = model2.score(X_train, y_train)\n",
    "mod2_mae_train = mean_absolute_error(y_train, mod2_y_train_pred)\n",
    "print('Ridge R2 score:', mod2_r2_train, ', Ridge 2 MAE:', mod2_mae_train)"
   ]
  },
  {
   "cell_type": "code",
   "execution_count": 13,
   "metadata": {},
   "outputs": [
    {
     "name": "stdout",
     "output_type": "stream",
     "text": [
      "Ridge R2 score: 0.8353466836793504 , Ridge MAE: 20668.859316633\n"
     ]
    }
   ],
   "source": [
    "mod2_y_test_pred = model2.predict(X_test)\n",
    "mod2_r2_test = model2.score(X_test, y_test)\n",
    "mod2_mae_test = mean_absolute_error(y_test, mod2_y_test_pred)\n",
    "print('Ridge R2 score:', mod2_r2_test, ', Ridge MAE:', mod2_mae_test)"
   ]
  },
  {
   "cell_type": "markdown",
   "metadata": {},
   "source": [
    "Looks like Ridge regression is a much better model for this data set!  \n",
    "For the sake of thoroughness, I'm interested to see how well a Lasso model would do. In order to build a good Lasso base model, I will repeat above steps to determine which alpha to use."
   ]
  },
  {
   "cell_type": "code",
   "execution_count": 14,
   "metadata": {},
   "outputs": [
    {
     "name": "stderr",
     "output_type": "stream",
     "text": [
      "C:\\Users\\LisaL\\anaconda3\\lib\\site-packages\\sklearn\\linear_model\\_coordinate_descent.py:531: ConvergenceWarning: Objective did not converge. You might want to increase the number of iterations. Duality gap: 149069680664.31696, tolerance: 700451881.9572846\n",
      "  positive)\n",
      "C:\\Users\\LisaL\\anaconda3\\lib\\site-packages\\sklearn\\linear_model\\_coordinate_descent.py:531: ConvergenceWarning: Objective did not converge. You might want to increase the number of iterations. Duality gap: 144093024887.20422, tolerance: 700451881.9572846\n",
      "  positive)\n",
      "C:\\Users\\LisaL\\anaconda3\\lib\\site-packages\\sklearn\\linear_model\\_coordinate_descent.py:531: ConvergenceWarning: Objective did not converge. You might want to increase the number of iterations. Duality gap: 136324127131.3499, tolerance: 700451881.9572846\n",
      "  positive)\n",
      "C:\\Users\\LisaL\\anaconda3\\lib\\site-packages\\sklearn\\linear_model\\_coordinate_descent.py:531: ConvergenceWarning: Objective did not converge. You might want to increase the number of iterations. Duality gap: 126005116160.38463, tolerance: 700451881.9572846\n",
      "  positive)\n",
      "C:\\Users\\LisaL\\anaconda3\\lib\\site-packages\\sklearn\\linear_model\\_coordinate_descent.py:531: ConvergenceWarning: Objective did not converge. You might want to increase the number of iterations. Duality gap: 111078755035.1773, tolerance: 700451881.9572846\n",
      "  positive)\n",
      "C:\\Users\\LisaL\\anaconda3\\lib\\site-packages\\sklearn\\linear_model\\_coordinate_descent.py:531: ConvergenceWarning: Objective did not converge. You might want to increase the number of iterations. Duality gap: 89098673844.61234, tolerance: 700451881.9572846\n",
      "  positive)\n",
      "C:\\Users\\LisaL\\anaconda3\\lib\\site-packages\\sklearn\\linear_model\\_coordinate_descent.py:531: ConvergenceWarning: Objective did not converge. You might want to increase the number of iterations. Duality gap: 55280004060.25604, tolerance: 700451881.9572846\n",
      "  positive)\n",
      "C:\\Users\\LisaL\\anaconda3\\lib\\site-packages\\sklearn\\linear_model\\_coordinate_descent.py:531: ConvergenceWarning: Objective did not converge. You might want to increase the number of iterations. Duality gap: 9518191066.718689, tolerance: 700451881.9572846\n",
      "  positive)\n"
     ]
    }
   ],
   "source": [
    "ls_train_scores = []\n",
    "ls_test_scores = []\n",
    "for alphas in np.arange(0.1, 1.1, 0.1):\n",
    "    ls = Lasso(alpha=alphas, random_state=123, max_iter=10000)\n",
    "    ls.fit(X_train, y_train)\n",
    "    ls_train_score = ls.score(X_train,y_train)\n",
    "    ls_test_score = ls.score(X_test, y_test)\n",
    "    ls_train_scores.append((alphas, ls_train_score))\n",
    "    ls_test_scores.append((alphas, ls_test_score))"
   ]
  },
  {
   "cell_type": "code",
   "execution_count": 15,
   "metadata": {},
   "outputs": [
    {
     "data": {
      "image/png": "[encoded data removed]",
      "text/plain": [
       "<Figure size 864x432 with 1 Axes>"
      ]
     },
     "metadata": {
      "needs_background": "light"
     },
     "output_type": "display_data"
    }
   ],
   "source": [
    "ls_x_train, ls_y_train = zip(*ls_train_scores)\n",
    "ls_x_test, ls_y_test = zip(*ls_test_scores)\n",
    "\n",
    "_ = plt.figure(figsize=(12,6))\n",
    "_ = plt.plot(ls_x_train, ls_y_train, label = \"Train Scores\")\n",
    "_ = plt.plot(ls_x_test, ls_y_test, label = \"Test Scores\")\n",
    "_ = plt.xticks(np.arange(0.1, 1.1, 0.1))\n",
    "_ = plt.xlabel('alpha')\n",
    "_ = plt.ylabel('R2 score')\n",
    "_ = plt.title('Lasso alpha scores')"
   ]
  },
  {
   "cell_type": "markdown",
   "metadata": {},
   "source": [
    "Not a huge difference in scores, but it looks like 0.4 is a good alpha. I'll train a new Lasso model and we'll see."
   ]
  },
  {
   "cell_type": "code",
   "execution_count": 16,
   "metadata": {},
   "outputs": [
    {
     "name": "stdout",
     "output_type": "stream",
     "text": [
      "Lasso R2 score: 0.956053085599682 , Lasso 2 MAE: 10676.983773767333\n"
     ]
    },
    {
     "name": "stderr",
     "output_type": "stream",
     "text": [
      "C:\\Users\\LisaL\\anaconda3\\lib\\site-packages\\sklearn\\linear_model\\_coordinate_descent.py:531: ConvergenceWarning: Objective did not converge. You might want to increase the number of iterations. Duality gap: 141048155837.10233, tolerance: 700451881.9572846\n",
      "  positive)\n"
     ]
    }
   ],
   "source": [
    "model3 = Lasso(alpha=0.4)\n",
    "model3.fit(X_train, y_train)\n",
    "mod3_y_train_pred = model3.predict(X_train)\n",
    "mod3_r2_train = model3.score(X_train, y_train)\n",
    "mod3_mae_train = mean_absolute_error(y_train, mod3_y_train_pred)\n",
    "print('Lasso R2 score:', mod3_r2_train, ', Lasso 2 MAE:', mod3_mae_train)"
   ]
  },
  {
   "cell_type": "code",
   "execution_count": 17,
   "metadata": {},
   "outputs": [
    {
     "name": "stdout",
     "output_type": "stream",
     "text": [
      "Lasso R2 score: 0.7903102973262955 , Lasso MAE: 22843.431258511595\n"
     ]
    }
   ],
   "source": [
    "mod3_y_test_pred = model3.predict(X_test)\n",
    "mod3_r2_test = model3.score(X_test, y_test)\n",
    "mod3_mae_test = mean_absolute_error(y_test, mod3_y_test_pred)\n",
    "print('Lasso R2 score:', mod3_r2_test, ', Lasso MAE:', mod3_mae_test)"
   ]
  },
  {
   "cell_type": "markdown",
   "metadata": {},
   "source": [
    "Okay Let's put them all next to each other and compare."
   ]
  },
  {
   "cell_type": "code",
   "execution_count": 18,
   "metadata": {},
   "outputs": [],
   "source": [
    "model_scores = {\n",
    "    'Linear Regression': [r2_test, mae_test],\n",
    "    'Ridge Regression': [mod2_r2_test.round(4), mod2_mae_test.round(4)],\n",
    "    'Lasso Regression': [mod3_r2_test.round(4), mod3_mae_test.round(4)]\n",
    "}"
   ]
  },
  {
   "cell_type": "markdown",
   "metadata": {},
   "source": [
    "##### Model Score Comparison:  \n",
    "\n",
    "| Model | R2 Score | MAE |\n",
    "| --- | :---: | :---: |\n",
    "| Linear Regression | -5.942855744917795e+18 | 26135556089128.79 |\n",
    "| Ridge Regression | 0.8353 | 20668.8593 |\n",
    "| Lasso Regression | 0.7903 | 22843.4313 |"
   ]
  },
  {
   "cell_type": "markdown",
   "metadata": {},
   "source": [
    "Ridge Regression is a clear winner with an R2 score of 0.8353 and a MAE of 20668.86. "
   ]
  },
  {
   "cell_type": "markdown",
   "metadata": {},
   "source": [
    "Now that I have decided on the best baseline model (RidgeRegression), I am going to explore feature importance of the model. Since my data doesn't have any features that can take negative values, I will find the coefficients, divide them into lists of positive and negative values to find the top 3 feature coefficients that impact the prediction positively and negatively.  \n",
    "First, I will create a dictionary for the features with their corresponding coefficient values."
   ]
  },
  {
   "cell_type": "code",
   "execution_count": 19,
   "metadata": {},
   "outputs": [
    {
     "data": {
      "text/plain": [
       "{-24: 'LotFrontage',\n",
       " 4835: 'LotArea',\n",
       " 2112: 'MasVnrArea',\n",
       " 7372: 'BsmtFinSF1',\n",
       " 1519: 'BsmtFinSF2',\n",
       " 66: 'BsmtUnfSF',\n",
       " 8272: 'TotalBsmtSF',\n",
       " 4753: '1stFlrSF',\n",
       " 15427: '2ndFlrSF',\n",
       " -924: 'LowQualFinSF',\n",
       " 15883: 'GrLivArea',\n",
       " 1963: 'BsmtFullBath',\n",
       " 549: 'BsmtHalfBath',\n",
       " 467: 'FullBath',\n",
       " -835: 'HalfBath',\n",
       " -3579: 'BedroomAbvGr',\n",
       " 4624: 'KitchenAbvGr',\n",
       " 5240: 'TotRmsAbvGrd',\n",
       " 6392: 'Fireplaces',\n",
       " 117: 'GarageCars',\n",
       " 2215: 'GarageArea',\n",
       " 339: 'WoodDeckSF',\n",
       " 12: 'OpenPorchSF',\n",
       " 1302: 'GarageYrBlt_1971.0',\n",
       " 1441: '3SsnPorch',\n",
       " 17795: 'ScreenPorch',\n",
       " 75: 'PoolArea',\n",
       " -1120: 'MiscVal',\n",
       " -2575: 'MSSubClass_20',\n",
       " 8365: 'MSSubClass_30',\n",
       " 3037: 'MSSubClass_40',\n",
       " 6908: 'MSSubClass_45',\n",
       " 2374: 'MSSubClass_50',\n",
       " 11038: 'MSSubClass_60',\n",
       " 15331: 'MSSubClass_70',\n",
       " 9469: 'MSSubClass_75',\n",
       " -36113: 'MSSubClass_80',\n",
       " 17251: 'MSSubClass_85',\n",
       " -6514: 'MSSubClass_90',\n",
       " -2948: 'BldgType_Twnhs',\n",
       " -17058: 'MSSubClass_160',\n",
       " -497: 'MSSubClass_180',\n",
       " -10447: 'MSSubClass_190',\n",
       " -196: 'MSZoning_C (all)',\n",
       " -34636: 'MSZoning_FV',\n",
       " 6626: 'MSZoning_RH',\n",
       " 2378: 'MSZoning_RL',\n",
       " 14901: 'MSZoning_RM',\n",
       " 10732: 'Street_Grvl',\n",
       " -6599: 'Street_Pave',\n",
       " 6599: 'Alley_Grvl',\n",
       " -2739: 'Alley_Na',\n",
       " 1989: 'Alley_Pave',\n",
       " 750: 'LotShape_IR1',\n",
       " -4670: 'LotShape_IR2',\n",
       " 2598: 'LotShape_IR3',\n",
       " 2085: 'LotShape_Reg',\n",
       " -13: 'LandContour_Bnk',\n",
       " -8730: 'LandContour_HLS',\n",
       " 11212: 'LandContour_Low',\n",
       " -5734: 'LandContour_Lvl',\n",
       " 3253: 'YearBuilt_1927',\n",
       " 12515: 'Utilities_NoSeWa',\n",
       " -12515: 'LotConfig_Corner',\n",
       " 4169: 'LotConfig_CulDSac',\n",
       " 14855: 'LotConfig_FR2',\n",
       " -5630: 'LotConfig_FR3',\n",
       " -15092: 'LotConfig_Inside',\n",
       " 1698: 'LandSlope_Gtl',\n",
       " 3824: 'LandSlope_Mod',\n",
       " 22810: 'LandSlope_Sev',\n",
       " -26634: 'Neighborhood_Blmngtn',\n",
       " 5555: 'Neighborhood_Blueste',\n",
       " -6650: 'Neighborhood_BrDale',\n",
       " 3456: 'Neighborhood_BrkSide',\n",
       " -11416: 'Neighborhood_ClearCr',\n",
       " -15841: 'Neighborhood_CollgCr',\n",
       " -3033: 'Neighborhood_Crawfor',\n",
       " 12286: 'Neighborhood_Edwards',\n",
       " -16758: 'Neighborhood_Gilbert',\n",
       " -6103: 'Neighborhood_IDOTRR',\n",
       " -13158: 'Neighborhood_MeadowV',\n",
       " -21766: 'Neighborhood_Mitchel',\n",
       " -15354: 'Neighborhood_NAmes',\n",
       " -10917: 'Neighborhood_NPkVill',\n",
       " 20450: 'Neighborhood_NWAmes',\n",
       " -9701: 'Neighborhood_NoRidge',\n",
       " 30612: 'Neighborhood_NridgHt',\n",
       " 35171: 'Neighborhood_OldTown',\n",
       " -8719: 'Neighborhood_SWISU',\n",
       " -6374: 'Neighborhood_Sawyer',\n",
       " -12471: 'Neighborhood_SawyerW',\n",
       " 1241: 'Neighborhood_Somerst',\n",
       " 21328: 'Neighborhood_StoneBr',\n",
       " 32860: 'Neighborhood_Timber',\n",
       " -10494: 'Neighborhood_Veenker',\n",
       " 5795: 'Condition1_Artery',\n",
       " -14234: 'Condition1_Feedr',\n",
       " -5828: 'Condition1_Norm',\n",
       " 6174: 'Condition1_PosA',\n",
       " 21053: 'Condition1_PosN',\n",
       " -1079: 'Condition1_RRAe',\n",
       " -9178: 'Condition1_RRAn',\n",
       " 4316: 'Condition1_RRNe',\n",
       " -8883: 'Condition1_RRNn',\n",
       " 7659: 'Condition2_Artery',\n",
       " 26055: 'Condition2_Feedr',\n",
       " 39838: 'Condition2_Norm',\n",
       " 32555: 'Condition2_PosA',\n",
       " 30447: 'YearBuilt_1898',\n",
       " -170360: 'Condition2_RRAe',\n",
       " -16109: 'MiscFeature_Na',\n",
       " 19430: 'Condition2_RRNn',\n",
       " 38142: 'BldgType_1Fam',\n",
       " 1481: 'BldgType_2fmCon',\n",
       " -3382: 'BldgType_Duplex',\n",
       " 1797: 'BldgType_TwnhsE',\n",
       " 3052: 'HouseStyle_1.5Fin',\n",
       " -12261: 'HouseStyle_1.5Unf',\n",
       " 10711: 'HouseStyle_1Story',\n",
       " 2344: 'HouseStyle_2.5Fin',\n",
       " -12564: 'HouseStyle_2.5Unf',\n",
       " 34349: 'HouseStyle_2Story',\n",
       " -19956: 'HouseStyle_SFoyer',\n",
       " 4774: 'HouseStyle_SLvl',\n",
       " -7396: 'OverallQual_1',\n",
       " -7378: 'OverallQual_2',\n",
       " -13254: 'OverallQual_3',\n",
       " -9064: 'OverallQual_4',\n",
       " -12039: 'OverallQual_5',\n",
       " -16531: 'OverallQual_6',\n",
       " -13399: 'OverallQual_7',\n",
       " -7426: 'OverallQual_8',\n",
       " 5905: 'OverallQual_9',\n",
       " 25858: 'OverallQual_10',\n",
       " 47327: 'OverallCond_1',\n",
       " 5537: 'OverallCond_2',\n",
       " 18900: 'OverallCond_3',\n",
       " -27353: 'OverallCond_4',\n",
       " -16631: 'OverallCond_5',\n",
       " -11630: 'OverallCond_6',\n",
       " -2097: 'OverallCond_7',\n",
       " 5341: 'OverallCond_8',\n",
       " 10764: 'OverallCond_9',\n",
       " 17170: 'YearBuilt_1872',\n",
       " -20388: 'YearBuilt_1875',\n",
       " -7867: 'YearBuilt_1880',\n",
       " -13535: 'YearBuilt_1882',\n",
       " -3880: 'YearBuilt_1885',\n",
       " -13061: 'YearBuilt_1890',\n",
       " -39653: 'YearBuilt_1892',\n",
       " -58605: 'YearBuilt_1893',\n",
       " 0: 'MiscFeature_Shed',\n",
       " -19949: 'YearBuilt_1904',\n",
       " -1828: 'YearBuilt_1906',\n",
       " -9420: 'GarageYrBlt_1908.0',\n",
       " 5002: 'GarageYrBlt_1910.0',\n",
       " -21402: 'YearBuilt_1911',\n",
       " -7205: 'YearBuilt_1912',\n",
       " 10213: 'YearBuilt_1913',\n",
       " -16759: 'YearBuilt_1914',\n",
       " 4861: 'YearBuilt_1915',\n",
       " 10689: 'YearBuilt_1916',\n",
       " 6143: 'YearBuilt_1917',\n",
       " -6790: 'YearBuilt_1918',\n",
       " -75: 'YearBuilt_1919',\n",
       " -2672: 'YearBuilt_1920',\n",
       " -1980: 'YearBuilt_1921',\n",
       " 15389: 'YearBuilt_1922',\n",
       " -19128: 'YearBuilt_1923',\n",
       " 20747: 'YearBuilt_1924',\n",
       " 3953: 'YearBuilt_1925',\n",
       " 5735: 'YearBuilt_1926',\n",
       " -6189: 'YearBuilt_1928',\n",
       " 6409: 'YearBuilt_1929',\n",
       " -22284: 'YearBuilt_1930',\n",
       " 14061: 'YearBuilt_1931',\n",
       " -11048: 'YearBuilt_1932',\n",
       " 72769: 'YearBuilt_1934',\n",
       " -10311: 'YearBuilt_1935',\n",
       " 11965: 'YearBuilt_1936',\n",
       " -665: 'YearBuilt_1937',\n",
       " -5896: 'YearBuilt_1938',\n",
       " -2282: 'YearBuilt_1939',\n",
       " -4822: 'YearBuilt_1940',\n",
       " -7202: 'YearBuilt_1941',\n",
       " 4341: 'YearBuilt_1942',\n",
       " 423: 'GarageYrBlt_1945.0',\n",
       " 3281: 'YearBuilt_1946',\n",
       " -17564: 'YearBuilt_1947',\n",
       " -14955: 'YearBuilt_1948',\n",
       " -3019: 'YearBuilt_1949',\n",
       " -312: 'YearBuilt_1950',\n",
       " -2772: 'YearBuilt_1951',\n",
       " 3502: 'YearBuilt_1952',\n",
       " 21139: 'YearRemodAdd_1953',\n",
       " -6912: 'YearBuilt_1954',\n",
       " -5756: 'YearBuilt_1955',\n",
       " -8659: 'YearBuilt_1956',\n",
       " -10895: 'YearBuilt_1957',\n",
       " 13121: 'YearBuilt_1958',\n",
       " -16497: 'YearBuilt_1959',\n",
       " 5478: 'YearBuilt_1960',\n",
       " 23469: 'YearBuilt_1961',\n",
       " 2859: 'YearBuilt_1962',\n",
       " -8100: 'YearBuilt_1963',\n",
       " 4184: 'YearBuilt_1964',\n",
       " -52028: 'YearBuilt_1965',\n",
       " -10061: 'YearBuilt_1966',\n",
       " -29546: 'YearBuilt_1967',\n",
       " 16266: 'YearBuilt_1968',\n",
       " -1543: 'YearBuilt_1969',\n",
       " 7092: 'YearBuilt_1970',\n",
       " -8218: 'YearBuilt_1971',\n",
       " -20610: 'YearBuilt_1972',\n",
       " 2382: 'YearBuilt_1973',\n",
       " -21925: 'YearBuilt_1974',\n",
       " -1766: 'YearBuilt_1975',\n",
       " -559: 'YearBuilt_1976',\n",
       " -3657: 'YearBuilt_1977',\n",
       " -8196: 'YearBuilt_1978',\n",
       " -18339: 'YearBuilt_1979',\n",
       " -41: 'YearBuilt_1980',\n",
       " 7456: 'YearBuilt_1981',\n",
       " 16056: 'YearBuilt_1982',\n",
       " 3088: 'YearBuilt_1983',\n",
       " 4319: 'YearBuilt_1984',\n",
       " -3216: 'YearBuilt_1985',\n",
       " 6273: 'YearBuilt_1986',\n",
       " 3104: 'YearBuilt_1987',\n",
       " 6441: 'YearBuilt_1988',\n",
       " 11639: 'YearBuilt_1989',\n",
       " -3699: 'YearBuilt_1990',\n",
       " 34785: 'YearBuilt_1991',\n",
       " -7929: 'YearBuilt_1992',\n",
       " 1953: 'GarageYrBlt_1993.0',\n",
       " 20576: 'YearBuilt_1994',\n",
       " 1513: 'YearBuilt_1995',\n",
       " 14720: 'YearBuilt_1996',\n",
       " 17410: 'YearBuilt_1997',\n",
       " 9077: 'YearBuilt_1998',\n",
       " 30153: 'YearBuilt_1999',\n",
       " -8062: 'YearBuilt_2000',\n",
       " 12497: 'YearBuilt_2001',\n",
       " 7879: 'GarageYrBlt_2002.0',\n",
       " 16806: 'YearBuilt_2003',\n",
       " 1478: 'YearBuilt_2004',\n",
       " 445: 'YearBuilt_2005',\n",
       " 23077: 'YearBuilt_2006',\n",
       " 13598: 'YearBuilt_2007',\n",
       " 14147: 'YearBuilt_2008',\n",
       " 21202: 'YearBuilt_2009',\n",
       " 11640: 'YearBuilt_2010',\n",
       " -10776: 'YearRemodAdd_1950',\n",
       " -4286: 'YearRemodAdd_1951',\n",
       " -1672: 'YearRemodAdd_1952',\n",
       " -5849: 'YearRemodAdd_1954',\n",
       " -4683: 'YearRemodAdd_1955',\n",
       " 4819: 'YearRemodAdd_1956',\n",
       " -11542: 'YearRemodAdd_1957',\n",
       " 5635: 'YearRemodAdd_1958',\n",
       " -3850: 'YearRemodAdd_1959',\n",
       " -17556: 'YearRemodAdd_1960',\n",
       " -20521: 'YearRemodAdd_1961',\n",
       " -834: 'YearRemodAdd_1962',\n",
       " 16268: 'YearRemodAdd_1963',\n",
       " -14810: 'YearRemodAdd_1964',\n",
       " 28976: 'YearRemodAdd_1965',\n",
       " -7120: 'YearRemodAdd_1966',\n",
       " 5893: 'YearRemodAdd_1967',\n",
       " -2919: 'YearRemodAdd_1968',\n",
       " 19163: 'YearRemodAdd_1969',\n",
       " -11561: 'YearRemodAdd_1970',\n",
       " -1096: 'YearRemodAdd_1971',\n",
       " 11226: 'YearRemodAdd_1972',\n",
       " -14800: 'YearRemodAdd_1973',\n",
       " -9828: 'YearRemodAdd_1974',\n",
       " 8485: 'YearRemodAdd_1975',\n",
       " -5274: 'YearRemodAdd_1976',\n",
       " 1198: 'YearRemodAdd_1977',\n",
       " 3272: 'YearRemodAdd_1978',\n",
       " 8768: 'YearRemodAdd_1979',\n",
       " -4885: 'YearRemodAdd_1980',\n",
       " -12043: 'YearRemodAdd_1981',\n",
       " -11716: 'YearRemodAdd_1982',\n",
       " -1805: 'YearRemodAdd_1983',\n",
       " 4690: 'YearRemodAdd_1984',\n",
       " -5680: 'YearRemodAdd_1985',\n",
       " -2139: 'YearRemodAdd_1986',\n",
       " 11174: 'YearRemodAdd_1987',\n",
       " 4730: 'YearRemodAdd_1988',\n",
       " 5069: 'YearRemodAdd_1989',\n",
       " 5885: 'YearRemodAdd_1990',\n",
       " -22559: 'YearRemodAdd_1991',\n",
       " -11866: 'YearRemodAdd_1992',\n",
       " -7498: 'YearRemodAdd_1993',\n",
       " 6807: 'YearRemodAdd_1994',\n",
       " -1280: 'YearRemodAdd_1995',\n",
       " 5504: 'YearRemodAdd_1996',\n",
       " 3428: 'YearRemodAdd_1997',\n",
       " 7920: 'YearRemodAdd_1998',\n",
       " 3451: 'YearRemodAdd_1999',\n",
       " 13072: 'YearRemodAdd_2000',\n",
       " -1: 'YearRemodAdd_2001',\n",
       " 5622: 'YearRemodAdd_2002',\n",
       " -1870: 'YearRemodAdd_2003',\n",
       " -3042: 'YearRemodAdd_2004',\n",
       " -3639: 'YearRemodAdd_2005',\n",
       " -7942: 'YearRemodAdd_2006',\n",
       " -7794: 'YearRemodAdd_2007',\n",
       " -3476: 'YearRemodAdd_2008',\n",
       " 6089: 'YearRemodAdd_2009',\n",
       " -14561: 'YearRemodAdd_2010',\n",
       " 43710: 'RoofStyle_Flat',\n",
       " 1553: 'RoofStyle_Gable',\n",
       " -14629: 'RoofStyle_Gambrel',\n",
       " -14021: 'RoofStyle_Hip',\n",
       " -15763: 'RoofStyle_Mansard',\n",
       " -8604: 'RoofStyle_Shed',\n",
       " 51464: 'RoofMatl_ClyTile',\n",
       " -404345: 'RoofMatl_CompShg',\n",
       " 62588: 'RoofMatl_Membran',\n",
       " 92548: 'RoofMatl_Metal',\n",
       " 42389: 'RoofMatl_Tar&Grv',\n",
       " 37948: 'RoofMatl_WdShake',\n",
       " 43907: 'RoofMatl_WdShngl',\n",
       " 124965: 'Exterior1st_AsbShng',\n",
       " -9767: 'Exterior1st_AsphShn',\n",
       " -26434: 'Exterior1st_BrkFace',\n",
       " 12594: 'Exterior1st_CBlock',\n",
       " -4657: 'Exterior2nd_CmentBd',\n",
       " 4683: 'Exterior1st_HdBoard',\n",
       " -1146: 'Exterior1st_ImStucc',\n",
       " 22958: 'Exterior1st_Plywood',\n",
       " -1249: 'Exterior1st_Stone',\n",
       " 17162: 'Exterior1st_Stucco',\n",
       " -6082: 'Exterior1st_VinylSd',\n",
       " -13562: 'Exterior1st_Wd Sdng',\n",
       " 3896: 'Exterior1st_WdShing',\n",
       " 1606: 'Exterior2nd_AsbShng',\n",
       " 22649: 'Exterior2nd_AsphShn',\n",
       " -3726: 'GarageYrBlt_1954.0',\n",
       " -17321: 'Exterior2nd_BrkFace',\n",
       " 2017: 'Exterior2nd_CBlock',\n",
       " 3470: 'Exterior2nd_HdBoard',\n",
       " -2325: 'Exterior2nd_ImStucc',\n",
       " 21501: 'Exterior2nd_MetalSd',\n",
       " -20448: 'Exterior2nd_Other',\n",
       " -1089: 'Exterior2nd_Plywood',\n",
       " -1651: 'Exterior2nd_Stone',\n",
       " -366: 'Exterior2nd_Stucco',\n",
       " 236: 'Exterior2nd_VinylSd',\n",
       " 12145: 'Exterior2nd_Wd Sdng',\n",
       " -4786: 'Exterior2nd_Wd Shng',\n",
       " -5650: 'MasVnrType_BrkCmn',\n",
       " -1190: 'MasVnrType_BrkFace',\n",
       " 620: 'MasVnrType_Na',\n",
       " 6617: 'MasVnrType_None',\n",
       " -231: 'MasVnrType_Stone',\n",
       " -5816: 'ExterQual_Ex',\n",
       " 4719: 'ExterQual_Fa',\n",
       " -1941: 'ExterQual_Gd',\n",
       " -1715: 'ExterQual_TA',\n",
       " -1063: 'ExterCond_Ex',\n",
       " 19422: 'ExterCond_Fa',\n",
       " 9651: 'ExterCond_Gd',\n",
       " 6560: 'ExterCond_Po',\n",
       " -47994: 'ExterCond_TA',\n",
       " 12361: 'Foundation_BrkTil',\n",
       " -3049: 'Foundation_CBlock',\n",
       " 3097: 'Foundation_PConc',\n",
       " 7436: 'Foundation_Slab',\n",
       " -6044: 'Foundation_Stone',\n",
       " 18003: 'Foundation_Wood',\n",
       " -19444: 'BsmtQual_Ex',\n",
       " 7881: 'BsmtQual_Fa',\n",
       " -4152: 'BsmtQual_Gd',\n",
       " -4898: 'BsmtQual_Na',\n",
       " 4108: 'BsmtFinType2_Rec',\n",
       " -2938: 'BsmtCond_Fa',\n",
       " -7776: 'BsmtCond_Gd',\n",
       " -3813: 'BsmtCond_Na',\n",
       " 10320: 'BsmtCond_TA',\n",
       " -2839: 'BsmtExposure_Av',\n",
       " 694: 'BsmtExposure_Gd',\n",
       " 15723: 'BsmtExposure_Mn',\n",
       " -1808: 'BsmtExposure_Na',\n",
       " -10085: 'BsmtExposure_No',\n",
       " -4523: 'BsmtFinType1_ALQ',\n",
       " -3925: 'BsmtFinType1_BLQ',\n",
       " 107: 'BsmtFinType1_GLQ',\n",
       " 2018: 'BsmtFinType1_LwQ',\n",
       " -295: 'BsmtFinType1_Na',\n",
       " -925: 'BsmtFinType1_Unf',\n",
       " -1087: 'BsmtFinType2_ALQ',\n",
       " -786: 'BsmtFinType2_BLQ',\n",
       " -2530: 'BsmtFinType2_GLQ',\n",
       " 3295: 'BsmtFinType2_LwQ',\n",
       " -2718: 'BsmtFinType2_Na',\n",
       " -819: 'BsmtFinType2_Unf',\n",
       " -549: 'Heating_Floor',\n",
       " -1940: 'Heating_GasA',\n",
       " 5290: 'Heating_GasW',\n",
       " 12522: 'Heating_Grav',\n",
       " 23722: 'Heating_OthW',\n",
       " -27178: 'Heating_Wall',\n",
       " -12416: 'HeatingQC_Ex',\n",
       " 2727: 'HeatingQC_Fa',\n",
       " 1880: 'HeatingQC_Gd',\n",
       " -2550: 'HeatingQC_Po',\n",
       " -3525: 'HeatingQC_TA',\n",
       " 1469: 'CentralAir_N',\n",
       " 27: 'CentralAir_Y',\n",
       " -27: 'Electrical_FuseA',\n",
       " 785: 'Electrical_FuseF',\n",
       " -3687: 'Electrical_FuseP',\n",
       " -1276: 'Electrical_Mix',\n",
       " 4783: 'Electrical_SBrkr',\n",
       " -605: 'KitchenQual_Ex',\n",
       " 7967: 'KitchenQual_Fa',\n",
       " -3480: 'KitchenQual_Gd',\n",
       " -2963: 'KitchenQual_TA',\n",
       " -1524: 'Functional_Maj1',\n",
       " -4193: 'Functional_Maj2',\n",
       " -22057: 'Functional_Min1',\n",
       " 4272: 'Functional_Min2',\n",
       " 3887: 'Functional_Mod',\n",
       " 7094: 'Functional_Sev',\n",
       " 10997: 'FireplaceQu_Ex',\n",
       " 1951: 'FireplaceQu_Fa',\n",
       " -4603: 'FireplaceQu_Gd',\n",
       " -1244: 'FireplaceQu_Na',\n",
       " 4513: 'FireplaceQu_Po',\n",
       " 1863: 'FireplaceQu_TA',\n",
       " -2480: 'GarageType_2Types',\n",
       " -22889: 'GarageType_Attchd',\n",
       " 6569: 'GarageType_Basment',\n",
       " 13196: 'GarageType_BuiltIn',\n",
       " 2912: 'GarageType_CarPort',\n",
       " -6400: 'GarageType_Detchd',\n",
       " 3045: 'GarageType_Na',\n",
       " 3567: 'GarageCond_Po',\n",
       " -56044: 'GarageYrBlt_1906.0',\n",
       " 39419: 'GarageYrBlt_1914.0',\n",
       " -7447: 'GarageYrBlt_1915.0',\n",
       " -24225: 'GarageYrBlt_1916.0',\n",
       " -18595: 'GarageYrBlt_1918.0',\n",
       " -40665: 'GarageYrBlt_1920.0',\n",
       " 7783: 'GarageYrBlt_1921.0',\n",
       " -346: 'GarageYrBlt_1922.0',\n",
       " 24180: 'GarageYrBlt_1923.0',\n",
       " -1009: 'GarageYrBlt_1924.0',\n",
       " -7349: 'GarageYrBlt_1925.0',\n",
       " -726: 'GarageYrBlt_1926.0',\n",
       " 581: 'GarageYrBlt_1927.0',\n",
       " 30629: 'GarageYrBlt_1928.0',\n",
       " -2590: 'GarageYrBlt_1929.0',\n",
       " -6496: 'GarageYrBlt_1930.0',\n",
       " 2646: 'GarageYrBlt_1931.0',\n",
       " 4269: 'GarageYrBlt_1932.0',\n",
       " -50921: 'GarageYrBlt_1933.0',\n",
       " 12586: 'GarageYrBlt_1934.0',\n",
       " 25509: 'GarageYrBlt_1935.0',\n",
       " -10482: 'GarageYrBlt_1936.0',\n",
       " 10479: 'GarageYrBlt_1937.0',\n",
       " 1376: 'GarageYrBlt_1939.0',\n",
       " 11423: 'GarageYrBlt_1940.0',\n",
       " 7607: 'GarageYrBlt_1941.0',\n",
       " -10347: 'GarageYrBlt_1942.0',\n",
       " -4864: 'GarageYrBlt_1946.0',\n",
       " -195: 'GarageYrBlt_1947.0',\n",
       " 16075: 'GarageYrBlt_1948.0',\n",
       " 11525: 'GarageYrBlt_1949.0',\n",
       " -2632: 'GarageYrBlt_1950.0',\n",
       " 9122: 'GarageYrBlt_1951.0',\n",
       " -9834: 'GarageYrBlt_1952.0',\n",
       " -37275: 'GarageYrBlt_1953.0',\n",
       " 4308: 'GarageYrBlt_1955.0',\n",
       " -6570: 'GarageYrBlt_1956.0',\n",
       " 9215: 'GarageYrBlt_1957.0',\n",
       " -27385: 'GarageYrBlt_1958.0',\n",
       " 13025: 'GarageYrBlt_1959.0',\n",
       " 5020: 'GarageYrBlt_1960.0',\n",
       " -15697: 'GarageYrBlt_1961.0',\n",
       " -4922: 'GarageYrBlt_1962.0',\n",
       " 1137: 'GarageYrBlt_1963.0',\n",
       " -2514: 'GarageYrBlt_1964.0',\n",
       " 9632: 'GarageYrBlt_1965.0',\n",
       " 13775: 'GarageYrBlt_1966.0',\n",
       " 20736: 'GarageYrBlt_1967.0',\n",
       " -11815: 'GarageYrBlt_1968.0',\n",
       " -11555: 'GarageYrBlt_1969.0',\n",
       " -499: 'GarageYrBlt_1970.0',\n",
       " 6498: 'GarageYrBlt_1972.0',\n",
       " 3087: 'GarageYrBlt_1973.0',\n",
       " 18709: 'GarageYrBlt_1974.0',\n",
       " 3739: 'GarageYrBlt_1975.0',\n",
       " 920: 'GarageYrBlt_1976.0',\n",
       " 7662: 'GarageYrBlt_1977.0',\n",
       " -946: 'GarageYrBlt_1978.0',\n",
       " 10270: 'GarageYrBlt_1979.0',\n",
       " 16707: 'GarageYrBlt_1980.0',\n",
       " 6054: 'GarageYrBlt_1981.0',\n",
       " -37459: 'GarageYrBlt_1982.0',\n",
       " -10131: 'GarageYrBlt_1983.0',\n",
       " 8660: 'GarageYrBlt_1984.0',\n",
       " -1349: 'GarageYrBlt_1985.0',\n",
       " -2091: 'GarageYrBlt_1986.0',\n",
       " 9957: 'GarageYrBlt_1987.0',\n",
       " 6327: 'GarageYrBlt_1988.0',\n",
       " -9302: 'GarageYrBlt_1989.0',\n",
       " 10470: 'GarageYrBlt_1990.0',\n",
       " -13794: 'GarageYrBlt_1991.0',\n",
       " 18486: 'GarageYrBlt_1992.0',\n",
       " -18906: 'GarageYrBlt_1994.0',\n",
       " 14289: 'GarageYrBlt_1995.0',\n",
       " -2974: 'GarageYrBlt_1996.0',\n",
       " -4232: 'GarageYrBlt_1997.0',\n",
       " 6602: 'GarageYrBlt_1998.0',\n",
       " -24441: 'GarageYrBlt_1999.0',\n",
       " 6192: 'GarageYrBlt_2000.0',\n",
       " -4745: 'GarageYrBlt_2001.0',\n",
       " 2715: 'GarageYrBlt_2003.0',\n",
       " 15448: 'GarageYrBlt_2004.0',\n",
       " 20720: 'GarageYrBlt_2005.0',\n",
       " -7064: 'GarageYrBlt_2006.0',\n",
       " 11192: 'GarageYrBlt_2007.0',\n",
       " 1436: 'GarageYrBlt_2008.0',\n",
       " 11817: 'GarageYrBlt_2009.0',\n",
       " 22814: 'GarageYrBlt_2010.0',\n",
       " -29372: 'GarageYrBlt_Na',\n",
       " 1007: 'GarageFinish_Na',\n",
       " -2358: 'GarageFinish_Unf',\n",
       " -2216: 'GarageQual_Ex',\n",
       " 4646: 'GarageCond_Fa',\n",
       " 5580: 'GarageQual_Gd',\n",
       " 13416: 'GarageQual_Na',\n",
       " -38585: 'GarageQual_TA',\n",
       " 11376: 'GarageCond_Ex',\n",
       " -7664: 'GarageCond_Gd',\n",
       " -3512: 'GarageCond_Na',\n",
       " 7099: 'GarageCond_TA',\n",
       " -4137: 'PavedDrive_N',\n",
       " 1561: 'PavedDrive_P',\n",
       " -3495: 'PavedDrive_Y',\n",
       " 1934: 'PoolQC_Ex',\n",
       " 66604: 'PoolQC_Fa',\n",
       " -102164: 'PoolQC_Gd',\n",
       " -110046: 'PoolQC_Na',\n",
       " 145606: 'Fence_GdPrv',\n",
       " -538: 'Fence_GdWo',\n",
       " -87: 'Fence_MnPrv',\n",
       " 5388: 'Fence_MnWw',\n",
       " -6822: 'Fence_Na',\n",
       " 2060: 'MiscFeature_Gar2',\n",
       " 4012: 'MiscFeature_Othr',\n",
       " 4995: 'MiscFeature_TenC',\n",
       " 7101: 'SaleType_COD',\n",
       " -4140: 'SaleType_CWD',\n",
       " 21723: 'SaleType_Con',\n",
       " 10771: 'SaleType_ConLD',\n",
       " -7752: 'SaleType_ConLI',\n",
       " -4316: 'SaleType_ConLw',\n",
       " -16040: 'SaleType_New',\n",
       " 8484: 'SaleType_Oth',\n",
       " 132: 'SaleType_WD',\n",
       " -8863: 'SaleCondition_Abnorml',\n",
       " -2712: 'SaleCondition_AdjLand',\n",
       " 14647: 'SaleCondition_Alloca',\n",
       " -5266: 'SaleCondition_Family',\n",
       " -12134: 'SaleCondition_Normal',\n",
       " 5136: 'SaleCondition_Partial',\n",
       " 330: 'YearSold'}"
      ]
     },
     "execution_count": 19,
     "metadata": {},
     "output_type": "execute_result"
    }
   ],
   "source": [
    "coefs = model2.coef_\n",
    "feature_dict = {}\n",
    "for coef, feat in zip(coefs, X_train.columns):\n",
    "    feature_dict[round(coef)] = feat\n",
    "\n",
    "feature_dict"
   ]
  },
  {
   "cell_type": "markdown",
   "metadata": {},
   "source": [
    "Now that I have all my features and their coefficient values stored in a dictionary, I will sort the values into lists of positive and negative values, and extract the 3 largest values from each list."
   ]
  },
  {
   "cell_type": "code",
   "execution_count": 20,
   "metadata": {},
   "outputs": [
    {
     "name": "stdout",
     "output_type": "stream",
     "text": [
      "[145606, 124965, 92548]\n",
      "[-404345, -170360, -110046]\n"
     ]
    }
   ],
   "source": [
    "positive_coefs = sorted([round(coef) for coef in coefs if coef >=0], reverse=True)\n",
    "negative_coefs = sorted([round(coef) for coef in coefs if coef < 0], reverse=True, key=abs)\n",
    "top_pos_feat = positive_coefs[:3]\n",
    "top_neg_feat = negative_coefs[:3]\n",
    "\n",
    "print(top_pos_feat)\n",
    "print(top_neg_feat)"
   ]
  },
  {
   "cell_type": "markdown",
   "metadata": {},
   "source": [
    "Let's see which features these values correspond to. Do you have any guesses what features impact the values of a house?"
   ]
  },
  {
   "cell_type": "code",
   "execution_count": 21,
   "metadata": {},
   "outputs": [
    {
     "name": "stdout",
     "output_type": "stream",
     "text": [
      "Fence_GdPrv : 145606\n",
      "Exterior1st_AsbShng : 124965\n",
      "RoofMatl_Metal : 92548\n",
      "RoofMatl_CompShg : -404345\n",
      "Condition2_RRAe : -170360\n",
      "PoolQC_Na : -110046\n"
     ]
    }
   ],
   "source": [
    "top_features = positive_coefs[:3] + negative_coefs[:3]\n",
    "for i in top_features:\n",
    "    print(feature_dict.get(i), \":\", i)"
   ]
  },
  {
   "attachments": {},
   "cell_type": "markdown",
   "metadata": {},
   "source": [
    "Interesting, the highest positive importance is:  \n",
    "Fence - Good Privacy  \n",
    "Exterior covering on house - Asbestos Shingles\n",
    "Roof Material - Metal  \n",
    "  \n",
    "And the highest negative importance is:\n",
    "Roof Material - Standard (Composite) Shingle  \n",
    "Condition 2 (Proximity to various conditions if more than one is present) - Adjacent to East-West Railroad  \n",
    "Pool Quality - No pool  "
   ]
  },
  {
   "cell_type": "markdown",
   "metadata": {},
   "source": [
    "Before concluding this section of the project, I will calculate the upper and lower bound of the test residuals for it to find the worst case scenarios of predictions around the target."
   ]
  },
  {
   "cell_type": "code",
   "execution_count": 22,
   "metadata": {},
   "outputs": [
    {
     "data": {
      "image/png": "[encoded data removed]",
      "text/plain": [
       "<Figure size 432x288 with 1 Axes>"
      ]
     },
     "metadata": {
      "needs_background": "light"
     },
     "output_type": "display_data"
    }
   ],
   "source": [
    "rr_test_residuals = y_test - mod2_y_test_pred\n",
    "_ = plt.hist(rr_test_residuals)"
   ]
  },
  {
   "cell_type": "code",
   "execution_count": 23,
   "metadata": {},
   "outputs": [
    {
     "name": "stdout",
     "output_type": "stream",
     "text": [
      "365 173\n"
     ]
    }
   ],
   "source": [
    "half_k = int(len(rr_test_residuals)*0.95 / 2)\n",
    "print(len(rr_test_residuals), half_k)"
   ]
  },
  {
   "cell_type": "code",
   "execution_count": 24,
   "metadata": {},
   "outputs": [
    {
     "name": "stdout",
     "output_type": "stream",
     "text": [
      "172 173\n"
     ]
    }
   ],
   "source": [
    "sorted_pos = sorted([resid for resid in rr_test_residuals if resid >= 0])\n",
    "sorted_neg = sorted([abs(resid) for resid in rr_test_residuals if resid < 0])\n",
    "test_residuals_pos = sorted_pos[0:half_k]\n",
    "test_residuals_neg = sorted_neg[0:half_k]\n",
    "print(len(test_residuals_pos), len(test_residuals_neg))"
   ]
  },
  {
   "cell_type": "code",
   "execution_count": 25,
   "metadata": {},
   "outputs": [
    {
     "name": "stdout",
     "output_type": "stream",
     "text": [
      "182997.69 38545.87\n"
     ]
    }
   ],
   "source": [
    "worst_lower = max(test_residuals_pos)\n",
    "worst_upper = max(test_residuals_neg)\n",
    "print(round(worst_lower, 2), round(worst_upper, 2))"
   ]
  },
  {
   "cell_type": "markdown",
   "metadata": {},
   "source": [
    "Above, I have calculated the 95% confidence interval of the residuals, then extracted the positive and negative residuals within the 95% confidence interval, and identified the worst lower case and worst upper case scenario of residuals.\n",
    "In the worst case scenarios, the prediction will be 182998 below or 38546 above the actual value.  \n",
    "To correct these errors, the worst case lower bound value should be added to, and the worst case upper bound should be subtracted from the model prediction."
   ]
  },
  {
   "cell_type": "markdown",
   "metadata": {},
   "source": [
    "##### Let's add that my findings to my Model Score Comparison table:  \n",
    "\n",
    "| Model | R2 Score | MAE | Top Positive Features | Top Negative Features | Upper/Lower bound |\n",
    "| --- | :---: | :---: | :---: | :---: | :---: |\n",
    "| Linear Regression | -5.942855744917795e+18 | 26135556089128.79 |\n",
    "| Ridge Regression | 0.8353 | 20668.8593 | Fence, Exterior Covering, Roof Material | Roof Material, Conditions, Pool | 38546/182998 |\n",
    "| Lasso Regression | 0.7903 | 22843.4313 |"
   ]
  },
  {
   "cell_type": "markdown",
   "metadata": {},
   "source": [
    "In this section, I have split my data into a train/test set and scaled it using standard scaling. Then I built three different basic models: Linear Regression (which performed really poorly), Ridge Regression, and Lasso Regression. The base model with the best performance for this data set ended up being Ridge regression (with alpha=0.1). After deciding to move forward with Ridge regression as my base model, I identified the three top positive/negative features for the model, and calculated the upper and lower worst-case scenarios for the predictions."
   ]
  },
  {
   "cell_type": "markdown",
   "metadata": {},
   "source": [
    "### Next up: Will she be able to build a prediction model that beats the performance of the ridge regression in this notebook? Stay tuned for 'Modelling - the extended version' !"
   ]
  }
 ],
 "metadata": {
  "kernelspec": {
   "display_name": "Python 3",
   "language": "python",
   "name": "python3"
  },
  "language_info": {
   "codemirror_mode": {
    "name": "ipython",
    "version": 3
   },
   "file_extension": ".py",
   "mimetype": "text/x-python",
   "name": "python",
   "nbconvert_exporter": "python",
   "pygments_lexer": "ipython3",
   "version": "3.7.6"
  }
 },
 "nbformat": 4,
 "nbformat_minor": 4
}
