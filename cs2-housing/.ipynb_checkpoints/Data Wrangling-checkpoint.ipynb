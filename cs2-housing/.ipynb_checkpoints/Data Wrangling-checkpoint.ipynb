{
 "cells": [
  {
   "cell_type": "markdown",
   "metadata": {},
   "source": [
    "# Data Wrangling "
   ]
  },
  {
   "cell_type": "markdown",
   "metadata": {},
   "source": [
    "Project Goal: In this project, I aim to build models to predict the final price of homes in Ames, Iowa\n",
    "based on 79 different given property features.\n",
    "The data for this project has been retrieved from: https://www.kaggle.com/c/house-prices-advanced-regression-techniques/overview\n",
    "***\n",
    "\n",
    "In this section, I will take a look at the data to answer the following questions: How many data points do I have? What are the variables (column names/property features) and data types? What is the percentage of data points missing and for which variables? And last, but not least, is the final saleprice for all entities available?"
   ]
  },
  {
   "cell_type": "code",
   "execution_count": 1,
   "metadata": {},
   "outputs": [],
   "source": [
    "import pandas as pd\n",
    "import numpy as np\n",
    "import matplotlib.pyplot as plt"
   ]
  },
  {
   "cell_type": "markdown",
   "metadata": {},
   "source": [
    " "
   ]
  },
  {
   "cell_type": "markdown",
   "metadata": {},
   "source": [
    "Let's start with transforming the provided data description from a text file to a Pandas DataFrame so that I can easily access it throughout the rest of the project. "
   ]
  },
  {
   "cell_type": "markdown",
   "metadata": {},
   "source": [
    " "
   ]
  },
  {
   "cell_type": "code",
   "execution_count": 2,
   "metadata": {
    "scrolled": true
   },
   "outputs": [
    {
     "name": "stdout",
     "output_type": "stream",
     "text": [
      "<class 'pandas.core.frame.DataFrame'>\n",
      "RangeIndex: 79 entries, 0 to 78\n",
      "Data columns (total 3 columns):\n",
      " #   Column       Non-Null Count  Dtype \n",
      "---  ------       --------------  ----- \n",
      " 0   Name         79 non-null     object\n",
      " 1   Description  79 non-null     object\n",
      " 2   Notes        46 non-null     object\n",
      "dtypes: object(3)\n",
      "memory usage: 2.0+ KB\n"
     ]
    }
   ],
   "source": [
    "# Creating loop to transfom data description txt file into list of lists\n",
    "data_desc_file = '../cs2-housing/documents/data_description.txt'\n",
    "data_desc_dict = []\n",
    "\n",
    "with open(data_desc_file) as file:\n",
    "    for line in file:\n",
    "        if not line.isspace():\n",
    "            if not line.startswith(\" \"):\n",
    "                new_line = line.split(\":\")\n",
    "                data_desc_dict.append([new_line[0].strip(), new_line[1].strip(), ''])\n",
    "            else:\n",
    "                data_desc_dict[-1][2] += line.replace('\\n', '').replace('\\t', ':')\n",
    "                \n",
    "# Creating pd dataframe for Data Dictionary, replacing blank space with NaN values\n",
    "column_names = ['Name', 'Description', 'Notes']            \n",
    "data_dict_df = pd.DataFrame(data_desc_dict,columns=column_names)\n",
    "data_dict_df = data_dict_df.replace(r'^\\s*$', np.nan, regex=True)\n",
    "data_dict_df.info()"
   ]
  },
  {
   "cell_type": "markdown",
   "metadata": {},
   "source": [
    " "
   ]
  },
  {
   "cell_type": "markdown",
   "metadata": {},
   "source": [
    "Now it's time read the data to a DataFrame and see how many data points and columns I'm dealing with. "
   ]
  },
  {
   "cell_type": "markdown",
   "metadata": {},
   "source": [
    " "
   ]
  },
  {
   "cell_type": "code",
   "execution_count": 3,
   "metadata": {},
   "outputs": [],
   "source": [
    "housing_raw = pd.read_csv('../cs2-housing/rawdata/train.csv')"
   ]
  },
  {
   "cell_type": "code",
   "execution_count": 4,
   "metadata": {
    "scrolled": true
   },
   "outputs": [
    {
     "name": "stdout",
     "output_type": "stream",
     "text": [
      "<class 'pandas.core.frame.DataFrame'>\n",
      "RangeIndex: 1460 entries, 0 to 1459\n",
      "Data columns (total 81 columns):\n",
      " #   Column         Non-Null Count  Dtype  \n",
      "---  ------         --------------  -----  \n",
      " 0   Id             1460 non-null   int64  \n",
      " 1   MSSubClass     1460 non-null   int64  \n",
      " 2   MSZoning       1460 non-null   object \n",
      " 3   LotFrontage    1201 non-null   float64\n",
      " 4   LotArea        1460 non-null   int64  \n",
      " 5   Street         1460 non-null   object \n",
      " 6   Alley          91 non-null     object \n",
      " 7   LotShape       1460 non-null   object \n",
      " 8   LandContour    1460 non-null   object \n",
      " 9   Utilities      1460 non-null   object \n",
      " 10  LotConfig      1460 non-null   object \n",
      " 11  LandSlope      1460 non-null   object \n",
      " 12  Neighborhood   1460 non-null   object \n",
      " 13  Condition1     1460 non-null   object \n",
      " 14  Condition2     1460 non-null   object \n",
      " 15  BldgType       1460 non-null   object \n",
      " 16  HouseStyle     1460 non-null   object \n",
      " 17  OverallQual    1460 non-null   int64  \n",
      " 18  OverallCond    1460 non-null   int64  \n",
      " 19  YearBuilt      1460 non-null   int64  \n",
      " 20  YearRemodAdd   1460 non-null   int64  \n",
      " 21  RoofStyle      1460 non-null   object \n",
      " 22  RoofMatl       1460 non-null   object \n",
      " 23  Exterior1st    1460 non-null   object \n",
      " 24  Exterior2nd    1460 non-null   object \n",
      " 25  MasVnrType     1452 non-null   object \n",
      " 26  MasVnrArea     1452 non-null   float64\n",
      " 27  ExterQual      1460 non-null   object \n",
      " 28  ExterCond      1460 non-null   object \n",
      " 29  Foundation     1460 non-null   object \n",
      " 30  BsmtQual       1423 non-null   object \n",
      " 31  BsmtCond       1423 non-null   object \n",
      " 32  BsmtExposure   1422 non-null   object \n",
      " 33  BsmtFinType1   1423 non-null   object \n",
      " 34  BsmtFinSF1     1460 non-null   int64  \n",
      " 35  BsmtFinType2   1422 non-null   object \n",
      " 36  BsmtFinSF2     1460 non-null   int64  \n",
      " 37  BsmtUnfSF      1460 non-null   int64  \n",
      " 38  TotalBsmtSF    1460 non-null   int64  \n",
      " 39  Heating        1460 non-null   object \n",
      " 40  HeatingQC      1460 non-null   object \n",
      " 41  CentralAir     1460 non-null   object \n",
      " 42  Electrical     1459 non-null   object \n",
      " 43  1stFlrSF       1460 non-null   int64  \n",
      " 44  2ndFlrSF       1460 non-null   int64  \n",
      " 45  LowQualFinSF   1460 non-null   int64  \n",
      " 46  GrLivArea      1460 non-null   int64  \n",
      " 47  BsmtFullBath   1460 non-null   int64  \n",
      " 48  BsmtHalfBath   1460 non-null   int64  \n",
      " 49  FullBath       1460 non-null   int64  \n",
      " 50  HalfBath       1460 non-null   int64  \n",
      " 51  BedroomAbvGr   1460 non-null   int64  \n",
      " 52  KitchenAbvGr   1460 non-null   int64  \n",
      " 53  KitchenQual    1460 non-null   object \n",
      " 54  TotRmsAbvGrd   1460 non-null   int64  \n",
      " 55  Functional     1460 non-null   object \n",
      " 56  Fireplaces     1460 non-null   int64  \n",
      " 57  FireplaceQu    770 non-null    object \n",
      " 58  GarageType     1379 non-null   object \n",
      " 59  GarageYrBlt    1379 non-null   float64\n",
      " 60  GarageFinish   1379 non-null   object \n",
      " 61  GarageCars     1460 non-null   int64  \n",
      " 62  GarageArea     1460 non-null   int64  \n",
      " 63  GarageQual     1379 non-null   object \n",
      " 64  GarageCond     1379 non-null   object \n",
      " 65  PavedDrive     1460 non-null   object \n",
      " 66  WoodDeckSF     1460 non-null   int64  \n",
      " 67  OpenPorchSF    1460 non-null   int64  \n",
      " 68  EnclosedPorch  1460 non-null   int64  \n",
      " 69  3SsnPorch      1460 non-null   int64  \n",
      " 70  ScreenPorch    1460 non-null   int64  \n",
      " 71  PoolArea       1460 non-null   int64  \n",
      " 72  PoolQC         7 non-null      object \n",
      " 73  Fence          281 non-null    object \n",
      " 74  MiscFeature    54 non-null     object \n",
      " 75  MiscVal        1460 non-null   int64  \n",
      " 76  MoSold         1460 non-null   int64  \n",
      " 77  YrSold         1460 non-null   int64  \n",
      " 78  SaleType       1460 non-null   object \n",
      " 79  SaleCondition  1460 non-null   object \n",
      " 80  SalePrice      1460 non-null   int64  \n",
      "dtypes: float64(3), int64(35), object(43)\n",
      "memory usage: 924.0+ KB\n"
     ]
    }
   ],
   "source": [
    "housing_raw.info()"
   ]
  },
  {
   "cell_type": "code",
   "execution_count": 5,
   "metadata": {},
   "outputs": [
    {
     "data": {
      "text/html": [
       "<div>\n",
       "<style scoped>\n",
       "    .dataframe tbody tr th:only-of-type {\n",
       "        vertical-align: middle;\n",
       "    }\n",
       "\n",
       "    .dataframe tbody tr th {\n",
       "        vertical-align: top;\n",
       "    }\n",
       "\n",
       "    .dataframe thead th {\n",
       "        text-align: right;\n",
       "    }\n",
       "</style>\n",
       "<table border=\"1\" class=\"dataframe\">\n",
       "  <thead>\n",
       "    <tr style=\"text-align: right;\">\n",
       "      <th></th>\n",
       "      <th>Id</th>\n",
       "      <th>MSSubClass</th>\n",
       "      <th>MSZoning</th>\n",
       "      <th>LotFrontage</th>\n",
       "      <th>LotArea</th>\n",
       "      <th>Street</th>\n",
       "      <th>Alley</th>\n",
       "      <th>LotShape</th>\n",
       "      <th>LandContour</th>\n",
       "      <th>Utilities</th>\n",
       "      <th>...</th>\n",
       "      <th>PoolArea</th>\n",
       "      <th>PoolQC</th>\n",
       "      <th>Fence</th>\n",
       "      <th>MiscFeature</th>\n",
       "      <th>MiscVal</th>\n",
       "      <th>MoSold</th>\n",
       "      <th>YrSold</th>\n",
       "      <th>SaleType</th>\n",
       "      <th>SaleCondition</th>\n",
       "      <th>SalePrice</th>\n",
       "    </tr>\n",
       "  </thead>\n",
       "  <tbody>\n",
       "    <tr>\n",
       "      <th>0</th>\n",
       "      <td>1</td>\n",
       "      <td>60</td>\n",
       "      <td>RL</td>\n",
       "      <td>65.0</td>\n",
       "      <td>8450</td>\n",
       "      <td>Pave</td>\n",
       "      <td>NaN</td>\n",
       "      <td>Reg</td>\n",
       "      <td>Lvl</td>\n",
       "      <td>AllPub</td>\n",
       "      <td>...</td>\n",
       "      <td>0</td>\n",
       "      <td>NaN</td>\n",
       "      <td>NaN</td>\n",
       "      <td>NaN</td>\n",
       "      <td>0</td>\n",
       "      <td>2</td>\n",
       "      <td>2008</td>\n",
       "      <td>WD</td>\n",
       "      <td>Normal</td>\n",
       "      <td>208500</td>\n",
       "    </tr>\n",
       "    <tr>\n",
       "      <th>1</th>\n",
       "      <td>2</td>\n",
       "      <td>20</td>\n",
       "      <td>RL</td>\n",
       "      <td>80.0</td>\n",
       "      <td>9600</td>\n",
       "      <td>Pave</td>\n",
       "      <td>NaN</td>\n",
       "      <td>Reg</td>\n",
       "      <td>Lvl</td>\n",
       "      <td>AllPub</td>\n",
       "      <td>...</td>\n",
       "      <td>0</td>\n",
       "      <td>NaN</td>\n",
       "      <td>NaN</td>\n",
       "      <td>NaN</td>\n",
       "      <td>0</td>\n",
       "      <td>5</td>\n",
       "      <td>2007</td>\n",
       "      <td>WD</td>\n",
       "      <td>Normal</td>\n",
       "      <td>181500</td>\n",
       "    </tr>\n",
       "    <tr>\n",
       "      <th>2</th>\n",
       "      <td>3</td>\n",
       "      <td>60</td>\n",
       "      <td>RL</td>\n",
       "      <td>68.0</td>\n",
       "      <td>11250</td>\n",
       "      <td>Pave</td>\n",
       "      <td>NaN</td>\n",
       "      <td>IR1</td>\n",
       "      <td>Lvl</td>\n",
       "      <td>AllPub</td>\n",
       "      <td>...</td>\n",
       "      <td>0</td>\n",
       "      <td>NaN</td>\n",
       "      <td>NaN</td>\n",
       "      <td>NaN</td>\n",
       "      <td>0</td>\n",
       "      <td>9</td>\n",
       "      <td>2008</td>\n",
       "      <td>WD</td>\n",
       "      <td>Normal</td>\n",
       "      <td>223500</td>\n",
       "    </tr>\n",
       "    <tr>\n",
       "      <th>3</th>\n",
       "      <td>4</td>\n",
       "      <td>70</td>\n",
       "      <td>RL</td>\n",
       "      <td>60.0</td>\n",
       "      <td>9550</td>\n",
       "      <td>Pave</td>\n",
       "      <td>NaN</td>\n",
       "      <td>IR1</td>\n",
       "      <td>Lvl</td>\n",
       "      <td>AllPub</td>\n",
       "      <td>...</td>\n",
       "      <td>0</td>\n",
       "      <td>NaN</td>\n",
       "      <td>NaN</td>\n",
       "      <td>NaN</td>\n",
       "      <td>0</td>\n",
       "      <td>2</td>\n",
       "      <td>2006</td>\n",
       "      <td>WD</td>\n",
       "      <td>Abnorml</td>\n",
       "      <td>140000</td>\n",
       "    </tr>\n",
       "    <tr>\n",
       "      <th>4</th>\n",
       "      <td>5</td>\n",
       "      <td>60</td>\n",
       "      <td>RL</td>\n",
       "      <td>84.0</td>\n",
       "      <td>14260</td>\n",
       "      <td>Pave</td>\n",
       "      <td>NaN</td>\n",
       "      <td>IR1</td>\n",
       "      <td>Lvl</td>\n",
       "      <td>AllPub</td>\n",
       "      <td>...</td>\n",
       "      <td>0</td>\n",
       "      <td>NaN</td>\n",
       "      <td>NaN</td>\n",
       "      <td>NaN</td>\n",
       "      <td>0</td>\n",
       "      <td>12</td>\n",
       "      <td>2008</td>\n",
       "      <td>WD</td>\n",
       "      <td>Normal</td>\n",
       "      <td>250000</td>\n",
       "    </tr>\n",
       "  </tbody>\n",
       "</table>\n",
       "<p>5 rows × 81 columns</p>\n",
       "</div>"
      ],
      "text/plain": [
       "   Id  MSSubClass MSZoning  LotFrontage  LotArea Street Alley LotShape  \\\n",
       "0   1          60       RL         65.0     8450   Pave   NaN      Reg   \n",
       "1   2          20       RL         80.0     9600   Pave   NaN      Reg   \n",
       "2   3          60       RL         68.0    11250   Pave   NaN      IR1   \n",
       "3   4          70       RL         60.0     9550   Pave   NaN      IR1   \n",
       "4   5          60       RL         84.0    14260   Pave   NaN      IR1   \n",
       "\n",
       "  LandContour Utilities  ... PoolArea PoolQC Fence MiscFeature MiscVal MoSold  \\\n",
       "0         Lvl    AllPub  ...        0    NaN   NaN         NaN       0      2   \n",
       "1         Lvl    AllPub  ...        0    NaN   NaN         NaN       0      5   \n",
       "2         Lvl    AllPub  ...        0    NaN   NaN         NaN       0      9   \n",
       "3         Lvl    AllPub  ...        0    NaN   NaN         NaN       0      2   \n",
       "4         Lvl    AllPub  ...        0    NaN   NaN         NaN       0     12   \n",
       "\n",
       "  YrSold  SaleType  SaleCondition  SalePrice  \n",
       "0   2008        WD         Normal     208500  \n",
       "1   2007        WD         Normal     181500  \n",
       "2   2008        WD         Normal     223500  \n",
       "3   2006        WD        Abnorml     140000  \n",
       "4   2008        WD         Normal     250000  \n",
       "\n",
       "[5 rows x 81 columns]"
      ]
     },
     "execution_count": 5,
     "metadata": {},
     "output_type": "execute_result"
    }
   ],
   "source": [
    "housing_raw.head()"
   ]
  },
  {
   "cell_type": "markdown",
   "metadata": {},
   "source": [
    " "
   ]
  },
  {
   "cell_type": "markdown",
   "metadata": {},
   "source": [
    "Looks like this data set has 1460 data points and 81 columns. Looking at the column names, it appears that the month and year of sale for each property has been split into two columns. Let's combine those to a single datetime column."
   ]
  },
  {
   "cell_type": "markdown",
   "metadata": {},
   "source": [
    " "
   ]
  },
  {
   "cell_type": "code",
   "execution_count": 6,
   "metadata": {},
   "outputs": [],
   "source": [
    "# Combining MoSold and YrSold to new Datetime column YrMoSold, dropping MoSold and YrSold Columns\n",
    "housing_clean = housing_raw\n",
    "housing_clean[['YrSold', 'MoSold']] = housing_clean[['YrSold', 'MoSold']].astype('str')\n",
    "housing_clean['YrMoSold'] = housing_clean['YrSold'].str.cat(housing_clean['MoSold'],sep='-')\n",
    "housing_clean['YrMoSold'] = pd.to_datetime(housing_clean['YrMoSold'], format='%Y-%m')\n",
    "housing_clean = housing_clean.drop(labels=['MoSold', 'YrSold'], axis=1)"
   ]
  },
  {
   "cell_type": "markdown",
   "metadata": {},
   "source": [
    " "
   ]
  },
  {
   "cell_type": "markdown",
   "metadata": {},
   "source": [
    "Now that I have combined the property closing dates into one column, let's take a look at how much data each column is missing:"
   ]
  },
  {
   "cell_type": "markdown",
   "metadata": {},
   "source": [
    " "
   ]
  },
  {
   "cell_type": "code",
   "execution_count": 7,
   "metadata": {},
   "outputs": [
    {
     "data": {
      "text/html": [
       "<div>\n",
       "<style scoped>\n",
       "    .dataframe tbody tr th:only-of-type {\n",
       "        vertical-align: middle;\n",
       "    }\n",
       "\n",
       "    .dataframe tbody tr th {\n",
       "        vertical-align: top;\n",
       "    }\n",
       "\n",
       "    .dataframe thead th {\n",
       "        text-align: right;\n",
       "    }\n",
       "</style>\n",
       "<table border=\"1\" class=\"dataframe\">\n",
       "  <thead>\n",
       "    <tr style=\"text-align: right;\">\n",
       "      <th></th>\n",
       "      <th>count</th>\n",
       "      <th>%</th>\n",
       "    </tr>\n",
       "  </thead>\n",
       "  <tbody>\n",
       "    <tr>\n",
       "      <th>PoolQC</th>\n",
       "      <td>1453</td>\n",
       "      <td>99.52</td>\n",
       "    </tr>\n",
       "    <tr>\n",
       "      <th>MiscFeature</th>\n",
       "      <td>1406</td>\n",
       "      <td>96.30</td>\n",
       "    </tr>\n",
       "    <tr>\n",
       "      <th>Alley</th>\n",
       "      <td>1369</td>\n",
       "      <td>93.77</td>\n",
       "    </tr>\n",
       "    <tr>\n",
       "      <th>Fence</th>\n",
       "      <td>1179</td>\n",
       "      <td>80.75</td>\n",
       "    </tr>\n",
       "    <tr>\n",
       "      <th>FireplaceQu</th>\n",
       "      <td>690</td>\n",
       "      <td>47.26</td>\n",
       "    </tr>\n",
       "    <tr>\n",
       "      <th>LotFrontage</th>\n",
       "      <td>259</td>\n",
       "      <td>17.74</td>\n",
       "    </tr>\n",
       "    <tr>\n",
       "      <th>GarageType</th>\n",
       "      <td>81</td>\n",
       "      <td>5.55</td>\n",
       "    </tr>\n",
       "    <tr>\n",
       "      <th>GarageYrBlt</th>\n",
       "      <td>81</td>\n",
       "      <td>5.55</td>\n",
       "    </tr>\n",
       "    <tr>\n",
       "      <th>GarageFinish</th>\n",
       "      <td>81</td>\n",
       "      <td>5.55</td>\n",
       "    </tr>\n",
       "    <tr>\n",
       "      <th>GarageQual</th>\n",
       "      <td>81</td>\n",
       "      <td>5.55</td>\n",
       "    </tr>\n",
       "    <tr>\n",
       "      <th>GarageCond</th>\n",
       "      <td>81</td>\n",
       "      <td>5.55</td>\n",
       "    </tr>\n",
       "    <tr>\n",
       "      <th>BsmtExposure</th>\n",
       "      <td>38</td>\n",
       "      <td>2.60</td>\n",
       "    </tr>\n",
       "    <tr>\n",
       "      <th>BsmtFinType2</th>\n",
       "      <td>38</td>\n",
       "      <td>2.60</td>\n",
       "    </tr>\n",
       "    <tr>\n",
       "      <th>BsmtQual</th>\n",
       "      <td>37</td>\n",
       "      <td>2.53</td>\n",
       "    </tr>\n",
       "    <tr>\n",
       "      <th>BsmtCond</th>\n",
       "      <td>37</td>\n",
       "      <td>2.53</td>\n",
       "    </tr>\n",
       "    <tr>\n",
       "      <th>BsmtFinType1</th>\n",
       "      <td>37</td>\n",
       "      <td>2.53</td>\n",
       "    </tr>\n",
       "    <tr>\n",
       "      <th>MasVnrType</th>\n",
       "      <td>8</td>\n",
       "      <td>0.55</td>\n",
       "    </tr>\n",
       "    <tr>\n",
       "      <th>MasVnrArea</th>\n",
       "      <td>8</td>\n",
       "      <td>0.55</td>\n",
       "    </tr>\n",
       "    <tr>\n",
       "      <th>Electrical</th>\n",
       "      <td>1</td>\n",
       "      <td>0.07</td>\n",
       "    </tr>\n",
       "  </tbody>\n",
       "</table>\n",
       "</div>"
      ],
      "text/plain": [
       "              count      %\n",
       "PoolQC         1453  99.52\n",
       "MiscFeature    1406  96.30\n",
       "Alley          1369  93.77\n",
       "Fence          1179  80.75\n",
       "FireplaceQu     690  47.26\n",
       "LotFrontage     259  17.74\n",
       "GarageType       81   5.55\n",
       "GarageYrBlt      81   5.55\n",
       "GarageFinish     81   5.55\n",
       "GarageQual       81   5.55\n",
       "GarageCond       81   5.55\n",
       "BsmtExposure     38   2.60\n",
       "BsmtFinType2     38   2.60\n",
       "BsmtQual         37   2.53\n",
       "BsmtCond         37   2.53\n",
       "BsmtFinType1     37   2.53\n",
       "MasVnrType        8   0.55\n",
       "MasVnrArea        8   0.55\n",
       "Electrical        1   0.07"
      ]
     },
     "execution_count": 7,
     "metadata": {},
     "output_type": "execute_result"
    }
   ],
   "source": [
    "# Count and percentage of missing data in columns\n",
    "missing = pd.concat([housing_clean.isnull().sum(), 100 * housing_clean.isnull().mean().round(4)], axis=1)\n",
    "missing.columns=['count', '%']\n",
    "missing_values = missing.sort_values(by=['count', '%'], ascending=False)\n",
    "cols_missing = missing_values.loc[missing_values['count'] != 0.00]\n",
    "cols_missing"
   ]
  },
  {
   "cell_type": "markdown",
   "metadata": {},
   "source": [
    " "
   ]
  },
  {
   "cell_type": "markdown",
   "metadata": {},
   "source": [
    "Looks like a lot of properties in Ames, Iowa don't have a pool, alley, or a fence. But what are the other miscellaneous features that a lot of the properties don't have?"
   ]
  },
  {
   "cell_type": "markdown",
   "metadata": {},
   "source": [
    " "
   ]
  },
  {
   "cell_type": "code",
   "execution_count": 8,
   "metadata": {
    "scrolled": true
   },
   "outputs": [
    {
     "name": "stdout",
     "output_type": "stream",
     "text": [
      "['Shed' 'Gar2' 'Othr' 'TenC']\n",
      "     MiscFeature  MiscVal\n",
      "5           Shed      700\n",
      "7           Shed      350\n",
      "16          Shed      700\n",
      "17          Shed      500\n",
      "51          Shed      400\n",
      "84          Shed      700\n",
      "95          Shed      480\n",
      "98          Shed      400\n",
      "99          Shed      400\n",
      "106         Shed      450\n",
      "214         Shed      450\n",
      "249         Shed      500\n",
      "250         Shed      450\n",
      "335         Shed      700\n",
      "338         Shed      400\n",
      "346         Gar2    15500\n",
      "392         Shed     1200\n",
      "439         Shed      800\n",
      "499         Shed      480\n",
      "502         Shed      400\n",
      "510         Shed     2000\n",
      "539         Shed     2000\n",
      "589         Shed      600\n",
      "611         Shed      500\n",
      "626         Shed      600\n",
      "634         Shed      600\n",
      "705         Othr     3500\n",
      "725         Shed      500\n",
      "733         Shed      400\n",
      "760         Shed      450\n",
      "766         Shed      500\n",
      "767         Shed     1300\n",
      "786         Shed     1200\n",
      "794         Shed      500\n",
      "800         Shed      400\n",
      "812         Shed       54\n",
      "813         Shed      500\n",
      "867         Shed      400\n",
      "873         Othr        0\n",
      "878         Shed      400\n",
      "890         Shed     2000\n",
      "912         Shed      620\n",
      "953         Shed      400\n",
      "1061        Shed      560\n",
      "1076        Shed      500\n",
      "1083        Shed      700\n",
      "1171        Shed     1400\n",
      "1200        Shed        0\n",
      "1210        Shed      400\n",
      "1230        Gar2     8300\n",
      "1252        Shed      600\n",
      "1328        Shed     1150\n",
      "1386        TenC     2000\n",
      "1457        Shed     2500\n"
     ]
    }
   ],
   "source": [
    "# Miscellaneous features and their monetary values\n",
    "misc_features = housing_clean[['MiscFeature', 'MiscVal']].dropna()\n",
    "print(misc_features['MiscFeature'].unique())\n",
    "print(misc_features)"
   ]
  },
  {
   "cell_type": "markdown",
   "metadata": {},
   "source": [
    " "
   ]
  },
  {
   "cell_type": "markdown",
   "metadata": {},
   "source": [
    "Okay, Miscellaneous features, in this case, primarily refer to sheds and additional garages. Good to know!  \n",
    "Now, I noticed that the column SalePrice was not included in the missing value counts! But before I get too happy about having all the data for that, let's take a look at the values in that column to make sure that the sale prices are truly all there.\n",
    "To do so, I will take a look at the lowest sale prices as well as the condition they were sold under. "
   ]
  },
  {
   "cell_type": "markdown",
   "metadata": {},
   "source": [
    " "
   ]
  },
  {
   "cell_type": "code",
   "execution_count": 9,
   "metadata": {},
   "outputs": [
    {
     "data": {
      "text/html": [
       "<div>\n",
       "<style scoped>\n",
       "    .dataframe tbody tr th:only-of-type {\n",
       "        vertical-align: middle;\n",
       "    }\n",
       "\n",
       "    .dataframe tbody tr th {\n",
       "        vertical-align: top;\n",
       "    }\n",
       "\n",
       "    .dataframe thead th {\n",
       "        text-align: right;\n",
       "    }\n",
       "</style>\n",
       "<table border=\"1\" class=\"dataframe\">\n",
       "  <thead>\n",
       "    <tr style=\"text-align: right;\">\n",
       "      <th></th>\n",
       "      <th>SaleCondition</th>\n",
       "      <th>SalePrice</th>\n",
       "    </tr>\n",
       "  </thead>\n",
       "  <tbody>\n",
       "    <tr>\n",
       "      <th>30</th>\n",
       "      <td>Normal</td>\n",
       "      <td>40000</td>\n",
       "    </tr>\n",
       "    <tr>\n",
       "      <th>495</th>\n",
       "      <td>Abnorml</td>\n",
       "      <td>34900</td>\n",
       "    </tr>\n",
       "    <tr>\n",
       "      <th>533</th>\n",
       "      <td>Normal</td>\n",
       "      <td>39300</td>\n",
       "    </tr>\n",
       "    <tr>\n",
       "      <th>916</th>\n",
       "      <td>Abnorml</td>\n",
       "      <td>35311</td>\n",
       "    </tr>\n",
       "    <tr>\n",
       "      <th>968</th>\n",
       "      <td>Abnorml</td>\n",
       "      <td>37900</td>\n",
       "    </tr>\n",
       "  </tbody>\n",
       "</table>\n",
       "</div>"
      ],
      "text/plain": [
       "    SaleCondition  SalePrice\n",
       "30         Normal      40000\n",
       "495       Abnorml      34900\n",
       "533        Normal      39300\n",
       "916       Abnorml      35311\n",
       "968       Abnorml      37900"
      ]
     },
     "execution_count": 9,
     "metadata": {},
     "output_type": "execute_result"
    }
   ],
   "source": [
    "# Lowest sales prices\n",
    "lowest_final_price = housing_clean.loc[housing_clean.SalePrice < 50000]\n",
    "lowest_final_price[['SaleCondition', 'SalePrice']]"
   ]
  },
  {
   "cell_type": "code",
   "execution_count": 10,
   "metadata": {},
   "outputs": [
    {
     "name": "stdout",
     "output_type": "stream",
     "text": [
      "{\"Name\":{\"78\":\"SaleCondition\"},\"Description\":{\"78\":\"Condition of sale\"},\"Notes\":{\"78\":\"       Normal:Normal Sale       Abnorml:Abnormal Sale -  trade, foreclosure, short sale       AdjLand:Adjoining Land Purchase       Alloca:Allocation - two linked properties with separate deeds, typically condo with a garage unit:       Family:Sale between family members       Partial:Home was not completed when last assessed (associated with New Homes)\"}}\n"
     ]
    }
   ],
   "source": [
    "# checking against data dictionary to see what Sale Condition Abnormal means\n",
    "row = data_dict_df[data_dict_df['Name'] == 'SaleCondition']\n",
    "print(row.to_json())"
   ]
  },
  {
   "cell_type": "markdown",
   "metadata": {},
   "source": [
    " "
   ]
  },
  {
   "cell_type": "markdown",
   "metadata": {},
   "source": [
    "Cool! All our properties have Sale prices!\n",
    "Okay, then there's only one more thing I want to clean up before I'm done here. Remember the data dictionary I created in the beginning? All the columns in that data dictionary indicate categorical data. I will use the data dictionary to parse over my data to change the dtype of those columns to objects."
   ]
  },
  {
   "cell_type": "markdown",
   "metadata": {},
   "source": [
    " "
   ]
  },
  {
   "cell_type": "code",
   "execution_count": 11,
   "metadata": {},
   "outputs": [
    {
     "name": "stdout",
     "output_type": "stream",
     "text": [
      "<class 'pandas.core.frame.DataFrame'>\n",
      "RangeIndex: 1460 entries, 0 to 1459\n",
      "Data columns (total 80 columns):\n",
      " #   Column         Non-Null Count  Dtype         \n",
      "---  ------         --------------  -----         \n",
      " 0   Id             1460 non-null   object        \n",
      " 1   MSSubClass     1460 non-null   object        \n",
      " 2   MSZoning       1460 non-null   object        \n",
      " 3   Street         1460 non-null   object        \n",
      " 4   Alley          91 non-null     object        \n",
      " 5   LotShape       1460 non-null   object        \n",
      " 6   LandContour    1460 non-null   object        \n",
      " 7   Utilities      1460 non-null   object        \n",
      " 8   LotConfig      1460 non-null   object        \n",
      " 9   LandSlope      1460 non-null   object        \n",
      " 10  Neighborhood   1460 non-null   object        \n",
      " 11  Condition1     1460 non-null   object        \n",
      " 12  Condition2     1460 non-null   object        \n",
      " 13  BldgType       1460 non-null   object        \n",
      " 14  HouseStyle     1460 non-null   object        \n",
      " 15  OverallQual    1460 non-null   object        \n",
      " 16  OverallCond    1460 non-null   object        \n",
      " 17  RoofStyle      1460 non-null   object        \n",
      " 18  RoofMatl       1460 non-null   object        \n",
      " 19  Exterior1st    1460 non-null   object        \n",
      " 20  Exterior2nd    1460 non-null   object        \n",
      " 21  MasVnrType     1452 non-null   object        \n",
      " 22  ExterQual      1460 non-null   object        \n",
      " 23  ExterCond      1460 non-null   object        \n",
      " 24  Foundation     1460 non-null   object        \n",
      " 25  BsmtQual       1423 non-null   object        \n",
      " 26  BsmtCond       1423 non-null   object        \n",
      " 27  BsmtExposure   1422 non-null   object        \n",
      " 28  BsmtFinType1   1423 non-null   object        \n",
      " 29  BsmtFinType2   1422 non-null   object        \n",
      " 30  Heating        1460 non-null   object        \n",
      " 31  HeatingQC      1460 non-null   object        \n",
      " 32  CentralAir     1460 non-null   object        \n",
      " 33  Electrical     1459 non-null   object        \n",
      " 34  KitchenQual    1460 non-null   object        \n",
      " 35  Functional     1460 non-null   object        \n",
      " 36  FireplaceQu    770 non-null    object        \n",
      " 37  GarageType     1379 non-null   object        \n",
      " 38  GarageFinish   1379 non-null   object        \n",
      " 39  GarageQual     1379 non-null   object        \n",
      " 40  GarageCond     1379 non-null   object        \n",
      " 41  PavedDrive     1460 non-null   object        \n",
      " 42  PoolQC         7 non-null      object        \n",
      " 43  Fence          281 non-null    object        \n",
      " 44  MiscFeature    54 non-null     object        \n",
      " 45  SaleType       1460 non-null   object        \n",
      " 46  SaleCondition  1460 non-null   object        \n",
      " 47  LotFrontage    1201 non-null   float64       \n",
      " 48  LotArea        1460 non-null   int64         \n",
      " 49  YearBuilt      1460 non-null   int64         \n",
      " 50  YearRemodAdd   1460 non-null   int64         \n",
      " 51  MasVnrArea     1452 non-null   float64       \n",
      " 52  BsmtFinSF1     1460 non-null   int64         \n",
      " 53  BsmtFinSF2     1460 non-null   int64         \n",
      " 54  BsmtUnfSF      1460 non-null   int64         \n",
      " 55  TotalBsmtSF    1460 non-null   int64         \n",
      " 56  1stFlrSF       1460 non-null   int64         \n",
      " 57  2ndFlrSF       1460 non-null   int64         \n",
      " 58  LowQualFinSF   1460 non-null   int64         \n",
      " 59  GrLivArea      1460 non-null   int64         \n",
      " 60  BsmtFullBath   1460 non-null   int64         \n",
      " 61  BsmtHalfBath   1460 non-null   int64         \n",
      " 62  FullBath       1460 non-null   int64         \n",
      " 63  HalfBath       1460 non-null   int64         \n",
      " 64  BedroomAbvGr   1460 non-null   int64         \n",
      " 65  KitchenAbvGr   1460 non-null   int64         \n",
      " 66  TotRmsAbvGrd   1460 non-null   int64         \n",
      " 67  Fireplaces     1460 non-null   int64         \n",
      " 68  GarageYrBlt    1379 non-null   float64       \n",
      " 69  GarageCars     1460 non-null   int64         \n",
      " 70  GarageArea     1460 non-null   int64         \n",
      " 71  WoodDeckSF     1460 non-null   int64         \n",
      " 72  OpenPorchSF    1460 non-null   int64         \n",
      " 73  EnclosedPorch  1460 non-null   int64         \n",
      " 74  3SsnPorch      1460 non-null   int64         \n",
      " 75  ScreenPorch    1460 non-null   int64         \n",
      " 76  PoolArea       1460 non-null   int64         \n",
      " 77  MiscVal        1460 non-null   int64         \n",
      " 78  SalePrice      1460 non-null   int64         \n",
      " 79  YrMoSold       1460 non-null   datetime64[ns]\n",
      "dtypes: datetime64[ns](1), float64(3), int64(29), object(47)\n",
      "memory usage: 912.6+ KB\n"
     ]
    }
   ],
   "source": [
    "# Creating list of columns that should have categorical dtype\n",
    "dtype_object = ['Id']\n",
    "for index, row in data_dict_df.iterrows():\n",
    "    if pd.notnull(row[2]):\n",
    "        dtype_object.append(row[0])\n",
    "\n",
    "# Casting correct dtypes for categorical data columns and creating new df for cleaned housing data\n",
    "housing_dtypes_clean = housing_clean[dtype_object].astype('object')\n",
    "housing_clean = housing_dtypes_clean.merge(housing_clean).drop_duplicates(keep='first').reset_index(drop=True)\n",
    "housing_clean.info()"
   ]
  },
  {
   "cell_type": "markdown",
   "metadata": {},
   "source": [
    " "
   ]
  },
  {
   "cell_type": "markdown",
   "metadata": {},
   "source": [
    "There we go! Now I have 1460 data points with 79 property features to work with. 1 datetime column, 32 numerical columns, and 47 object columns. And the sale prices are available for all properties! Yay!\n",
    "Time to save my cleaned data to csv files!"
   ]
  },
  {
   "cell_type": "markdown",
   "metadata": {},
   "source": [
    " "
   ]
  },
  {
   "cell_type": "code",
   "execution_count": 12,
   "metadata": {},
   "outputs": [],
   "source": [
    "# Saving cleaned DFs to new csv files\n",
    "data_dict_df.to_csv('../cs2-housing/documents/data_dictionary.csv')\n",
    "housing_clean.to_csv('../cs2-housing/rawdata/cleaned_data.csv')"
   ]
  },
  {
   "cell_type": "markdown",
   "metadata": {},
   "source": [
    "## __And off we go to do some EDA!__"
   ]
  }
 ],
 "metadata": {
  "kernelspec": {
   "display_name": "Python 3",
   "language": "python",
   "name": "python3"
  },
  "language_info": {
   "codemirror_mode": {
    "name": "ipython",
    "version": 3
   },
   "file_extension": ".py",
   "mimetype": "text/x-python",
   "name": "python",
   "nbconvert_exporter": "python",
   "pygments_lexer": "ipython3",
   "version": "3.7.6"
  }
 },
 "nbformat": 4,
 "nbformat_minor": 4
}
